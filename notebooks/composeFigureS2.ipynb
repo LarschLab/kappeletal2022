{
 "cells": [
  {
   "cell_type": "code",
   "execution_count": null,
   "metadata": {},
   "outputs": [],
   "source": [
    "import svgutils.transform as sg\n",
    "import pandas as pd\n",
    "import os"
   ]
  },
  {
   "cell_type": "code",
   "execution_count": null,
   "metadata": {},
   "outputs": [],
   "source": [
    "propsFn='props.csv'\n",
    "props=pd.read_csv(propsFn, header=None, index_col=0, squeeze=True,delim_whitespace=True).to_dict()\n",
    "\n",
    "base=props['BaseDir']\n",
    "artDir=props['ArtDir']\n",
    "outputDir = props['outputDir']\n",
    "RawDataDir = props['RawDataDir']+'behavior\\\\'\n",
    "ProcessingDir = props['ProcessingDir']\n",
    "outputDir = props['outputDir']\n",
    "FigureDir=props['FigureDir']\n",
    "\n",
    "props"
   ]
  },
  {
   "cell_type": "code",
   "execution_count": null,
   "metadata": {},
   "outputs": [],
   "source": [
    "fo3=FigureDir+'FigureS2.svg'\n",
    "\n",
    "f1=FigureDir+'juvcFosCort.svg'\n",
    "f2=FigureDir+'hcr_allQuant2_norm_sort.svg'\n",
    "f9=FigureDir+'hcr_cfosOrthoAndOverlay.svg'\n",
    "f10=FigureDir+'hcr_cfosDTcounts.svg'"
   ]
  },
  {
   "cell_type": "code",
   "execution_count": null,
   "metadata": {},
   "outputs": [],
   "source": [
    "from svgutils.compose import *\n",
    "\n",
    "Figure(\"19cm\", \"20cm\", \n",
    "        Panel(\n",
    "              SVG(f1).move(20, 0),\n",
    "              Text(\"a\", 5, 5, size=12, weight='bold')\n",
    "             ).move(0, 20),\n",
    "        Panel(\n",
    "              SVG(f10).scale(1).move(0,0),\n",
    "              Text(\"\", 10, 0, size=12, weight='bold')\n",
    "             ).move(250, 200), \n",
    "        Panel(\n",
    "              SVG(f9).scale(1).move(20,30),\n",
    "              Text(\"b\", 10, 0, size=12, weight='bold'),\n",
    "                #Text(\"DT: Dorsal thalamus\", 10, 30, size=8)\n",
    "             ).move(0, 400-230),  \n",
    "       \n",
    "        Panel(\n",
    "              SVG(f2).move(5,10),\n",
    "              Text(\"c\", 5, 5, size=12, weight='bold')\n",
    "             ).move(0, 470),\n",
    "\n",
    "        Text(\"Figure S2\", 5, 0, size=12, weight='bold'),\n",
    "\n",
    "        ).move(5,20).save(fo3)"
   ]
  },
  {
   "cell_type": "code",
   "execution_count": null,
   "metadata": {},
   "outputs": [],
   "source": []
  },
  {
   "cell_type": "code",
   "execution_count": null,
   "metadata": {},
   "outputs": [],
   "source": []
  }
 ],
 "metadata": {
  "kernelspec": {
   "display_name": "Python 3 (ipykernel)",
   "language": "python",
   "name": "python3"
  },
  "language_info": {
   "codemirror_mode": {
    "name": "ipython",
    "version": 3
   },
   "file_extension": ".py",
   "mimetype": "text/x-python",
   "name": "python",
   "nbconvert_exporter": "python",
   "pygments_lexer": "ipython3",
   "version": "3.9.6"
  }
 },
 "nbformat": 4,
 "nbformat_minor": 1
}
