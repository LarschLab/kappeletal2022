{
 "cells": [
  {
   "cell_type": "markdown",
   "id": "cd584c8a",
   "metadata": {},
   "source": [
    "# generate all figure panels for cFos and behavior analysis\n",
    "## for GCaMP analysis, see separate set of notebooks\n",
    "\n",
    "make sure to set paths first:\n",
    "\n",
    "download the raw data first from here: https://doi.org/10.17617/3.2QCFQP\n",
    "\n",
    "unzip the rawData files into a root folder such as 'kappelData', like so:\n",
    "\n",
    "- kappelData\n",
    "   - Raw Data\n",
    "       - behavior\n",
    "       - HCR\n",
    "       - masks\n",
    "\n",
    "and adjust the 3 paths to the data in the props.csv file in the 'notebooks' folder from the repository.\n"
   ]
  },
  {
   "cell_type": "code",
   "execution_count": null,
   "id": "a8b00fd2",
   "metadata": {},
   "outputs": [],
   "source": [
    "import os\n",
    "\n",
    "if 'startDirMaster' not in locals():\n",
    "    \n",
    "    startDirMaster=os.getcwd()\n",
    "    print('setting startDirMaster to ', startDirMaster)\n",
    "else:\n",
    "    print('startDirMaster already set to', startDirMaster)"
   ]
  },
  {
   "cell_type": "markdown",
   "id": "a16cbbdb",
   "metadata": {},
   "source": [
    "# Figure 1 and S1,S2"
   ]
  },
  {
   "cell_type": "code",
   "execution_count": null,
   "id": "c06af5cd",
   "metadata": {},
   "outputs": [],
   "source": [
    "%run ./hcr_cfos_all-rev2-clean-Repo.ipynb\n",
    "os.chdir(startDirMaster)"
   ]
  },
  {
   "cell_type": "code",
   "execution_count": null,
   "id": "c443a3b4",
   "metadata": {},
   "outputs": [],
   "source": [
    "%run ./2021_02_cFosWT_behavior.ipynb\n",
    "os.chdir(startDirMaster)\n"
   ]
  },
  {
   "cell_type": "markdown",
   "id": "cdfc8355",
   "metadata": {},
   "source": [
    "# Figure 4 (behavior) and S7"
   ]
  },
  {
   "cell_type": "code",
   "execution_count": null,
   "id": "32d90e09",
   "metadata": {},
   "outputs": [],
   "source": [
    "%run ./2021_05_81cNTR_free.ipynb\n",
    "os.chdir(startDirMaster)"
   ]
  },
  {
   "cell_type": "code",
   "execution_count": null,
   "id": "b189ec9e",
   "metadata": {},
   "outputs": [],
   "source": [
    "%run ./20211124_AllAblationAnalysis.ipynb\n",
    "os.chdir(startDirMaster)"
   ]
  },
  {
   "cell_type": "code",
   "execution_count": null,
   "id": "66185f20",
   "metadata": {},
   "outputs": [],
   "source": [
    "%run ./20171206_TectumMTZ_sizeTune_paper.ipynb\n",
    "os.chdir(startDirMaster)"
   ]
  },
  {
   "cell_type": "markdown",
   "id": "5dd4457d",
   "metadata": {},
   "source": [
    "# composite figures"
   ]
  },
  {
   "cell_type": "code",
   "execution_count": null,
   "id": "0ab42d67",
   "metadata": {},
   "outputs": [],
   "source": [
    "%run ./composeFigure1.ipynb\n",
    "%run ./composeFigure4-_behavior.ipynb\n",
    "%run ./composeFigureS2.ipynb\n",
    "%run ./composeFigureS7_rev1.ipynb"
   ]
  }
 ],
 "metadata": {
  "kernelspec": {
   "display_name": "Python 3 (ipykernel)",
   "language": "python",
   "name": "python3"
  },
  "language_info": {
   "codemirror_mode": {
    "name": "ipython",
    "version": 3
   },
   "file_extension": ".py",
   "mimetype": "text/x-python",
   "name": "python",
   "nbconvert_exporter": "python",
   "pygments_lexer": "ipython3",
   "version": "3.9.6"
  }
 },
 "nbformat": 4,
 "nbformat_minor": 5
}
