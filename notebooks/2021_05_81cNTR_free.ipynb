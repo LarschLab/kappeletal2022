{
 "cells": [
  {
   "cell_type": "markdown",
   "metadata": {
    "collapsed": true
   },
   "source": [
    "# Behavior analysis of free swimming pairs\n",
    "## 81c:NTR and controls\n"
   ]
  },
  {
   "cell_type": "markdown",
   "metadata": {},
   "source": []
  },
  {
   "cell_type": "code",
   "execution_count": null,
   "metadata": {},
   "outputs": [],
   "source": [
    "import socket\n",
    "import os\n",
    "import pandas as pd\n",
    "\n",
    "#define folders based on hostName\n",
    "hostName=socket.gethostname()\n",
    "\n",
    "if hostName == 'O1-332': #work laptop\n",
    "    codeDir = 'C:\\\\Users\\\\jlarsch\\\\Documents\\\\jlsocialbehavior'\n",
    "    \n",
    "elif hostName == 'O1-298'or (hostName == 'O1-339'): #work desktop\n",
    "    codeDir = 'C:\\\\Users\\\\jlarsch\\\\Documents\\\\jlsocialbehavior'\n",
    "else:\n",
    "    print('No folders defined for this computer...')\n",
    "\n",
    "if 'NB_path' not in locals():\n",
    "    NB_path = os.getcwd()\n",
    "else:\n",
    "    os.chdir(NB_path)\n",
    "    \n",
    "propsFn='props.csv'\n",
    "props=pd.read_csv(propsFn, header=None, index_col=0, squeeze=True,delim_whitespace=True).to_dict()\n",
    "\n",
    "base=props['BaseDir']\n",
    "artDir=props['ArtDir']\n",
    "outputDir = props['outputDir']\n",
    "RawDataDir = props['RawDataDir']+'behavior\\\\'\n",
    "ProcessingDir = props['ProcessingDir']\n",
    "outputDir = props['outputDir']\n",
    "FigureDir=props['FigureDir']\n",
    "\n",
    "expFile=props['allExpBehFn']\n",
    "anFile=props['allAnBehFn']\n",
    "\n",
    "\n",
    "props\n",
    "print('Notebook was last executed on computer: '+hostName)\n",
    "print('baseFolder = ' + base)\n",
    "\n",
    "\n",
    "\n",
    "os.chdir(codeDir)\n",
    "props"
   ]
  },
  {
   "cell_type": "code",
   "execution_count": null,
   "metadata": {},
   "outputs": [],
   "source": [
    "%config InteractiveShellApp.pylab_import_all = False\n",
    "%matplotlib inline\n",
    "%pylab inline\n",
    "%reload_ext autoreload\n",
    "%autoreload 2\n",
    "\n",
    "import sys\n",
    "import fnmatch\n",
    "import numpy as np\n",
    "import math\n",
    "import matplotlib.pyplot as plt\n",
    "import pandas as pd\n",
    "from pandas import DataFrame, Series\n",
    "import seaborn as sns\n",
    "import glob\n",
    "from datetime import datetime\n",
    "from scipy import stats\n",
    "import statsmodels.stats.api as sms\n",
    "\n",
    "import functions.matrixUtilities_joh as mu\n",
    "import functions.notebookHelper as nh\n",
    "import matplotlib.pyplot as plt\n",
    "import models.experiment as xp\n",
    "import models.experiment_set as es\n",
    "import functions.paperFigureProps as pfp\n",
    "#import functions.peakdet as pkd\n",
    "#import functions.metaTree as mt\n",
    "\n",
    "\n",
    "pfp.paper()\n",
    "plt.rcParams['svg.fonttype'] = 'none'\n",
    "inToCm=2.54"
   ]
  },
  {
   "cell_type": "code",
   "execution_count": null,
   "metadata": {},
   "outputs": [],
   "source": [
    "expFile"
   ]
  },
  {
   "cell_type": "code",
   "execution_count": null,
   "metadata": {},
   "outputs": [],
   "source": [
    "info=pd.read_excel(expFile)\n",
    "ix=(info.stimulusProtocol=='81cNTR_free')#&(info.date.isin(['2019-08-05','2019-08-06','2019-09-25','2019-10-04']))\n",
    "info=info[ix].reset_index(drop=True)\n",
    "info"
   ]
  },
  {
   "cell_type": "code",
   "execution_count": null,
   "metadata": {},
   "outputs": [],
   "source": [
    "infoAn=pd.read_excel(anFile)\n",
    "infoAn.tail()"
   ]
  },
  {
   "cell_type": "code",
   "execution_count": null,
   "metadata": {},
   "outputs": [],
   "source": [
    "# collect meta information and save to new csv file for batch processing\n",
    "\n",
    "aviPath=[]\n",
    "posPath=[]\n",
    "PLPath=[]\n",
    "expTime = []\n",
    "birthDayAll=[]\n",
    "anIDsAll=[]\n",
    "camHeightAll=[]\n",
    "\n",
    "camHeight=[105,180] #for arena up,dn\n",
    "\n",
    "for index,row in info.iterrows():\n",
    "\n",
    "    startDir=RawDataDir+row.path+'\\\\'\n",
    "    if not os.path.isdir(startDir):\n",
    "        startDir=RawAlt+row.path+'\\\\'\n",
    "    if not os.path.isdir(startDir):\n",
    "        startDir=RawAlt2+row.path+'\\\\'\n",
    "        #print(index,startDir)\n",
    "    \n",
    "    posPath.append(glob.glob(startDir+'PositionTxt*.txt')[0])\n",
    "    PLPath.append(glob.glob(startDir+'PL*.txt')[0])\n",
    "    \n",
    "    head, tail = os.path.split(posPath[-1])\n",
    "    currTime=datetime.strptime(tail[-23:-4], '%Y-%m-%dT%H_%M_%S')\n",
    "    expTime.append(currTime)\n",
    "    \n",
    "    camHeightAll.append(camHeight[('_dn_' in head)*1])\n",
    "    \n",
    "    anNrs=row.anNr #Note that anNrs are 1 based!\n",
    "    if ':' in anNrs:\n",
    "        a,b=anNrs.split(sep=':')\n",
    "        anNrs=np.arange(int(a),int(b)+1)\n",
    "    else:\n",
    "        anNrs=np.array(anNrs.split()).astype(int)\n",
    "        \n",
    "    anIDs=anNrs #-1 no more 0-based since using pandas merge to find animal numbers\n",
    "    anIDsAll.extend(anIDs)\n",
    "\n",
    "    bd=infoAn[infoAn.anNr.isin(anIDs)].bd.values\n",
    "    #bd=infoAn.bd.values[anIDs-1] #a bit dirty to use anIDs directly here. Should merge\n",
    "    birthDayAll.append(' '.join(list(bd)))\n",
    "\n",
    "info['camHeight']=camHeightAll\n",
    "info['txtPath']=posPath\n",
    "info['pairList']=PLPath\n",
    "info['aviPath']='default'\n",
    "info['birthDayAll']=birthDayAll\n",
    "info['epiDur'] = 5      # duration of individual episodes (default: 5 minutes)\n",
    "info['episodes'] = -1   # number of episodes to process: -1 to load all episodes (default: -1)\n",
    "info['inDish'] = 10#np.arange(len(posPath))*120     # time in dish before experiments started (default: 10)\n",
    "info['arenaDiameter_mm'] = 100 # arena diameter (default: 100 mm)\n",
    "info['minShift'] = 120 # minimum number of seconds to shift for control IAD\n",
    "info['episodePLcode'] = 0 # flag if first two characters of episode name encode animal pair matrix (default: 0)\n",
    "info['recomputeAnimalSize'] = 0 # flag to compute animals size from avi file (takes time, default: 1)\n",
    "info['SaveNeighborhoodMaps'] = 1 # flag to save neighborhood maps for subsequent analysis (takes time, default: 1)\n",
    "info['computeLeadership'] = 0 # flag to compute leadership index (takes time, default: 1)\n",
    "info['ComputeBouts'] = 1 # flag to compute swim bout frequency (takes time, default: 1)\n",
    "#info['set'] = np.arange(len(posPath))   # experiment set: can label groups of experiments (default: 0)\n",
    "info['ProcessingDir']=ProcessingDir\n",
    "info['outputDir']=outputDir\n",
    "info['expTime']=expTime\n",
    "info['readLim'] = 54*5*60*30+11"
   ]
  },
  {
   "cell_type": "code",
   "execution_count": null,
   "metadata": {},
   "outputs": [],
   "source": [
    "csvFile=os.path.join(ProcessingDir,'processingSettings.csv')\n",
    "info.to_csv(csvFile,encoding='utf-8')\n",
    "info.tail()"
   ]
  },
  {
   "cell_type": "code",
   "execution_count": null,
   "metadata": {},
   "outputs": [],
   "source": [
    "info.shape"
   ]
  },
  {
   "cell_type": "code",
   "execution_count": null,
   "metadata": {
    "scrolled": false
   },
   "outputs": [],
   "source": [
    "rereadData=1\n",
    "if rereadData:\n",
    "    def readExperiment(keepData=True):\n",
    "        tmp=es.experiment_set(csvFile=csvFile,MissingOnly=True)\n",
    "        if keepData:\n",
    "            return tmp\n",
    "        else:\n",
    "            return 1\n",
    "\n",
    "    expSet=readExperiment(keepData=False)"
   ]
  },
  {
   "cell_type": "code",
   "execution_count": null,
   "metadata": {},
   "outputs": [],
   "source": [
    "csvPath = []\n",
    "for f in [mu.splitall(x)[-1][:-4] for x in info.txtPath]:\n",
    "    csvPath.append(glob.glob(ProcessingDir+f+'*siSummary*.csv')[0])\n",
    "\n",
    "df=pd.DataFrame()\n",
    "i=0\n",
    "for fn in csvPath:\n",
    "    print(fn)\n",
    "    tmp=pd.read_csv(fn,index_col=0,sep=',')\n",
    "    tmp.animalSet=i\n",
    "    tmp.animalIndex=tmp.animalIndex+((i)*35)\n",
    "    tmp.animalIndex=np.array(anIDsAll)[tmp.animalIndex]\n",
    "    df=pd.concat([df,tmp])\n",
    "    i+=1\n",
    "df['episode']=[x.strip().replace('_','') for x in df['episode']]\n",
    "df=pd.merge(df,infoAn[['anNr','line','group']],left_on='animalIndex',right_on='anNr',how='left')\n",
    "df=pd.merge(df,info[['date']],left_on='animalSet',right_on=info.index,how='left')\n",
    "\n",
    "print('df shape',df.shape)\n",
    "df.tail()"
   ]
  },
  {
   "cell_type": "markdown",
   "metadata": {},
   "source": [
    "## Habituation or Fatigue within 20 hours?"
   ]
  },
  {
   "cell_type": "code",
   "execution_count": null,
   "metadata": {},
   "outputs": [],
   "source": [
    "def sem(x):\n",
    "    return np.std(x,axis=0)/np.sqrt(x.shape)\n",
    "\n",
    "x=np.random.random(100)\n",
    "\n",
    "def ci95(x):\n",
    "    return np.nanmean(x)-sms.DescrStatsW(x[np.isfinite(x)]).tconfint_mean()[0]\n",
    "\n",
    "print('std of uniform = 0.2886751345948129. STDdata:',np.std(x), 'semData:',sem(x),'samples:',x.shape) \n",
    "print('ci95:',ci95(x))\n"
   ]
  },
  {
   "cell_type": "markdown",
   "metadata": {},
   "source": [
    "Plot shoaling index during closed loop skype episodes over time."
   ]
  },
  {
   "cell_type": "code",
   "execution_count": null,
   "metadata": {
    "scrolled": false
   },
   "outputs": [],
   "source": [
    "dfPlot=(df.groupby(['inDishTime','group']).si.agg(['mean','std',sem,ci95])\n",
    "    .unstack()\n",
    "    .stack(dropna=True)\n",
    "    .reset_index())\n",
    "\n",
    "dfPlot.head()\n"
   ]
  },
  {
   "cell_type": "code",
   "execution_count": null,
   "metadata": {},
   "outputs": [],
   "source": [
    "fig, axes = plt.subplots(figsize=(6, 3))\n",
    "g=sns.scatterplot(data=dfPlot,x='inDishTime',hue='group',y='mean')\n",
    "plt.xlim([0,5.5*60])\n",
    "plt.ylim([-.05,.6])\n",
    "plt.xlabel('Time (Minutes)')\n",
    "plt.ylabel('Attraction')\n",
    "plt.title('Mean attraction, all animals')\n",
    "#plt.legend(title='Stimulus dot motion')\n",
    "#plt.legend(labels=['Continuous motion','Bout motion','Continuous + loom','Bout + loom'],\n",
    "#          title='Stimulus dot motion')\n",
    "\n",
    "#new_title = 'Stimulus dot motion'\n",
    "#g.legend_.set_title(new_title)\n",
    "# replace labels\n",
    "plt.legend(ncol=1,handletextpad=0,bbox_to_anchor=(1, 1),loc='upper left')\n",
    "\n",
    "\n",
    "sns.despine()\n",
    "\n",
    "figPath=base+'ScreenTimeCourse.png'\n",
    "#plt.savefig(figPath,bbox_inches='tight')\n"
   ]
  },
  {
   "cell_type": "code",
   "execution_count": null,
   "metadata": {},
   "outputs": [],
   "source": [
    "\n",
    "ageSet=info.set.values\n",
    "df['ageSet']=ageSet[df.animalSet]\n",
    "\n",
    "setup=info.path.values\n",
    "\n",
    "\n",
    "setup=np.array([x[22:24] if len(x) > 16 else x[-3:-1] for x in setup])\n",
    "df['setup']=setup[df.animalSet]\n",
    "\n",
    "\n",
    "df.head()\n"
   ]
  },
  {
   "cell_type": "markdown",
   "metadata": {},
   "source": [
    "# Mean response over all stimuli per animal"
   ]
  },
  {
   "cell_type": "code",
   "execution_count": null,
   "metadata": {},
   "outputs": [],
   "source": [
    "df.animalSet.unique()"
   ]
  },
  {
   "cell_type": "code",
   "execution_count": null,
   "metadata": {},
   "outputs": [],
   "source": [
    "sns.set_palette('viridis',3)\n",
    "co=sns.color_palette(\"viridis\", 3)\n",
    "idx=(df['inDishTime']<60) & (df['inDishTime']>0)&(df.episode=='conspecific')&(df.group!='none')\n",
    "dfDR=df[idx]\n",
    "dfEpiAn=dfDR.groupby(['episode','animalIndex','line','setup','group','ageSet','date'],sort=True).mean().reset_index()"
   ]
  },
  {
   "cell_type": "code",
   "execution_count": null,
   "metadata": {},
   "outputs": [],
   "source": [
    "sns.stripplot(data=dfEpiAn,x='group',y='si',zorder=-1,hue='group')\n",
    "sns.pointplot(data=dfEpiAn,x='group',y='si',hue='line',zorder=100,scale=0.2,palette=['gray'])\n",
    "sns.pointplot(data=dfEpiAn,x='group',y='si',join=False,zorder=100)\n",
    "ax=plt.gca()\n",
    "ax.legend_.remove()"
   ]
  },
  {
   "cell_type": "code",
   "execution_count": null,
   "metadata": {},
   "outputs": [],
   "source": [
    "dfEpiAn['lineSet']=[x+'_'+y for x,y in zip(dfEpiAn.line, dfEpiAn.ageSet)]\n",
    "dfEpiAn['lineSetAge']=[x+'_'+y+'_'+z for x,y,z in zip(dfEpiAn.line, dfEpiAn.ageSet, dfEpiAn.age.astype('str'))]"
   ]
  },
  {
   "cell_type": "code",
   "execution_count": null,
   "metadata": {},
   "outputs": [],
   "source": [
    "tmp.reset_index()"
   ]
  },
  {
   "cell_type": "code",
   "execution_count": null,
   "metadata": {},
   "outputs": [],
   "source": [
    "a"
   ]
  },
  {
   "cell_type": "code",
   "execution_count": null,
   "metadata": {},
   "outputs": [],
   "source": [
    "tmp=dfEpiAn.groupby(['animalIndex','group']).si.mean().reset_index()\n",
    "ix=tmp.animalIndex%2==0\n",
    "a=tmp[(tmp.group=='abl')&ix].si\n",
    "b=tmp[(tmp.group=='ctr')&ix].si\n",
    "s,p=stats.ttest_ind(a,b)\n",
    "(s,p)"
   ]
  },
  {
   "cell_type": "code",
   "execution_count": null,
   "metadata": {},
   "outputs": [],
   "source": [
    "def cohen_d(x,y):\n",
    "    nx = len(x)\n",
    "    ny = len(y)\n",
    "    dof = nx + ny - 2\n",
    "    return (np.mean(x) - np.mean(y)) / np.sqrt(((nx-1)*np.std(x, ddof=1) ** 2 + (ny-1)*np.std(y, ddof=1) ** 2) / dof)"
   ]
  },
  {
   "cell_type": "code",
   "execution_count": null,
   "metadata": {},
   "outputs": [],
   "source": [
    "d=cohen_d(a,b)\n",
    "d"
   ]
  },
  {
   "cell_type": "code",
   "execution_count": null,
   "metadata": {},
   "outputs": [],
   "source": [
    "plt.rcParams['svg.fonttype'] = 'none'\n",
    "fig,axes = plt.subplots(figsize=(4/inToCm,10/inToCm))\n",
    "sns.pointplot(data=dfEpiAn,\n",
    "              x='group',\n",
    "              y='si',\n",
    "              #hue='group',\n",
    "              order=['ctr','abl'],\n",
    "              zorder=100,\n",
    "              scale=1,\n",
    "              join=False,\n",
    "             ci='sd',\n",
    "              \n",
    "              color='k',\n",
    "            # dodge=.5\n",
    "             )\n",
    "\n",
    "sns.stripplot(data=dfEpiAn,\n",
    "              x='group',\n",
    "              order=['ctr','abl'],\n",
    "              hue_order=['ctr','abl'],\n",
    "              y='si',\n",
    "              hue='group',\n",
    "              size=4,\n",
    "              zorder=-100,\n",
    "              palette=['k','r'],\n",
    "              alpha=0.5,\n",
    "              label=None,\n",
    "             #dodge=.5\n",
    "             )\n",
    "\n",
    "sns.despine()\n",
    "\n",
    "axes.set_ylim(-.2,.8)\n",
    "axes.set_ylabel('Attraction')\n",
    "axes.axhline(0,ls=':',color='k')\n",
    "#axes.set_title('Attraction per group');\n",
    "l=axes.legend()\n",
    "h,l = axes.get_legend_handles_labels()\n",
    "axes.legend(h, ['Abl','Ctr'][::-1],title='',ncol=1,handletextpad=0,bbox_to_anchor=(.5, .8),\n",
    "          frameon=False)\n",
    "\n",
    "axes.set_xlabel('')\n",
    "axes.set_xticks([])\n",
    "#plt.legend().remove()\n",
    "axes.text(.5,.75,'***')\n",
    "plt.ylim([-.2, .85])\n",
    "#plt.xticks(rotation=90);\n",
    "plt.title('Conspecific')\n",
    "figPath=FigureDir+'5_MTZ_ConspecificShoaling.svg'\n",
    "#plt.savefig(figPath,bbox_inches='tight')"
   ]
  },
  {
   "cell_type": "code",
   "execution_count": null,
   "metadata": {},
   "outputs": [],
   "source": [
    "plt.rcParams['svg.fonttype'] = 'none'\n",
    "fig,axes = plt.subplots(figsize=(1.8/inToCm,4/inToCm))\n",
    "sns.pointplot(data=dfEpiAn,\n",
    "              x='group',\n",
    "              y='si',\n",
    "              #hue='group',\n",
    "              order=['ctr','abl'],\n",
    "              zorder=100,\n",
    "              scale=1,\n",
    "              join=False,\n",
    "             ci='sd',\n",
    "              \n",
    "              color='k',\n",
    "            # dodge=.5\n",
    "             )\n",
    "\n",
    "sns.stripplot(data=dfEpiAn,\n",
    "              x='group',\n",
    "              order=['ctr','abl'],\n",
    "              hue_order=['ctr','abl'],\n",
    "              y='si',\n",
    "              hue='group',\n",
    "              size=4,\n",
    "              zorder=-100,\n",
    "              palette=['k','r'],\n",
    "              alpha=0.5,\n",
    "              label=None,\n",
    "             #dodge=.5\n",
    "             )\n",
    "\n",
    "sns.despine()\n",
    "\n",
    "axes.set_ylim(-.2,.8)\n",
    "axes.set_ylabel('Attraction')\n",
    "axes.axhline(0,ls=':',color='k')\n",
    "#axes.set_title('Attraction per group');\n",
    "l=axes.legend()\n",
    "h,l = axes.get_legend_handles_labels()\n",
    "axes.legend(h, ['Abl','Ctr'][::-1],title='',ncol=1,handletextpad=0,bbox_to_anchor=(.5, .8),\n",
    "          frameon=False)\n",
    "\n",
    "axes.set_xlabel('')\n",
    "axes.set_xticks([])\n",
    "#plt.legend().remove()\n",
    "axes.text(.1,.85,'p=5e-08')\n",
    "axes.text(.1,.73,'d=-5.7')\n",
    "plt.ylim([-.2, .9])\n",
    "#plt.xticks(rotation=90);\n",
    "plt.title('Conspecific')\n",
    "figPath=FigureDir+'5_MTZ_ConspecificShoaling.svg'\n",
    "plt.savefig(figPath,bbox_inches='tight')"
   ]
  },
  {
   "cell_type": "code",
   "execution_count": null,
   "metadata": {},
   "outputs": [],
   "source": [
    "#Note: each animal is plotted here, not pairs.\n",
    "\n",
    "dfEpiAn[['animalIndex','line','group','si']].to_csv(FigureDir+'SourceDataS7d.csv')\n",
    "dfEpiAn[['animalIndex','line','group','si']]"
   ]
  },
  {
   "cell_type": "code",
   "execution_count": null,
   "metadata": {},
   "outputs": [],
   "source": [
    "h"
   ]
  },
  {
   "cell_type": "code",
   "execution_count": null,
   "metadata": {
    "scrolled": false
   },
   "outputs": [],
   "source": [
    "fig, axes = plt.subplots(figsize=(2, 3))\n",
    "ix=(dfEpiAn.episode=='02k20f')#&(~dfEpiAn.lineSet.str.contains('_2_'))\n",
    "\n",
    "selDat=dfEpiAn\n",
    "\n",
    "allCat=selDat.lineSet.unique()\n",
    "allCat.sort()\n",
    "allCat=allCat[::-1]\n",
    "\n",
    "sns.swarmplot(data=selDat,\n",
    "              x='lineSetAge',\n",
    "              y='si',\n",
    "              hue='group',\n",
    "              zorder=-1,\n",
    "              dodge=.5,\n",
    "              size=5,\n",
    "              alpha=.5,\n",
    "              #order=allCat,\n",
    "              #hue_order=[\"hi\", \"lo\"],\n",
    "             )\n",
    "\n",
    "sns.pointplot(data=selDat,\n",
    "              x='lineSetAge',\n",
    "              y='si',\n",
    "              hue='group',\n",
    "              zorder=1000,\n",
    "              dodge=.5,\n",
    "              join=False,\n",
    "              color='k',\n",
    "              #order=allCat,\n",
    "              ci='sd',\n",
    "              legend=None,\n",
    "              #hue_order=[\"hi\", \"lo\"],\n",
    "             )\n",
    "\n",
    "\n",
    "sns.despine()\n",
    "\n",
    "axes.set_ylabel('Attraction')\n",
    "axes.set_xticklabels('')\n",
    "axes.set_xticks([])\n",
    "axes.set_xlabel('')\n",
    "\n",
    "\n",
    "axes.axhline(0,ls=':',color='k')\n",
    "#axes.set_title('Selection F1');\n",
    "\n",
    "#plt.xticks(rotation=90);\n",
    "\n",
    "handles, labels = axes.get_legend_handles_labels()\n",
    "\n",
    "l = plt.legend(handles[0:4], labels[0:4], title='Stimulus',ncol=1,handletextpad=0,\n",
    "               bbox_to_anchor=(1, 1.05),\n",
    "              frameon=False)\n",
    "\n",
    "#figPath=base+'SelectionAllToF1.png'\n",
    "#plt.savefig(figPath,bbox_inches='tight')"
   ]
  },
  {
   "cell_type": "code",
   "execution_count": null,
   "metadata": {},
   "outputs": [],
   "source": [
    "pd.__version__"
   ]
  },
  {
   "cell_type": "code",
   "execution_count": null,
   "metadata": {},
   "outputs": [],
   "source": [
    "np.__version__"
   ]
  },
  {
   "cell_type": "code",
   "execution_count": null,
   "metadata": {},
   "outputs": [],
   "source": [
    "import matplotlib as mtp\n",
    "mtp.__version__"
   ]
  },
  {
   "cell_type": "code",
   "execution_count": null,
   "metadata": {},
   "outputs": [],
   "source": [
    "import scipy as scp\n",
    "scp.__version__"
   ]
  },
  {
   "cell_type": "code",
   "execution_count": null,
   "metadata": {},
   "outputs": [],
   "source": []
  }
 ],
 "metadata": {
  "kernelspec": {
   "display_name": "Python 3 (ipykernel)",
   "language": "python",
   "name": "python3"
  },
  "language_info": {
   "codemirror_mode": {
    "name": "ipython",
    "version": 3
   },
   "file_extension": ".py",
   "mimetype": "text/x-python",
   "name": "python",
   "nbconvert_exporter": "python",
   "pygments_lexer": "ipython3",
   "version": "3.9.6"
  }
 },
 "nbformat": 4,
 "nbformat_minor": 1
}
