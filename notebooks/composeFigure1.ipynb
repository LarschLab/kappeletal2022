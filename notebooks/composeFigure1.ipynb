{
 "cells": [
  {
   "cell_type": "code",
   "execution_count": null,
   "metadata": {},
   "outputs": [],
   "source": [
    "import svgutils.transform as sg\n",
    "import pandas as pd\n",
    "import os"
   ]
  },
  {
   "cell_type": "code",
   "execution_count": null,
   "metadata": {},
   "outputs": [],
   "source": [
    "propsFn='props.csv'\n",
    "props=pd.read_csv(propsFn, header=None, index_col=0, squeeze=True,delim_whitespace=True).to_dict()\n",
    "\n",
    "base=props['BaseDir']\n",
    "artDir=props['ArtDir']\n",
    "outputDir = props['outputDir']\n",
    "RawDataDir = props['RawDataDir']+'behavior\\\\'\n",
    "ProcessingDir = props['ProcessingDir']\n",
    "outputDir = props['outputDir']\n",
    "FigureDir=props['FigureDir']\n",
    "\n",
    "props"
   ]
  },
  {
   "cell_type": "code",
   "execution_count": null,
   "metadata": {},
   "outputs": [],
   "source": [
    "fo3=FigureDir+'Figure1_R2.svg'\n",
    "\n",
    "f1=artDir+'hcrSchematic_revised.svg'\n",
    "f2=FigureDir+'hcrBehavior.svg'\n",
    "f3=FigureDir+'hcr_cfosMasksAndNames_3h1c1s_clean.svg'\n",
    "#f4=FigureDir+'hcr_cfosOverview3Planes.svg'\n",
    "\n",
    "f5=FigureDir+'hcr_allQuantHeat_cohenCluster.svg'\n",
    "f6=FigureDir+'hcr_DT.svg'\n",
    "\n",
    "f7=FigureDir+'hcr_allQuant2_norm_sort.svg'\n",
    "\n",
    "f8=FigureDir+'hcr_cfosExamplePlanes.svg'\n",
    "\n",
    "\n"
   ]
  },
  {
   "cell_type": "code",
   "execution_count": null,
   "metadata": {},
   "outputs": [],
   "source": [
    "from svgutils.compose import *\n",
    "\n",
    "Figure(\"18.3cm\", \"22cm\", \n",
    "        Panel(\n",
    "              SVG(f1).move(-10, 20),\n",
    "              Text(\"a\", 10, 20, size=12, weight='bold')\n",
    "             ),\n",
    "        Panel(\n",
    "              SVG(f2).scale(1).move(20,10),\n",
    "              Text(\"b\", 10, 0, size=12, weight='bold')\n",
    "             ).move(0, 360),\n",
    "       Panel(\n",
    "              SVG(f3).move(20,20),\n",
    "              Text(\"c\", 10, 20, size=12, weight='bold')\n",
    "             ).move(200, 0),\n",
    "\n",
    "       Panel(\n",
    "              SVG(f8).scale(1).move(0,0),\n",
    "              Text(\"d\", 10, 0, size=12, weight='bold')\n",
    "             ).move(200, 360),\n",
    "     \n",
    "        #Panel(\n",
    "        #      SVG(f10).scale(1).move(0,0),\n",
    "        #      Text(\"\", 10, 0, size=12, weight='bold')\n",
    "        #     ).move(400, 410), \n",
    "        #Panel(\n",
    "        #      SVG(f9).scale(1).move(0,30),\n",
    "        #      Text(\"E\", 0, 0, size=12, weight='bold'),\n",
    "        #        Text(\"DT: Dorsal thalamus\", 10, 30, size=8)\n",
    "        #     ).move(290, 400),  \n",
    "       \n",
    "       Panel(\n",
    "              SVG(f5).scale(1).move(-70,10),\n",
    "              Text(\"e\", 10, 20, size=12, weight='bold')\n",
    "             ).move(0, 620),\n",
    "       #Panel(\n",
    "       #       SVG(f7),\n",
    "       #       Text(\"G\", 10, 0, size=12, weight='bold')\n",
    "       #      ).move(0, 620),\n",
    "        Text(\"Figure 1\", 5, 0, size=12, weight='bold'),\n",
    "       #Panel(\n",
    "       #       SVG(f8),\n",
    "       #      ).move(190, 470)\n",
    "        ).move(5,20).save(fo3)"
   ]
  },
  {
   "cell_type": "code",
   "execution_count": null,
   "metadata": {},
   "outputs": [],
   "source": []
  }
 ],
 "metadata": {
  "kernelspec": {
   "display_name": "Python 3 (ipykernel)",
   "language": "python",
   "name": "python3"
  },
  "language_info": {
   "codemirror_mode": {
    "name": "ipython",
    "version": 3
   },
   "file_extension": ".py",
   "mimetype": "text/x-python",
   "name": "python",
   "nbconvert_exporter": "python",
   "pygments_lexer": "ipython3",
   "version": "3.9.6"
  }
 },
 "nbformat": 4,
 "nbformat_minor": 1
}
