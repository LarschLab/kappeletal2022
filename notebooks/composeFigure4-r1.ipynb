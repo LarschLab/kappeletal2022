{
 "cells": [
  {
   "cell_type": "code",
   "execution_count": 1,
   "metadata": {},
   "outputs": [],
   "source": [
    "import svgutils.transform as sg\n",
    "import pandas as pd\n",
    "import matplotlib as mpl\n",
    "mpl.rcParams['svg.fonttype'] = 'none'"
   ]
  },
  {
   "cell_type": "code",
   "execution_count": 2,
   "metadata": {},
   "outputs": [
    {
     "data": {
      "text/plain": [
       "{'BaseDir': 'J:\\\\_Projects\\\\bpn_man\\\\',\n",
       " 'ProcessingDir': 'J:\\\\_Projects\\\\bpn_man\\\\data\\\\processing\\\\',\n",
       " 'outputDir': 'J:\\\\_Projects\\\\bpn_man\\\\data\\\\output\\\\',\n",
       " 'RawDataDir': 'J:\\\\_Projects\\\\bpn_man\\\\data\\\\raw\\\\',\n",
       " 'FigureDir': 'J:\\\\_Projects\\\\bpn_man\\\\figures\\\\',\n",
       " 'ArtDir': 'J:\\\\_Projects\\\\bpn_man\\\\figures\\\\artwork\\\\',\n",
       " 'allExpBehFn': 'J:\\\\_Projects\\\\bpn_man\\\\data\\\\raw\\\\behavior\\\\AllExp_bpn_behavior.xlsx',\n",
       " 'allAnBehFn': 'J:\\\\_Projects\\\\bpn_man\\\\data\\\\raw\\\\behavior\\\\allAn_bpn_behavior.xlsx',\n",
       " 'modulePath': 'C:\\\\Users\\\\johannes\\\\Dropbox\\\\python\\\\zFishBehavior\\\\dishGroupBehavior'}"
      ]
     },
     "execution_count": 2,
     "metadata": {},
     "output_type": "execute_result"
    }
   ],
   "source": [
    "propsFn='props.csv'\n",
    "props=pd.read_csv(propsFn, header=None, index_col=0, squeeze=True,delim_whitespace=True).to_dict()\n",
    "\n",
    "base=props['BaseDir']\n",
    "artDir=props['ArtDir']\n",
    "outputDir = props['outputDir']\n",
    "RawDataDir = props['RawDataDir']+'behavior\\\\'\n",
    "ProcessingDir = props['ProcessingDir']\n",
    "outputDir = props['outputDir']\n",
    "FigureDir=props['FigureDir'][:-1]+'_rev\\\\'\n",
    "#FigureOut=props['FigureDir'][:-1]+'_rev\\\\'\n",
    "props"
   ]
  },
  {
   "cell_type": "code",
   "execution_count": 3,
   "metadata": {},
   "outputs": [],
   "source": [
    "fo3=FigureDir+'Figure4R1.svg'\n",
    "\n",
    "\n",
    "fa=artDir+'81cSchematic_revised.svg'\n",
    "\n",
    "fb=FigureDir+'fig4_B.svg'\n",
    "fc=FigureDir+'4c_81c_Nmaps_d.svg'\n",
    "fd=FigureDir+'f4_ablationBeh_0.svg'\n",
    "fe=FigureDir+'fig4_E.svg'\n",
    "ff=FigureDir+'fig4_F.svg'\n",
    "fg=FigureDir+'fig4_G.svg'\n",
    "fh=FigureDir+'fig4_H.svg'\n",
    "fia=FigureDir+'fig4_J.svg'\n",
    "fib=FigureDir+'ABLATION_SCAR.svg'\n",
    "fj=FigureDir+'f4_ablationBeh_1.svg'\n",
    "fk=FigureDir+'f4_ablationBeh_2.svg'\n",
    "\n"
   ]
  },
  {
   "cell_type": "code",
   "execution_count": 8,
   "metadata": {},
   "outputs": [],
   "source": [
    "from svgutils.compose import *\n",
    "\n",
    "Figure(\"18.3cm\", \"18cm\", \n",
    "       \n",
    "        Panel(\n",
    "              SVG(fa).scale(2.6).move(5, 20),\n",
    "              Text(\"a\", 0, 0, size=12, weight='bold'),\n",
    "            Text(\"81c:NTR ablation\", 15, 5, size=10, weight='bold')\n",
    "             ).move(0, 10),  \n",
    "        Panel(\n",
    "              SVG(fb).scale(1).move(0, 0),\n",
    "              Text(\"b\", 0, 0, size=12, weight='bold')\n",
    "             ).move(225, 10),       \n",
    "        Panel(\n",
    "              SVG(fc).scale(1).move(0, 5),\n",
    "              Text(\"c\", 0, 0, size=12, weight='bold')\n",
    "             ).move(335, 10),  \n",
    "\n",
    "        Panel(\n",
    "              SVG(fd).scale(1).move(0, 0),\n",
    "              Text(\"d\", 0, 0, size=12, weight='bold')\n",
    "             ).move(430, 10),  \n",
    "       \n",
    "        Panel(\n",
    "              SVG(fe).scale(1).move(0, 30),\n",
    "              Text(\"e\", 0, 0, size=12, weight='bold')\n",
    "             ).move(0, 170),  \n",
    "        Panel(\n",
    "              SVG(ff).scale(1).move(0, 0),\n",
    "              Text(\"f\", 0, 0, size=12, weight='bold')\n",
    "             ).move(150, 170),  \n",
    "       \n",
    "        Panel(\n",
    "              SVG(fg).scale(1).move(0, 0),\n",
    "              Text(\"g\", 0, 0, size=12, weight='bold')\n",
    "             ).move(350, 170),         \n",
    "        Panel(\n",
    "              SVG(fh).scale(1).move(0, 0),\n",
    "              Text(\"h\", 0, 0, size=12, weight='bold')\n",
    "             ).move(510, 170),  \n",
    "       \n",
    "        Panel(\n",
    "              SVG(fia).scale(1).move(0, 0),\n",
    "              Text(\"j\", 0, 0, size=12, weight='bold'),\n",
    "            Text(\"DT laser ablation\", 15, 5, size=10, weight='bold')\n",
    "             ).move(200, 380),  \n",
    "        Panel(\n",
    "              SVG(fib).scale(1).move(0, 0)\n",
    "             ).move(310, 380),  \n",
    "       \n",
    "       \n",
    "        Panel(\n",
    "              SVG(fj).scale(1).move(0, 0),\n",
    "              Text(\"i\", 0, 0, size=12, weight='bold'),\n",
    "                Text(\"s1026Et:NTR ablation\", 20, 5, size=10, weight='bold')\n",
    "             ).move(0, 380),  \n",
    "        Panel(\n",
    "              SVG(fk).scale(1).move(0, 0),\n",
    "              Text(\"k\", 0, 0, size=12, weight='bold')\n",
    "             ).move(430, 380),  \n",
    "       \n",
    "     \n",
    "\n",
    "      ).move(5,0).save(fo3)"
   ]
  },
  {
   "cell_type": "code",
   "execution_count": 5,
   "metadata": {},
   "outputs": [],
   "source": [
    "import svgutils"
   ]
  },
  {
   "cell_type": "code",
   "execution_count": 30,
   "metadata": {},
   "outputs": [
    {
     "data": {
      "text/plain": [
       "'C:\\\\Users\\\\jlarsch\\\\Miniconda3\\\\envs\\\\jlsocial\\\\lib\\\\site-packages\\\\svgutils\\\\__init__.py'"
      ]
     },
     "execution_count": 30,
     "metadata": {},
     "output_type": "execute_result"
    }
   ],
   "source": []
  },
  {
   "cell_type": "code",
   "execution_count": null,
   "metadata": {},
   "outputs": [],
   "source": []
  }
 ],
 "metadata": {
  "kernelspec": {
   "display_name": "Python 3 (ipykernel)",
   "language": "python",
   "name": "python3"
  },
  "language_info": {
   "codemirror_mode": {
    "name": "ipython",
    "version": 3
   },
   "file_extension": ".py",
   "mimetype": "text/x-python",
   "name": "python",
   "nbconvert_exporter": "python",
   "pygments_lexer": "ipython3",
   "version": "3.9.6"
  }
 },
 "nbformat": 4,
 "nbformat_minor": 1
}
