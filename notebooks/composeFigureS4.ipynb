{
 "cells": [
  {
   "cell_type": "code",
   "execution_count": null,
   "metadata": {},
   "outputs": [],
   "source": [
    "import svgutils.transform as sg\n",
    "import pandas as pd\n",
    "import os"
   ]
  },
  {
   "cell_type": "code",
   "execution_count": null,
   "metadata": {},
   "outputs": [],
   "source": [
    "propsFn='props.csv'\n",
    "props=pd.read_csv(propsFn, header=None, index_col=0, squeeze=True,delim_whitespace=True).to_dict()\n",
    "\n",
    "base=props['BaseDir']\n",
    "artDir=props['ArtDir']\n",
    "outputDir = props['outputDir']\n",
    "RawDataDir = props['RawDataDir']+'behavior\\\\'\n",
    "ProcessingDir = props['ProcessingDir']\n",
    "outputDir = props['outputDir']\n",
    "FigureDir=props['FigureDir']\n",
    "\n",
    "props"
   ]
  },
  {
   "cell_type": "code",
   "execution_count": null,
   "metadata": {},
   "outputs": [],
   "source": [
    "fo3=FigureDir+'FigureS4.svg'\n",
    "\n",
    "f1=FigureDir+'COWPATTERN.svg'\n",
    "f2=FigureDir+'Larval_KDE_Marker.svg'\n",
    "f3=FigureDir+'S_BOUT_FREQUENCY_TUNING_DT_7dpf.svg'\n",
    "f4=FigureDir+'S_NATURALISTIC_STIMULUS.svg'\n",
    "f5=FigureDir+'S_NATDOT_SPEED_TRACES.svg'"
   ]
  },
  {
   "cell_type": "code",
   "execution_count": null,
   "metadata": {},
   "outputs": [],
   "source": [
    "from svgutils.compose import *\n",
    "\n",
    "Figure(\"19cm\", \"29cm\", \n",
    "        Panel(\n",
    "              SVG(f4).scale(1).move(20, -40),\n",
    "              Text(\"A\", 5, 5, size=12, weight='bold')\n",
    "             ).move(0, 20),\n",
    "               Panel(\n",
    "              SVG(f1).scale(1.5).move(20, 0),\n",
    "              Text(\"B\", 5, 5, size=12, weight='bold')\n",
    "             ).move(300, 20),\n",
    "            Panel(\n",
    "              SVG(f5).scale(1).move(20, 0),\n",
    "              Text(\"C\", 5, 5, size=12, weight='bold')\n",
    "             ).move(0, 250),\n",
    "        Panel(\n",
    "              SVG(f2).scale(1).move(5,10),\n",
    "              Text(\"D\", 5, 5, size=12, weight='bold')\n",
    "             ).move(0, 650),\n",
    "        Panel(\n",
    "              SVG(f3).scale(1.5).move(5,10),\n",
    "              Text(\"E\", 5, 5, size=12, weight='bold')\n",
    "             ).move(500, 650),\n",
    "\n",
    "        Text(\"Figure S4\", 5, 0, size=12, weight='bold'),\n",
    "\n",
    "        ).move(5,20).save(fo3)"
   ]
  },
  {
   "cell_type": "code",
   "execution_count": null,
   "metadata": {},
   "outputs": [],
   "source": []
  },
  {
   "cell_type": "code",
   "execution_count": null,
   "metadata": {},
   "outputs": [],
   "source": []
  }
 ],
 "metadata": {
  "kernelspec": {
   "display_name": "Python 3 (ipykernel)",
   "language": "python",
   "name": "python3"
  },
  "language_info": {
   "codemirror_mode": {
    "name": "ipython",
    "version": 3
   },
   "file_extension": ".py",
   "mimetype": "text/x-python",
   "name": "python",
   "nbconvert_exporter": "python",
   "pygments_lexer": "ipython3",
   "version": "3.9.6"
  }
 },
 "nbformat": 4,
 "nbformat_minor": 1
}
