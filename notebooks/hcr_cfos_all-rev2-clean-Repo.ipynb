{
 "cells": [
  {
   "cell_type": "markdown",
   "metadata": {},
   "source": [
    "# Kappel et al, 2021\n",
    "## Figure 1: c-fos activity mapping\n",
    "\n",
    "Panels\n",
    "- c\n",
    "- d\n",
    "- e\n",
    "\n",
    "### running this notebook requires 128 GB RAM (96 GB might be sufficient)\n"
   ]
  },
  {
   "cell_type": "code",
   "execution_count": null,
   "metadata": {},
   "outputs": [],
   "source": [
    "import nrrd\n",
    "import tifffile as tiff\n",
    "import numpy as np\n",
    "import glob, os\n",
    "import matplotlib.pyplot as plt\n",
    "import colorcet as cc\n",
    "import matplotlib.gridspec as gridspec\n",
    "from matplotlib.colors import LinearSegmentedColormap\n",
    "import pandas as pd\n",
    "import seaborn as sns\n",
    "\n",
    "from matplotlib import lines\n",
    "from scipy import ndimage as nd\n",
    "import skimage.measure\n",
    "import matplotlib.image as mpimg\n",
    "import notebookHelper as nh\n",
    "import scipy.stats as sta\n",
    "import h5py\n",
    "import matplotlib.patches as mpatches\n",
    "import paperFigureProps as pfp\n",
    "\n",
    "import cv2 as cv2\n",
    "pfp.paper()\n",
    "inToCm=2.54\n"
   ]
  },
  {
   "cell_type": "code",
   "execution_count": null,
   "metadata": {},
   "outputs": [],
   "source": [
    "if 'startDirMaster' not in locals():\n",
    "    startDirMaster=os.getcwd()\n",
    "\n",
    "propsFn=startDirMaster+'\\\\props.csv'\n",
    "\n",
    "props=pd.read_csv(propsFn, header=None, index_col=0, squeeze=True,delim_whitespace=True).to_dict()\n",
    "#print(props)\n",
    "\n",
    "base=props['BaseDir']\n",
    "expFile=props['allExpBehFn']\n",
    "anFile=props['allAnBehFn']\n",
    "\n",
    "RawDataDir = os.path.join(base,props['RawDataDir'])+'\\\\'+'HCR\\\\'\n",
    "ProcessingDir = os.path.join(base,props['ProcessingDir'])+'\\\\'\n",
    "outputDir = os.path.join(base,props['outputDir'])+'\\\\'\n",
    "FigureDir = os.path.join(base,props['FigureDir'])+'\\\\'\n",
    "\n",
    "\n",
    "if not os.path.isdir(ProcessingDir):\n",
    "    os.makedirs(ProcessingDir)\n",
    "\n",
    "if not os.path.isdir(outputDir):\n",
    "    os.makedirs(outputDir)\n",
    "    \n",
    "if not os.path.isdir(FigureDir):\n",
    "    os.makedirs(FigureDir)\n",
    "\n",
    "os.chdir('..\\\\')\n",
    "print('base',base)\n",
    "print('RawDataDir',RawDataDir)\n",
    "print('ProcessingDir',ProcessingDir)\n",
    "print('FigureDir',FigureDir)"
   ]
  },
  {
   "cell_type": "code",
   "execution_count": null,
   "metadata": {},
   "outputs": [],
   "source": [
    "#propsFn='props.csv'\n",
    "#props=pd.read_csv(propsFn, header=None, index_col=0, squeeze=True,delim_whitespace=True).to_dict()\n",
    "\n",
    "#base=props['BaseDir']\n",
    "#artDir=props['ArtDir']\n",
    "#outputDir = props['outputDir']\n",
    "#RawDataDir = props['RawDataDir']+'HCR\\\\'\n",
    "#ProcessingDir = props['ProcessingDir']\n",
    "#outputDir = props['outputDir']\n",
    "#FigureDir=props['FigureDir']\n",
    "\n",
    "#expFile=props['allExpBehFn']\n",
    "#anFile=props['allAnBehFn']\n",
    "\n",
    "p_ref_dorsalHCR=RawDataDir+'dorsal\\\\juvenile_hcr_ref_dv_d.tif'\n",
    "p_ref_ventralHCR=RawDataDir+'ventral\\\\juvenile_hcr_ref_dv_v_bspline_aligned.tif'\n",
    "p_dorsalStacks=RawDataDir+'dorsal\\\\aligned\\\\'\n",
    "p_ventralStacks=RawDataDir+'ventral\\\\aligned\\\\to_dorsal\\\\'\n",
    "p_dv_correspondence=RawDataDir+'hcr_d_v_correspondence.csv'\n",
    "p_cellCounts=RawDataDir+'CellCounts_summary.xlsx'\n",
    "#p_masks=props['RawDataDir']+'masks\\\\2pmasks_hcr_ref_dv_merge_rev.nrrd'\n",
    "p_masks=os.path.join(base,props['RawDataDir'])+'\\\\'+'masks\\\\2pmasks_hcr_ref_dv_merge_rev_20210518b.nrrd'\n",
    "p_masks_cFos=os.path.join(base,props['RawDataDir'])+'\\\\'+'masks\\\\hcrSuperStackMasks_20210716b.nrrd'\n",
    "p_maskComments=os.path.join(base,props['RawDataDir'])+'\\\\'+'masks\\\\MaskCommentsJL.xlsx'\n",
    "\n",
    "p_h5pyAll=RawDataDir+'allMerge.h5'\n",
    "rereadIms=True\n",
    "\n",
    "\n",
    "titles=np.array(['Bout-like','Continuous','Conspecific','No stim'])[[3,1,0,2]]\n",
    "\n",
    "props"
   ]
  },
  {
   "cell_type": "code",
   "execution_count": null,
   "metadata": {},
   "outputs": [],
   "source": [
    "#Colors for no-stim, continuous, bout-like, conspecific\n",
    "\n",
    "co=sns.color_palette(\"tab10\", 4)\n",
    "co[1:]=co[:-1]\n",
    "co[0]=[.6,.6,.6]\n"
   ]
  },
  {
   "cell_type": "code",
   "execution_count": null,
   "metadata": {},
   "outputs": [],
   "source": [
    "def read_good_nrrd(f):\n",
    "    tmp=nrrd.read(f)\n",
    "    im = tmp[0].astype(np.uint8)\n",
    "    im = np.moveaxis(im, 2, 0)\n",
    "    im = np.moveaxis(im, 1, 2)\n",
    "    return im\n",
    "\n",
    "def clip_stack(stack, lims=(1, 99)):\n",
    "    \n",
    "    zmin, zmax = np.nanpercentile(stack, lims[0]), np.nanpercentile(stack, lims[1])\n",
    "    print(zmin, zmax)\n",
    "    stack[stack<zmin] = zmin\n",
    "    stack[stack>zmax] = zmax\n",
    "\n",
    "    return stack.astype(np.uint8)"
   ]
  },
  {
   "cell_type": "code",
   "execution_count": null,
   "metadata": {},
   "outputs": [],
   "source": [
    "def pseudoOrtho(img, clim=None, lims=None):\n",
    "    ## plot mean projections xy,zy, zx of img next to each other\n",
    "    fig,axes=plt.subplots(2,2,\n",
    "                          gridspec_kw={'height_ratios': [3, 1],\n",
    "                                      'width_ratios': [1, 1]},\n",
    "                         figsize=(4,4))\n",
    "    axes=axes.ravel()\n",
    "    \n",
    "    if lims is None:\n",
    "\n",
    "        axes[0].imshow(np.nanmean(img,axis=0),clim=clim)\n",
    "        axes[1].imshow(np.nanmean(img,axis=2).T,clim=clim)\n",
    "        axes[2].imshow(np.nanmean(img,axis=1),clim=clim)\n",
    "    else:\n",
    "        axes[0].imshow(np.nanmean(img[lims[0][0]:lims[0][1],:,:],axis=0),clim=clim)\n",
    "        axes[0].axhline(lims[1][0]+50)\n",
    "        axes[0].axvline(lims[2][0]+50)\n",
    "        \n",
    "        axes[1].imshow(np.nanmean(img[:,:,lims[2][0]:lims[2][1]],axis=2).T,clim=clim)\n",
    "        axes[2].imshow(np.nanmean(img[:,lims[1][0]:lims[1][1],:],axis=1),clim=clim)\n",
    "        \n",
    "    axes[1].set_xlim(0,450)\n",
    "    \n",
    "    for a in axes:\n",
    "        a.axis('off')\n",
    "        a.set_xticks([])\n",
    "        a.set_yticks([])\n",
    "        a.set_ylabel(\"\")\n",
    "        a.set_position([0, 0, 1, 1], which='both')\n",
    "        \n",
    "    fig.subplots_adjust(left=None, bottom=None, right=None, top=None, wspace=None, hspace=None)\n",
    "    fig.tight_layout(pad=.5)\n"
   ]
  },
  {
   "cell_type": "markdown",
   "metadata": {},
   "source": [
    "# merging of dorsal and ventral HCR data\n",
    "## start with aligned averages"
   ]
  },
  {
   "cell_type": "code",
   "execution_count": null,
   "metadata": {},
   "outputs": [],
   "source": [
    "ref_d=tiff.imread(p_ref_dorsalHCR)\n",
    "ref_v=tiff.imread(p_ref_ventralHCR)"
   ]
  },
  {
   "cell_type": "code",
   "execution_count": null,
   "metadata": {},
   "outputs": [],
   "source": [
    "pseudoOrtho(ref_d)"
   ]
  },
  {
   "cell_type": "code",
   "execution_count": null,
   "metadata": {},
   "outputs": [],
   "source": [
    "pseudoOrtho(ref_v)"
   ]
  },
  {
   "cell_type": "code",
   "execution_count": null,
   "metadata": {},
   "outputs": [],
   "source": [
    "ref_merge_avg=(ref_d+ref_v)/2.\n",
    "pseudoOrtho(ref_merge_avg)"
   ]
  },
  {
   "cell_type": "code",
   "execution_count": null,
   "metadata": {},
   "outputs": [],
   "source": [
    "masks=read_good_nrrd(p_masks)\n",
    "pseudoOrtho(masks)"
   ]
  },
  {
   "cell_type": "code",
   "execution_count": null,
   "metadata": {},
   "outputs": [],
   "source": [
    "masks_cFos=read_good_nrrd(p_masks_cFos)\n",
    "pseudoOrtho(masks_cFos)"
   ]
  },
  {
   "cell_type": "markdown",
   "metadata": {},
   "source": [
    "## Now, merge dorsal and ventral brains for each animal"
   ]
  },
  {
   "cell_type": "code",
   "execution_count": null,
   "metadata": {},
   "outputs": [],
   "source": [
    "# External table lists corresponding file names for d and v brains\n",
    "# note: 4 ventral brains are missing. not using the dorsal half either. These are excluded later.\n",
    "dvCorr=pd.read_csv(p_dv_correspondence,index_col=0)\n",
    "dvCorr.head()"
   ]
  },
  {
   "cell_type": "code",
   "execution_count": null,
   "metadata": {
    "scrolled": true
   },
   "outputs": [],
   "source": [
    "groups = ['noStim', 'cont', 'bout', 'conspecific']\n",
    "animals=['{0:02d}'.format(a+1) for a in range(8)]\n",
    "\n",
    "if rereadIms:\n",
    "\n",
    "    ref=ref_merge_avg\n",
    "    groups = ['noStim', 'cont', 'bout', 'conspecific']\n",
    "    animals=['{0:02d}'.format(a+1) for a in range(8)]\n",
    "\n",
    "    cref = 'C1'\n",
    "    cort = 'C2'\n",
    "    cfos = 'C3'\n",
    "\n",
    "    channels = [cref, cort, cfos]\n",
    "\n",
    "    ims_all=np.zeros(shape=(len(groups),8,len(channels), ref.shape[0], ref.shape[1], ref.shape[2]), dtype=np.uint8).astype('float')\n",
    "\n",
    "    for index,row in dvCorr.iterrows():\n",
    "\n",
    "        group=row.group\n",
    "        groupNr=row.groupNr\n",
    "        animal=row.animal\n",
    "        d=row.d\n",
    "        v=row.v\n",
    "\n",
    "        for c,channel in enumerate(channels):\n",
    "\n",
    "            print(channel, group,groupNr, animal)\n",
    "            print(d)\n",
    "            print(v)\n",
    "\n",
    "            if (v=='none'):\n",
    "                im_merge_avg=im_d*np.nan\n",
    "            else:\n",
    "                fn_d = p_dorsalStacks+channel+\"-\"+d\n",
    "                fn_v = p_ventralStacks+channel+\"-\"+v\n",
    "                im_d=read_good_nrrd(fn_d)[::-1,:,:]\n",
    "                im_v=read_good_nrrd(fn_v)\n",
    "                im_merge_avg=(im_d+im_v)/2.\n",
    "\n",
    "            ims_all[groupNr,animal,c]=im_merge_avg\n",
    "\n",
    "            pseudoOrtho(ims_all[groupNr,animal,c])\n",
    "            plt.show()\n"
   ]
  },
  {
   "cell_type": "code",
   "execution_count": null,
   "metadata": {},
   "outputs": [],
   "source": [
    "if rereadIms:\n",
    "    h5f = h5py.File(p_h5pyAll, 'w')\n",
    "    #h5f.create_dataset('ims_all', data=ims_all) #uncomment to save all combined imaged. takes time!\n",
    "    h5f.close()\n",
    "else:\n",
    "    h5f = h5py.File(p_h5pyAll,'r') \n",
    "    ims_all = h5f['ims_all'][:]\n",
    "    h5f.close()"
   ]
  },
  {
   "cell_type": "code",
   "execution_count": null,
   "metadata": {},
   "outputs": [],
   "source": [
    "ims_all.shape"
   ]
  },
  {
   "cell_type": "markdown",
   "metadata": {},
   "source": [
    "## generate merged channel arrays for some sub groups for convenience"
   ]
  },
  {
   "cell_type": "code",
   "execution_count": null,
   "metadata": {},
   "outputs": [],
   "source": [
    "refAllMerge=np.zeros(np.array(ims_all.shape)[[0,3,4,5]],dtype='uint8')\n",
    "\n",
    "#note: successive averaging to avoid huge interim variable (~40GB RAM)\n",
    "for i in range(4):\n",
    "    refAllMerge[i]=np.nanmean(ims_all[i,:,0],axis=0)\n",
    "    \n",
    "print(refAllMerge.shape)\n",
    "refAllMerge=np.nanmean(refAllMerge,axis=0)\n",
    "print(refAllMerge.shape)"
   ]
  },
  {
   "cell_type": "code",
   "execution_count": null,
   "metadata": {},
   "outputs": [],
   "source": [
    "if rereadIms:\n",
    "    pass\n",
    "    #tiff.imsave(RawDataDir+'refAllMerge.tif',refAllMerge)\n",
    "#else:\n",
    "#    cfosMergeCS=tiff.imread(RawDataDir+'cfosMergeCS.tif')\n",
    "#    refAllMerge=tiff.imread(RawDataDir+'refAllMerge.tif')"
   ]
  },
  {
   "cell_type": "markdown",
   "metadata": {},
   "source": [
    "# Plot overview mean  z- projections of raw fluorescence\n",
    "### Not used in paper\n",
    "### testing various normalization strategies for cFos"
   ]
  },
  {
   "cell_type": "code",
   "execution_count": null,
   "metadata": {},
   "outputs": [],
   "source": [
    "def plot_zProject_groups(img,\n",
    "                         groups,\n",
    "                         clim_c1=(0,15),\n",
    "                         clim_c2=(0,5),\n",
    "                         clim_c3=(0,3),\n",
    "                        xlim=None,\n",
    "                        ylim=None,\n",
    "                        zlim=(0,-1),\n",
    "                        norm=False):\n",
    "    \n",
    "    #thalamus:  s2 = 247-75, s1 = 247-92\n",
    "    s1=zlim[0]\n",
    "    s2=zlim[1]\n",
    "    fig = plt.figure(figsize=(12, 12), dpi=200)\n",
    "\n",
    "    gs = gridspec.GridSpec(nrows=3, ncols=5, width_ratios=[1, 1, 1, 1, .1], height_ratios=[1, 1, 1])\n",
    "    gs.update(wspace=0.1, hspace=0.1)\n",
    "\n",
    "\n",
    "\n",
    "    cmap_cort = LinearSegmentedColormap.from_list('cmap_cort', ['black', 'magenta'])\n",
    "    cmap_cort = 'inferno'\n",
    "\n",
    "    for gno, group in enumerate(groups):\n",
    "\n",
    "        ax1 = plt.subplot(gs[0, gno])\n",
    "        ax2 = plt.subplot(gs[1, gno])\n",
    "        ax3 = plt.subplot(gs[2, gno])\n",
    "\n",
    "        c1 = np.nanmean(img[gno,:,0],axis=0)\n",
    "        c2 = np.nanmean(img[gno,:,1],axis=0)\n",
    "        c3 = np.nanmean(img[gno,:,2],axis=0)\n",
    "        \n",
    "        #normalization attempts 1-3 were trying to deal with division by very low numbers \n",
    "        # were the reference channel has little signal. Abandoned these approaches\n",
    "        \n",
    "        if norm==1: # norm by masked reference channel where ref channel signal above threshold (not good)\n",
    "            c3Norm=c3.copy()\n",
    "            normMask=c1>.5\n",
    "            c3Norm[normMask]=c3Norm[normMask]/c1[normMask]\n",
    "            c3=c3Norm*normMask      \n",
    "            \n",
    "        elif norm==2:\n",
    "            c3=c3/(c1+1)\n",
    "            \n",
    "        elif norm==3:\n",
    "            c3=c3/(c1+.1)\n",
    "            \n",
    "        #Instead, divide by 3D gaussian smoothed ref channel. This is used in figures showing imaging planes\n",
    "            \n",
    "        elif norm==4: # divide all channels\n",
    "            c1Filt=nd.gaussian_filter(c1,(5,20,20))\n",
    "            c3=c3/c1Filt\n",
    "            c1=c1/c1Filt\n",
    "            c2=c2/c1Filt\n",
    "            \n",
    "        elif norm==5: # as in 4, showing filtered ref instead of ref for illustration\n",
    "            c1Filt=nd.gaussian_filter(c1,(5,20,20))\n",
    "            c3=c3/c1Filt\n",
    "            c1=c1Filt\n",
    "            c2=c2/c1Filt\n",
    "            \n",
    "        elif norm==6: # as in 5, masking non-brain areas\n",
    "            c1Filt=nd.gaussian_filter(c1,(5,20,20))\n",
    "            maskFilt=c1Filt>.3\n",
    "            c3=maskFilt*c3/c1Filt\n",
    "            c1=maskFilt*c1/c1Filt\n",
    "            c2=maskFilt*c2/c1Filt\n",
    "\n",
    "        elif norm==7: # simple division, OK with floats - this approach is later used for quantification\n",
    "\n",
    "            c3=c3/c1\n",
    "            c2=c2/c1\n",
    "            c1=c1\n",
    "\n",
    "        ax1.imshow(c1[s1:s2].mean(axis=0), clim=clim_c1, cmap='viridis')\n",
    "        ax2.imshow(c3[s1:s2].mean(axis=0), clim=clim_c3, cmap='viridis')\n",
    "        ax3.imshow(c2[s1:s2].mean(axis=0), clim=clim_c2, cmap=cmap_cort)\n",
    "\n",
    "        for a in [ax1, ax2, ax3]:\n",
    "            a.set_axis_off()\n",
    "            if xlim!=None:\n",
    "                a.set_xlim(xlim[0],xlim[1])\n",
    "            if ylim!=None:\n",
    "                a.set_ylim(ylim[0],ylim[1])\n",
    "\n",
    "        ax1.set_title(group)\n",
    "\n",
    "    ax4 = plt.subplot(gs[0, 4])\n",
    "    sm = plt.cm.ScalarMappable(cmap='viridis', norm=plt.Normalize(vmin=clim_c1[0], vmax=clim_c1[1]))\n",
    "    sm._A = []\n",
    "    clb = plt.colorbar(sm, cax=ax4, use_gridspec=True, label='Intensity, a.u.', pad=10)\n",
    "\n",
    "    ax5 = plt.subplot(gs[1, 4])\n",
    "    sm = plt.cm.ScalarMappable(cmap='viridis', norm=plt.Normalize(vmin=clim_c3[0], vmax=clim_c3[1]))\n",
    "    sm._A = []\n",
    "    clb = plt.colorbar(sm, cax=ax5, use_gridspec=True, label='Intensity, a.u.', pad=10)\n",
    "\n",
    "    ax6 = plt.subplot(gs[2, 4])\n",
    "    sm = plt.cm.ScalarMappable(cmap=cmap_cort, norm=plt.Normalize(vmin=clim_c2[0], vmax=clim_c2[1]))\n",
    "    sm._A = []\n",
    "    clb = plt.colorbar(sm, cax=ax6, use_gridspec=True, label='Intensity, a.u.', pad=10)\n",
    "\n",
    "    plt.show()"
   ]
  },
  {
   "cell_type": "code",
   "execution_count": null,
   "metadata": {},
   "outputs": [],
   "source": [
    "# define z-planes of thalamus\n",
    "s2 = 247-75\n",
    "s1 = 247-92"
   ]
  },
  {
   "cell_type": "code",
   "execution_count": null,
   "metadata": {},
   "outputs": [],
   "source": [
    "\n",
    "cortX1,cortX2=190,215 #area of thalamus cluster in x,y\n",
    "cortY1,cortY2=300,315\n",
    "cortProfile_all=[]\n",
    "for gr in range(4):\n",
    "    for an in range(8):\n",
    "        cortProfile_all.append(np.mean(ims_all[gr,an,1,:,cortY1:cortY2,cortX1:cortX2],axis=1).mean(axis=1))\n",
    "        \n",
    "cortProfile_all=np.array(cortProfile_all)     \n",
    "\n",
    "fig,axes=plt.subplots(figsize=(3,2))\n",
    "cols=np.array(['r','b','g','k'])\n",
    "cols=cols[np.repeat(np.arange(4),8)]\n",
    "\n",
    "for i in range(32):\n",
    "    plt.plot(cortProfile_all[i]+i*10,c=cols[i]);\n",
    "    \n",
    "plt.axvline(s1)\n",
    "plt.axvline(s2)\n",
    "sns.despine()\n",
    "plt.title('cort alignment (z-profile of cort signal)')"
   ]
  },
  {
   "cell_type": "code",
   "execution_count": null,
   "metadata": {},
   "outputs": [],
   "source": [
    "# full stack z-projections, raw fluorescence\n",
    "plot_zProject_groups(ims_all,groups)"
   ]
  },
  {
   "cell_type": "markdown",
   "metadata": {},
   "source": [
    "# Thalamus planes mean z- projections of raw fluorescence"
   ]
  },
  {
   "cell_type": "code",
   "execution_count": null,
   "metadata": {},
   "outputs": [],
   "source": [
    "# thalamic planes z-projection, raw fluorescence\n",
    "plot_zProject_groups(ims_all,groups,zlim=(s1,s2))"
   ]
  },
  {
   "cell_type": "code",
   "execution_count": null,
   "metadata": {},
   "outputs": [],
   "source": [
    "#Thalamic planes, normalized by filtered ref channel\n",
    "\n",
    "plot_zProject_groups(ims_all,\n",
    "                     groups,\n",
    "                     zlim=(s1,s2),\n",
    "                     clim_c1=(0,3),\n",
    "                     clim_c2=(0,5),\n",
    "                     clim_c3=(0,1),\n",
    "                     norm=6)"
   ]
  },
  {
   "cell_type": "code",
   "execution_count": null,
   "metadata": {},
   "outputs": [],
   "source": [
    "#Thalamic planes, normalized by  ref channel\n",
    "\n",
    "plot_zProject_groups(ims_all,\n",
    "                     groups,\n",
    "                     zlim=(s1,s2),\n",
    "                     clim_c1=(0,10),\n",
    "                     clim_c2=(0,5),\n",
    "                     clim_c3=(0,1),\n",
    "                     norm=7)"
   ]
  },
  {
   "cell_type": "markdown",
   "metadata": {},
   "source": [
    "# Thalamus zoom in\n",
    "## normalized intensity"
   ]
  },
  {
   "cell_type": "code",
   "execution_count": null,
   "metadata": {},
   "outputs": [],
   "source": [
    "#norm by 3d smoothed gaussian filtered ref.\n",
    "plot_zProject_groups(ims_all,\n",
    "                     groups,\n",
    "                     zlim=(s1,s2),\n",
    "                     xlim=(300,160),\n",
    "                     ylim=(380,220),\n",
    "                     clim_c1=(0,2),\n",
    "                     clim_c2=(0,20),\n",
    "                     clim_c3=(0,1.5),\n",
    "                     norm=4)"
   ]
  },
  {
   "cell_type": "code",
   "execution_count": null,
   "metadata": {},
   "outputs": [],
   "source": [
    "#norm by 3d smoothed gaussian  ref.\n",
    "plot_zProject_groups(ims_all,\n",
    "                     groups,\n",
    "                     zlim=(s1,s2),\n",
    "                     xlim=(300,160),\n",
    "                     ylim=(380,220),\n",
    "                     clim_c1=(0,10),\n",
    "                     clim_c2=(0,20),\n",
    "                     clim_c3=(0,1.5),\n",
    "                     norm=7)"
   ]
  },
  {
   "cell_type": "code",
   "execution_count": null,
   "metadata": {},
   "outputs": [],
   "source": [
    "# all individual animal max projections, cfos channel\n",
    "fig,axes=plt.subplots(4,8,figsize=(15,10),sharex=True,sharey=True,dpi=200)\n",
    "for an in range(8):\n",
    "    for gr in range(4):\n",
    "        ax=axes[gr,an]\n",
    "        ax.imshow(np.mean(ims_all[gr,an,2,s1:s2,:,:],axis=0),clim=[0,10])\n",
    "plt.tight_layout()"
   ]
  },
  {
   "cell_type": "code",
   "execution_count": null,
   "metadata": {},
   "outputs": [],
   "source": [
    "# all individual animal max projections, reference channel\n",
    "fig,axes=plt.subplots(4,8,figsize=(15,10),sharex=True,sharey=True,dpi=200)\n",
    "\n",
    "for gr in range(4):\n",
    "    for an in range(8):\n",
    "\n",
    "        ax=axes[gr,an]\n",
    "        ax.imshow(np.mean(ims_all[gr,an,0,s1:s2,:,:],axis=0),clim=[0,10])\n",
    "plt.tight_layout()"
   ]
  },
  {
   "cell_type": "code",
   "execution_count": null,
   "metadata": {},
   "outputs": [],
   "source": [
    "# all individual animal max projections, cort channel\n",
    "fig,axes=plt.subplots(4,8,figsize=(15,10),sharex=True,sharey=True,dpi=200)\n",
    "for an in range(8):\n",
    "    for gr in range(4):\n",
    "        ax=axes[gr,an]\n",
    "        ax.imshow(np.mean(ims_all[gr,an,1,s1:s2,:,:],axis=0),clim=[0,10])\n",
    "plt.tight_layout()"
   ]
  },
  {
   "cell_type": "code",
   "execution_count": null,
   "metadata": {},
   "outputs": [],
   "source": [
    "import sys\n",
    "def sizeof_fmt(num, suffix='B'):\n",
    "    ''' by Fred Cirera,  https://stackoverflow.com/a/1094933/1870254, modified'''\n",
    "    for unit in ['','Ki','Mi','Gi','Ti','Pi','Ei','Zi']:\n",
    "        if abs(num) < 1024.0:\n",
    "            return \"%3.1f %s%s\" % (num, unit, suffix)\n",
    "        num /= 1024.0\n",
    "    return \"%.1f %s%s\" % (num, 'Yi', suffix)\n",
    "\n",
    "for name, size in sorted(((name, sys.getsizeof(value)) for name, value in locals().items()),\n",
    "                         key= lambda x: -x[1])[:10]:\n",
    "    print(\"{:>30}: {:>8}\".format(name, sizeof_fmt(size)))"
   ]
  },
  {
   "cell_type": "code",
   "execution_count": null,
   "metadata": {},
   "outputs": [],
   "source": [
    "# all individual animal max projections, reference channel\n",
    "# This step requires another ~40GB of RAM. Needs float datatype to accomodate the nans.\n",
    "\n",
    "fig,axes=plt.subplots(4,8,figsize=(15,10),sharex=True,sharey=True,dpi=200)\n",
    "\n",
    "fosNorm_all=np.zeros(shape=(4,8,*ims_all.shape[3:]),dtype='uint8').astype('float')\n",
    "for gr in range(4):\n",
    "    for an in range(8):\n",
    "        \n",
    "        c1 = ims_all[gr,an,0]*1.\n",
    "        c3 = ims_all[gr,an,2] *1.\n",
    "        c1Filt=nd.gaussian_filter(c1,(5,20,20))\n",
    "        c3=c3/c1Filt\n",
    "        fosNorm_all[gr,an]=c3\n",
    "\n",
    "        ax=axes[gr,an]\n",
    "        ax.imshow(np.nanmean(c3[s1:s2,:,:],axis=0),clim=[0,.5])\n",
    "plt.tight_layout()\n"
   ]
  },
  {
   "cell_type": "code",
   "execution_count": null,
   "metadata": {},
   "outputs": [],
   "source": [
    "plt.imshow(np.nanmean(fosNorm_all[3,0,s1:s2,:,:],axis=0),clim=[0,.5])"
   ]
  },
  {
   "cell_type": "code",
   "execution_count": null,
   "metadata": {},
   "outputs": [],
   "source": [
    "gr=0\n",
    "an=1\n",
    "\n",
    "c1 = ims_all[gr,an,0]*1.\n",
    "c3 = ims_all[gr,an,2] *1.\n",
    "c1Filt=nd.gaussian_filter(c1,(5,10,10))\n",
    "c3=c3/c1Filt\n",
    "#fosNorm_all[gr,an]=c3\n",
    "\n",
    "plt.imshow(np.nanmean(c1Filt[s1:s2,:,:],axis=0),clim=[0,5])"
   ]
  },
  {
   "cell_type": "code",
   "execution_count": null,
   "metadata": {},
   "outputs": [],
   "source": [
    "# z-profile of ref signal around thalamus region\n",
    "cortX1,cortX2=190,215\n",
    "cortY1,cortY2=300,315\n",
    "cortProfile_all=[]\n",
    "for gr in range(4):\n",
    "    for an in range(8):\n",
    "\n",
    "        cortProfile_all.append(np.mean(ims_all[gr,an,0,:,cortY1:cortY2,cortX1:cortX2],axis=1).mean(axis=1))\n",
    "        \n",
    "cortProfile_all=np.array(cortProfile_all)     \n",
    "\n",
    "\n",
    "fig,axes=plt.subplots(figsize=(15,10))\n",
    "cols=np.array(['r','b','g','k'])\n",
    "cols=cols[np.repeat(np.arange(4),8)]\n",
    "\n",
    "for i in range(32):\n",
    "    plt.plot(cortProfile_all[i]+i*5,c=cols[i]);\n",
    "    \n",
    "plt.axvline(s1)\n",
    "plt.axvline(s2)\n",
    "plt.title('ref alignment (z-profile of ref signal)')\n",
    "\n",
    "colNames=['group','plane','cort']\n",
    "print(colNames)\n",
    "m,n = cortProfile_all.shape\n",
    "tmp_arr = np.column_stack((np.repeat(np.arange(m),n),np.tile(np.arange(n),m),cortProfile_all.reshape(m*n,-1)))\n",
    "cort_df = pd.DataFrame(tmp_arr,columns=colNames)\n",
    "cort_df['condition']=np.repeat(np.array(groups),8)[cort_df.group.astype('int')]\n",
    "print(cort_df.head())\n",
    "fig,axes=plt.subplots(figsize=(15,10))\n",
    "\n",
    "cort_df.groupby(['condition','plane']).cort.mean().unstack().T.plot(ax=axes);\n",
    "plt.axvline(s1)\n",
    "plt.axvline(s2)"
   ]
  },
  {
   "cell_type": "markdown",
   "metadata": {},
   "source": [
    "# all intensity histograms, reference channel\n",
    "\n"
   ]
  },
  {
   "cell_type": "code",
   "execution_count": null,
   "metadata": {
    "scrolled": false
   },
   "outputs": [],
   "source": [
    "\n",
    "#masks = read_good_nrrd(p_masks)\n",
    "brightMask=masks_cFos.copy().astype('float')\n",
    "brightMask[brightMask==0]=np.nan\n",
    "brightMask[brightMask==14]=np.nan\n",
    "pseudoOrtho(brightMask)"
   ]
  },
  {
   "cell_type": "code",
   "execution_count": null,
   "metadata": {},
   "outputs": [],
   "source": [
    "cortInt=ims_all[:,:,1,:,:].astype('uint8')\n",
    "cort_merge_avg=np.nanmean(np.nanmean(cortInt,axis=0),axis=0)"
   ]
  },
  {
   "cell_type": "code",
   "execution_count": null,
   "metadata": {},
   "outputs": [],
   "source": [
    "cort_merge_avg.dtype"
   ]
  },
  {
   "cell_type": "code",
   "execution_count": null,
   "metadata": {},
   "outputs": [],
   "source": [
    "#generating convenience averages"
   ]
  },
  {
   "cell_type": "code",
   "execution_count": null,
   "metadata": {},
   "outputs": [],
   "source": [
    "fosNorm_merge_avg=np.nanmean(fosNorm_all,axis=1)"
   ]
  },
  {
   "cell_type": "code",
   "execution_count": null,
   "metadata": {},
   "outputs": [],
   "source": [
    "fosNorm_merge_avgavg=np.nanmean(fosNorm_merge_avg,axis=0)*100\n",
    "fosNorm_merge_avgavg[fosNorm_merge_avgavg>255]=255"
   ]
  },
  {
   "cell_type": "code",
   "execution_count": null,
   "metadata": {},
   "outputs": [],
   "source": [
    "fosNorm_merge_avgmax=np.nanmax(fosNorm_merge_avg,axis=0)*100\n",
    "fosNorm_merge_avgmax[fosNorm_merge_avgmax>255]=255"
   ]
  },
  {
   "cell_type": "code",
   "execution_count": null,
   "metadata": {},
   "outputs": [],
   "source": [
    "pseudoOrtho((masks[s1:s2]==4)*np.nanmean(fosNorm_all[1,:,s1:s2],axis=0),clim=[0,.3])"
   ]
  },
  {
   "cell_type": "code",
   "execution_count": null,
   "metadata": {},
   "outputs": [],
   "source": [
    "#get intensities in each activity cluster from individuals\n",
    "nAreas=masks_cFos.max()\n",
    "fosMeans=np.zeros(shape=(4,8,nAreas))\n",
    "refMeans=np.zeros(shape=(4,8,nAreas))\n",
    "cortMeans=np.zeros(shape=(4,8,nAreas))\n",
    "fosNormMeans=np.zeros(shape=(4,8,nAreas))\n",
    "for gr in range(4):\n",
    "    for an in range(8):\n",
    "        for area in range(nAreas):\n",
    "            maskNow=masks_cFos==area+1\n",
    "            imgNow=ims_all[gr,an,2,:,:,:]\n",
    "            datNow=imgNow[maskNow]\n",
    "            refNow=ims_all[gr,an,0,:,:,:]\n",
    "            datRefNow=refNow[maskNow]\n",
    "            cortNow=ims_all[gr,an,1,:,:,:]\n",
    "            datCortNow=cortNow[maskNow]\n",
    "            fosNormNow=fosNorm_all[gr,an,:,:,:]\n",
    "            datFosNormNow=fosNormNow[maskNow] # this is what gets used later in quantification\n",
    "            fosMeans[gr,an,area]=np.nanmean(datNow)\n",
    "            refMeans[gr,an,area]=np.nanmean(datRefNow)\n",
    "            cortMeans[gr,an,area]=np.nanmean(datCortNow)\n",
    "            fosNormMeans[gr,an,area]=np.nanmean(datFosNormNow)# this is what gets used later in quantification"
   ]
  },
  {
   "cell_type": "code",
   "execution_count": null,
   "metadata": {},
   "outputs": [],
   "source": [
    "areaStr=['area.'+'{0:02d}'.format(a+1) for a in range(nAreas)]\n",
    "colNames=['group','animal']\n",
    "colNames.extend(areaStr)\n",
    "colNames"
   ]
  },
  {
   "cell_type": "code",
   "execution_count": null,
   "metadata": {},
   "outputs": [],
   "source": [
    "m,n,r = fosMeans.shape\n",
    "tmp = np.column_stack((np.repeat(np.arange(m),n),np.tile(np.arange(n),m),fosMeans.reshape(m*n,-1)))\n",
    "out_dfFos = pd.DataFrame(tmp,columns=colNames)\n",
    "tmp = np.column_stack((np.repeat(np.arange(m),n),np.tile(np.arange(n),m),refMeans.reshape(m*n,-1)))\n",
    "out_dfRef = pd.DataFrame(tmp,columns=colNames)\n",
    "tmp = np.column_stack((np.repeat(np.arange(m),n),np.tile(np.arange(n),m),cortMeans.reshape(m*n,-1)))\n",
    "out_dfCort = pd.DataFrame(tmp,columns=colNames)\n",
    "tmp = np.column_stack((np.repeat(np.arange(m),n),np.tile(np.arange(n),m),fosNormMeans.reshape(m*n,-1)))\n",
    "out_dfFosNorm = pd.DataFrame(tmp,columns=colNames)"
   ]
  },
  {
   "cell_type": "code",
   "execution_count": null,
   "metadata": {},
   "outputs": [],
   "source": [
    "out_dfFosNorm.head()"
   ]
  },
  {
   "cell_type": "code",
   "execution_count": null,
   "metadata": {},
   "outputs": [],
   "source": [
    "df_melt=out_dfFos.melt(['group','animal'], value_name='fos')\n",
    "#df_melt.loc[df_melt.area==0,'area']=np.nan\n",
    "#df_melt=df_melt[df_melt.fos!=0]\n",
    "\n",
    "df_meltRef=out_dfRef.melt(['group','animal'], value_name='signal')\n",
    "#df_meltRef=df_meltRef[df_meltRef.signal!=0]\n",
    "\n",
    "df_meltCort=out_dfCort.melt(['group','animal'], value_name='signal')\n",
    "#df_meltCort=df_meltCort[df_meltCort.signal!=0]\n",
    "\n",
    "df_meltfosNorm=out_dfFosNorm.melt(['group','animal'], value_name='signal')\n",
    "#df_meltfosNorm=df_meltfosNorm[df_meltfosNorm.signal!=0]\n",
    "\n",
    "df_melt['ref']=df_meltRef.signal\n",
    "df_melt['cort']=df_meltCort.signal\n",
    "df_melt['fosPreNorm']=df_meltfosNorm.signal"
   ]
  },
  {
   "cell_type": "code",
   "execution_count": null,
   "metadata": {},
   "outputs": [],
   "source": [
    "df_melt.head()"
   ]
  },
  {
   "cell_type": "code",
   "execution_count": null,
   "metadata": {},
   "outputs": [],
   "source": [
    "def normMean(v):\n",
    "    return v/np.nanmean(v)"
   ]
  },
  {
   "cell_type": "code",
   "execution_count": null,
   "metadata": {},
   "outputs": [],
   "source": [
    "groups"
   ]
  },
  {
   "cell_type": "code",
   "execution_count": null,
   "metadata": {},
   "outputs": [],
   "source": [
    "df_melt['fosNorm']=df_melt.groupby(['variable'])['fos'].apply(normMean)\n",
    "df_melt['fosRefNorm']=df_melt.fos/df_melt.ref\n",
    "df_melt['fosRefNormNorm']=df_melt.groupby(['variable'])['fosRefNorm'].apply(normMean)\n",
    "\n",
    "df_melt['fosCortNorm']=df_melt.fos/df_melt.cort\n",
    "df_melt['fosCortNormNorm']=df_melt.groupby(['variable'])['fosCortNorm'].apply(normMean)\n",
    "\n",
    "df_melt['fosPreNormNorm']=df_melt.groupby(['variable'])['fosPreNorm'].apply(normMean)\n",
    "\n",
    "df_melt['CortNorm']=df_melt.groupby(['variable'])['cort'].apply(normMean)\n",
    "df_melt['CortRefNorm']=df_melt.cort/df_melt.ref\n",
    "df_melt['CortRefNormNorm']=df_melt.groupby(['variable'])['CortRefNorm'].apply(normMean)\n",
    "df_melt['condition']=np.array(groups)[df_melt.group.astype('int')]\n",
    "\n",
    "df_melt.head()"
   ]
  },
  {
   "cell_type": "code",
   "execution_count": null,
   "metadata": {},
   "outputs": [],
   "source": [
    "dfMaskComments=pd.read_excel(p_maskComments,\n",
    "                             sheet_name='hcrMerge_cFos',\n",
    "                            header=1)\n",
    "dfMaskComments.head()"
   ]
  },
  {
   "cell_type": "code",
   "execution_count": null,
   "metadata": {},
   "outputs": [],
   "source": [
    "df_melt['areaNum']=np.unique(df_melt.variable,return_inverse=True)[1]\n",
    "df_melt['areaName']=dfMaskComments.area[df_melt['areaNum']].values\n",
    "df_melt['areaShort']=dfMaskComments.areaShort[df_melt['areaNum']].values\n",
    "df_melt['areaMini']=dfMaskComments.areaMini[df_melt['areaNum']].values\n",
    "df_melt.head()"
   ]
  },
  {
   "cell_type": "code",
   "execution_count": null,
   "metadata": {},
   "outputs": [],
   "source": [
    "areaNames=dfMaskComments['area']\n",
    "values = np.unique(brightMask.ravel())\n",
    "values=values[~np.isnan(values)][:-1]\n"
   ]
  },
  {
   "cell_type": "code",
   "execution_count": null,
   "metadata": {},
   "outputs": [],
   "source": [
    "tmp=df_melt.groupby(['areaName','condition'],sort=False).fosRefNorm.mean()\n",
    "tmp[areaNames[1]]"
   ]
  },
  {
   "cell_type": "code",
   "execution_count": null,
   "metadata": {},
   "outputs": [],
   "source": [
    "tmp[areaNames[2]]"
   ]
  },
  {
   "cell_type": "markdown",
   "metadata": {},
   "source": [
    "# visualization of cfos difference to no-stim\n",
    "## start by sorting brain area mean cfos according to correlation with attraction\n",
    "### (this is later re-sorted according to clustering)"
   ]
  },
  {
   "cell_type": "code",
   "execution_count": null,
   "metadata": {},
   "outputs": [],
   "source": [
    "attract=np.array([0.005,0.03,0.22,0.28])"
   ]
  },
  {
   "cell_type": "code",
   "execution_count": null,
   "metadata": {},
   "outputs": [],
   "source": [
    "from scipy import stats\n",
    "corr=np.zeros((nAreas,6))\n",
    "for i,a in enumerate(areaNames):\n",
    "    x=tmp[a]\n",
    "    s, itc, r, p, std = stats.linregress(attract,x)\n",
    "    corr[i]=[i,s, itc, r, p, std]\n",
    "dfCorr=pd.DataFrame(corr,columns=['i','slope','intercept','r_value','p_value','std'])\n",
    "dfCorr['area']=areaNames\n",
    "\n",
    "dfCorr['sr']=dfCorr.slope*np.abs(dfCorr.r_value)\n",
    "dfCorr.head()\n",
    "\n"
   ]
  },
  {
   "cell_type": "code",
   "execution_count": null,
   "metadata": {},
   "outputs": [],
   "source": [
    "dfCorr.loc[dfCorr.area=='Outer','sr']=-99"
   ]
  },
  {
   "cell_type": "markdown",
   "metadata": {},
   "source": [
    "dfCorr.sort_values(by='sr',ascending=False)"
   ]
  },
  {
   "cell_type": "code",
   "execution_count": null,
   "metadata": {},
   "outputs": [],
   "source": [
    "order=np.argsort(dfCorr.sr).values[::-1]\n",
    "order"
   ]
  },
  {
   "cell_type": "code",
   "execution_count": null,
   "metadata": {},
   "outputs": [],
   "source": [
    "tt=df_melt.condition.unique()\n",
    "tt.sort()\n",
    "tt"
   ]
  },
  {
   "cell_type": "code",
   "execution_count": null,
   "metadata": {},
   "outputs": [],
   "source": [
    "df_melt.loc[df_melt.group==0,'animal']"
   ]
  },
  {
   "cell_type": "code",
   "execution_count": null,
   "metadata": {},
   "outputs": [],
   "source": [
    "def groupCohen(x, cat='condition',test=2,colName='fosRefNorm'):\n",
    "    dat=x.copy()\n",
    "    dat.set_index(['animal', cat])\n",
    "\n",
    "    catLevels = np.array(['noStim', 'cont', 'bout', 'conspecific'])\n",
    "    res=[]\n",
    "    for i,c in enumerate(catLevels[1:]):\n",
    "        d2 = dat.loc[dat[cat] == c,colName]#iloc[:,2:]\n",
    "        d1 = dat.loc[dat[cat] == 'noStim',colName]#iloc[:,2:]\n",
    "\n",
    "        # calculate the size of samples\n",
    "        n1, n2 = len(d1), len(d2)\n",
    "        # calculate the variance of the samples\n",
    "        s1, s2 = np.nanvar(d1, ddof=1), np.nanvar(d2, ddof=1)\n",
    "        # calculate the pooled standard deviation\n",
    "        s = np.sqrt(((n1 - 1) * s1 + (n2 - 1) * s2) / (n1 + n2 - 2))\n",
    "        # calculate the means of the samples\n",
    "        u1, u2 = np.nanmean(d1), np.nanmean(d2)\n",
    "        # calculate the effect size\n",
    "        r=(u2 - u1) / s\n",
    "\n",
    "        #print('d1:',d1.values,'d2:',d2.values,s1,s2,r)\n",
    "        res.append(r)\n",
    "    return np.array(res)"
   ]
  },
  {
   "cell_type": "code",
   "execution_count": null,
   "metadata": {},
   "outputs": [],
   "source": [
    "def groupttest(x, cat='condition',test=2,colName='fosRefNorm'):\n",
    "    dat=x.copy()\n",
    "    dat.set_index(['animal', cat])\n",
    "\n",
    "    catLevels = np.array(['noStim', 'cont', 'bout', 'conspecific'])\n",
    "    res=[]\n",
    "    for i,c in enumerate(catLevels[1:]):\n",
    "        d2 = dat.loc[dat[cat] == c,colName]#iloc[:,2:]\n",
    "        d1 = dat.loc[dat[cat] == 'noStim',colName]#iloc[:,2:]\n",
    "        s,p=sta.ttest_ind(d1,d2)\n",
    "        #print(c,d1.mean(),d2.mean(),d1.mean()-d2.mean(),p)\n",
    "        res.append(p)\n",
    "    return np.array(res)"
   ]
  },
  {
   "cell_type": "code",
   "execution_count": null,
   "metadata": {},
   "outputs": [],
   "source": [
    "tmp=df_melt.groupby(['areaNum','condition'],sort=False).fosRefNorm.mean().reset_index()\n",
    "tmp=tmp.pivot(index='areaNum',columns='condition',values='fosRefNorm')\n",
    "areaNames=df_melt.groupby(['areaName'],sort=False).areaMini.first()\n",
    "tmp.index=areaNames[tmp.index]\n",
    "order2=np.argsort(dfCorr.sr.values)[::-1]\n",
    "\n",
    "tmp=tmp.iloc[order2]\n",
    "tmp=tmp[tmp.columns[[3,2,0,1]]]"
   ]
  },
  {
   "cell_type": "code",
   "execution_count": null,
   "metadata": {},
   "outputs": [],
   "source": [
    "tmp.head()"
   ]
  },
  {
   "cell_type": "code",
   "execution_count": null,
   "metadata": {},
   "outputs": [],
   "source": [
    "d1=[1,2,3,18,22]\n",
    "d2=[17,18,19,20,21]\n",
    "print(sta.ttest_ind(d1,d2))\n",
    "print(sta.mannwhitneyu(d1,d2,alternative='less'))"
   ]
  },
  {
   "cell_type": "code",
   "execution_count": null,
   "metadata": {},
   "outputs": [],
   "source": [
    "values = np.unique(brightMask[~np.isnan(brightMask)].ravel())\n",
    "order=dfCorr[dfCorr.i.isin(values-1)].sort_values(by='sr').i.values.astype('int')[::-1]\n",
    "areaNames=dfMaskComments['areaMini'].values#[order]\n",
    "labelNames=dfMaskComments['areaShort'].values#[order]\n",
    "labelPretty=[a+': '+b for a,b in zip(areaNames,labelNames)]\n",
    "labelPretty"
   ]
  },
  {
   "cell_type": "code",
   "execution_count": null,
   "metadata": {
    "scrolled": true
   },
   "outputs": [],
   "source": [
    "tmp2=tmp.copy()\n",
    "tmp2=tmp2-np.tile(tmp2.noStim,(4,1)).T#[:-1]\n",
    "len(labelPretty)"
   ]
  },
  {
   "cell_type": "code",
   "execution_count": null,
   "metadata": {},
   "outputs": [],
   "source": [
    "tmp3=tmp.copy()\n",
    "tmp3=(tmp3-np.tile(tmp3.noStim,(4,1)).T)/(tmp3+np.tile(tmp3.noStim,(4,1)).T)\n",
    "len(labelPretty)"
   ]
  },
  {
   "cell_type": "code",
   "execution_count": null,
   "metadata": {},
   "outputs": [],
   "source": [
    "\n",
    "g1=3\n",
    "g2=2\n",
    "ix=(df_melt.areaMini=='nMLF')&(df_melt.group==g1)\n",
    "tt=df_melt[ix]\n",
    "d1=tt.fosRefNorm.values\n",
    "ix=(df_melt.areaMini=='nMLF')&(df_melt.group==g2)\n",
    "tt=df_melt[ix]\n",
    "d2=tt.fosRefNorm.values\n",
    "n1, n2 = len(d1), len(d2)\n",
    "# calculate the variance of the samples\n",
    "s1, s2 = np.nanvar(d1, ddof=1), np.nanvar(d2, ddof=1)\n",
    "# calculate the pooled standard deviation\n",
    "s = np.sqrt(((n1 - 1) * s1 + (n2 - 1) * s2) / (n1 + n2 - 2))\n",
    "# calculate the means of the samples\n",
    "u1, u2 = np.nanmean(d1), np.nanmean(d2)\n",
    "# calculate the effect size\n",
    "(u2 - u1) / s\n"
   ]
  },
  {
   "cell_type": "code",
   "execution_count": null,
   "metadata": {},
   "outputs": [],
   "source": [
    "tmp4=tmp3.copy()\n",
    "tmp4.loc[:,['cont','bout','conspecific']]=np.vstack(df_melt.groupby(['areaNum'],sort=False).apply(groupCohen)[order2].values)\n",
    "tmp4.head()"
   ]
  },
  {
   "cell_type": "code",
   "execution_count": null,
   "metadata": {},
   "outputs": [],
   "source": [
    "order2"
   ]
  },
  {
   "cell_type": "code",
   "execution_count": null,
   "metadata": {},
   "outputs": [],
   "source": [
    "df_melt2=df_melt[~np.isnan(df_melt.fos)]\n",
    "np.sum(np.isnan(df_melt2.fosRefNorm))"
   ]
  },
  {
   "cell_type": "code",
   "execution_count": null,
   "metadata": {
    "scrolled": false
   },
   "outputs": [],
   "source": [
    "tmp5=tmp3.copy()\n",
    "tmp5.loc[:,['cont','bout','conspecific']]=np.vstack(df_melt2.groupby(['areaNum'],sort=False).apply(groupttest)[order2].values)\n",
    "tmp6=tmp5.copy()\n",
    "tmp6.loc[tmp6.index=='o',:]=0\n",
    "bins = np.array([-0.00001,.001,.01,.05,10])/3 #Correct for number of comparisons in each \n",
    "labels = [3,2,1,0]\n",
    "stars=np.array(['','*','**','***',''])\n",
    "for c in ['cont','bout','conspecific']:\n",
    "    tmp6.loc[:,c]=pd.cut(tmp6.loc[:,c], bins=bins,labels=labels).astype('int')\n",
    "    tmp6[tmp6<0]=4\n",
    "tmp6.loc[:,'noStim']=4\n",
    "tmp6.loc[:,:]=stars[tmp6.values]\n",
    "tmp6.head(30)"
   ]
  },
  {
   "cell_type": "code",
   "execution_count": null,
   "metadata": {},
   "outputs": [],
   "source": [
    "tmp5.to_csv(FigureDir+'FigSource1eb.csv')"
   ]
  },
  {
   "cell_type": "code",
   "execution_count": null,
   "metadata": {},
   "outputs": [],
   "source": [
    "df_melt2.to_csv(FigureDir+'FigSource1e.csv')"
   ]
  },
  {
   "cell_type": "code",
   "execution_count": null,
   "metadata": {},
   "outputs": [],
   "source": [
    "tmp4[:-1].to_csv(FigureDir+'FigSource1ec.csv')"
   ]
  },
  {
   "cell_type": "code",
   "execution_count": null,
   "metadata": {},
   "outputs": [],
   "source": [
    "fig, ax = plt.subplots(figsize=(20/inToCm,4/inToCm))\n",
    "ax=sns.heatmap(tmp4[:-1].T,\n",
    "               square=True,\n",
    "               cmap='coolwarm',\n",
    "               center=0,\n",
    "               vmin=-3,\n",
    "               vmax=4,\n",
    "               yticklabels=['No stim',\n",
    "                           'Continuous',\n",
    "                           'Bout-like',\n",
    "                           'Conspecific'],\n",
    "                annot=tmp6[:-1].T,\n",
    "               fmt = '',\n",
    "               annot_kws={'size':7,\n",
    "                         'color':'k'},\n",
    "               cbar_kws={'shrink':0.4,\n",
    "                         'aspect':10,\n",
    "                         'pad':.01,\n",
    "                        'label': 'Effect size'})\n",
    "\n",
    "cbar = ax.collections[0].colorbar\n",
    "cbar.set_ticks([-3, 0, 4])\n",
    "ax.set_ylabel('')\n",
    "ax.set_xticklabels(ax.get_xmajorticklabels(), fontsize = 8);\n",
    "\n",
    "ax.set_xlabel('Activity Cluster');\n",
    "figPath=FigureDir+'hcr_allQuantHeat_cohen.svg'\n",
    "plt.savefig(figPath,bbox_inches='tight')"
   ]
  },
  {
   "cell_type": "code",
   "execution_count": null,
   "metadata": {},
   "outputs": [],
   "source": [
    "#fig, ax = plt.subplots(figsize=(20/inToCm,4/inToCm))\n",
    "\n",
    "cg=sns.clustermap(tmp4[:-1].T,\n",
    "               row_cluster=False,\n",
    "                 figsize=(20/inToCm,4/inToCm))\n",
    "\n",
    "clusterOrder=cg.dendrogram_col.reordered_ind\n",
    "\n"
   ]
  },
  {
   "cell_type": "code",
   "execution_count": null,
   "metadata": {},
   "outputs": [],
   "source": [
    "cg=sns.clustermap(tmp4[:-1].T,\n",
    "               cmap='coolwarm',\n",
    "               center=0,\n",
    "               row_cluster=False,\n",
    "               annot=tmp6[:-1].T,#.iloc[:,clusterOrder],\n",
    "               fmt = '',\n",
    "                xticklabels = 1,\n",
    "               vmin=-3,\n",
    "               vmax=4,\n",
    "              figsize=(28/inToCm,6/inToCm),\n",
    "                annot_kws={'size':10,\n",
    "                         'color':'k'},\n",
    "                 )\n",
    "\n",
    "cg.ax_heatmap.axvline(5,ls=':',c='k')\n",
    "cg.ax_heatmap.axvline(11,ls=':',c='k')\n",
    "cg.ax_heatmap.axvline(18,ls=':',c='k')\n",
    "cg.ax_heatmap.axvline(23,ls=':',c='k')\n",
    "cg.ax_heatmap.text(0,-1.5,'Group:', fontsize = 10)\n",
    "cg.ax_heatmap.text(4,-1.5,'1', fontsize = 10)\n",
    "cg.ax_heatmap.text(10,-1.5,'2', fontsize = 10)\n",
    "cg.ax_heatmap.text(15,-1.5,'3', fontsize = 10)\n",
    "cg.ax_heatmap.text(22,-1.5,'4', fontsize = 10)\n",
    "cg.ax_heatmap.text(28,-1.5,'5', fontsize = 10)\n",
    "cg.cax.set_visible(False)\n",
    "\n",
    "cbaxes = cg.ax_heatmap.figure.add_axes([0.91, .45, 0.01, 0.3]) \n",
    "cb = plt.colorbar(ax.get_children()[0], \n",
    "                  cax = cbaxes,\n",
    "                 orientation='vertical')  \n",
    "cbaxes.text(-4.5,4.5,'4',fontsize=10)\n",
    "cbaxes.text(-4.5,-4.5,'-3',fontsize=10)\n",
    "cbaxes.text(10,-3,'Effect size \\n(Cohen\\'s d)',fontsize=10,rotation=90)\n",
    "cbar = ax.collections[0].colorbar\n",
    "cbar.set_ticks([-3,4])\n",
    "cbar.set_ticklabels([])\n",
    "cg.ax_heatmap.set_ylabel('')\n",
    "cg.ax_heatmap.set_xlabel('Activity cluster',fontsize=10)\n",
    "cg.ax_heatmap.set_yticklabels(ax.get_ymajorticklabels(), fontsize = 10);\n",
    "cg.ax_heatmap.set_xticklabels(cg.ax_heatmap.get_xticklabels(), fontsize = 10);\n",
    "cg.ax_heatmap.yaxis.set_label_position(\"left\")\n",
    "cg.ax_heatmap.yaxis.tick_left()\n",
    "\n",
    "figPath=FigureDir+'hcr_allQuantHeat_cohenCluster.svg'\n",
    "plt.savefig(figPath,bbox_inches='tight')"
   ]
  },
  {
   "cell_type": "code",
   "execution_count": null,
   "metadata": {},
   "outputs": [],
   "source": [
    "fig, ax = plt.subplots(figsize=(18/inToCm,6/inToCm))\n",
    "\n",
    "values = np.unique(brightMask[~np.isnan(brightMask)].ravel())\n",
    "\n",
    "# get the colors of the values, according to the \n",
    "# colormap used by imshow\n",
    "#colors = [im.cmap(im.norm(value)) for value in np.arange(33)]\n",
    "# create a patch (proxy artist) for every color \n",
    "\n",
    "order=dfCorr[dfCorr.i.isin(values-1)].sort_values(by='sr').i.values.astype('int')[::-1]\n",
    "areaNames=dfMaskComments['areaMini'].values[order]\n",
    "\n",
    "plt.setp(ax.lines, zorder=100)\n",
    "plt.setp(ax.collections, zorder=100, label=\"\")\n",
    "\n",
    "sns.barplot(data=df_melt,\n",
    "              x='areaMini',\n",
    "              hue='condition',\n",
    "              y='fosRefNorm',\n",
    "              #join=False,\n",
    "              ax=ax,\n",
    "              #dodge=0.5,\n",
    "              zorder=-100,\n",
    "              ci='sd',\n",
    "              #color='k'\n",
    "              #markers='.',\n",
    "              palette=co,\n",
    "              order=areaNames[clusterOrder],\n",
    "            estimator=np.nanmedian,\n",
    "            errwidth=1,\n",
    "              )\n",
    "\n",
    "sns.despine()\n",
    "ax.set_xlabel('');\n",
    "#$\\it{c-fos/}$\\n$\\it{elavl3}$\n",
    "ax.set_ylabel('$\\it{c}$-$\\it{fos\\ /\\ elavl3}$');\n",
    "ax.set_ylim([0,1.25])\n",
    "handles, labels = ax.get_legend_handles_labels()\n",
    "labels=np.array(['Bout-like','Continuous','Conspecific','No stim'])[[3,1,0,2]]\n",
    "\n",
    "l = plt.legend(handles[0:4], labels[0:4], title='',ncol=4,handletextpad=0,\n",
    "               loc='center',bbox_to_anchor=(.5, .9),\n",
    "              frameon=False)\n",
    "\n",
    "plt.xticks(rotation=90)\n",
    "\n",
    "figPath=FigureDir+'hcr_allQuant2_norm_sort.svg'\n",
    "plt.savefig(figPath,bbox_inches='tight')\n",
    "figPath=FigureDir+'hcr_allQuant2_norm_sort.png'\n",
    "plt.savefig(figPath,bbox_inches='tight')"
   ]
  },
  {
   "cell_type": "markdown",
   "metadata": {},
   "source": [
    "# Plot annotated average slices"
   ]
  },
  {
   "cell_type": "code",
   "execution_count": null,
   "metadata": {},
   "outputs": [],
   "source": [
    "from matplotlib.colors import ListedColormap\n",
    "\n",
    "anatomyColors=ListedColormap(sns.color_palette('tab20',33))"
   ]
  },
  {
   "cell_type": "code",
   "execution_count": null,
   "metadata": {},
   "outputs": [],
   "source": [
    "def PlotAnnotatedSlice(img,ax=None,labels=None,clim=None,cmap=None,aspect=1.0,fontSize=6):\n",
    "    sns.set_palette('tab20', n_colors=33)\n",
    "    areas=np.unique(img[~np.isnan(img)])\n",
    "    areaCenters=np.zeros((areas.shape[0],3))\n",
    "    for i,a in enumerate(areas):\n",
    "        areaCenters[i,0]=a\n",
    "        areaCenters[i,1:]=list(nd.measurements.center_of_mass(img==a))\n",
    "    \n",
    "    if ax is not None:\n",
    "        im=ax.imshow(img,clim=clim,cmap=cmap,alpha=.8,aspect=aspect)\n",
    "        for a in areaCenters:\n",
    "            #ax.text(a[2]-5,a[1],str(int(a[0]))+\":\"+labels[int(a[0])-1],fontSize=6)\n",
    "            ax.text(a[2]-5,a[1],labels[int(a[0])-1],fontsize=fontSize)\n",
    "        return im\n",
    "    else:\n",
    "        return areaCenters\n",
    "    "
   ]
  },
  {
   "cell_type": "code",
   "execution_count": null,
   "metadata": {},
   "outputs": [],
   "source": [
    "areaNames"
   ]
  },
  {
   "cell_type": "code",
   "execution_count": null,
   "metadata": {},
   "outputs": [],
   "source": [
    "def drawArrow(ax,length=40,ori=(1,1),pos=(100,100),labels=['A','L'],fontSize=8,col='w'):\n",
    "    ax.annotate( labels[0], xy=(pos[0]-(length*ori[0]), pos[1]),\n",
    "              xytext=(pos[0]-(length*ori[0]), pos[1]-(length*ori[1])) , \n",
    "                va = \"bottom\", \n",
    "                ha=\"center\",\n",
    "                color=col,\n",
    "                annotation_clip=False,\n",
    "                fontsize=fontSize,\n",
    "               arrowprops=dict(color=col,\n",
    "                              arrowstyle='<-',\n",
    "                               lw=1,\n",
    "                              shrinkB=0),\n",
    "                bbox=dict(pad=-5, facecolor=\"none\", edgecolor=\"none\")\n",
    "               )\n",
    "    ax.annotate( labels[1], xy=(pos[0]-(length*ori[0]), pos[1]),\n",
    "              xytext=(pos[0], pos[1]) , \n",
    "                va = \"center\", \n",
    "                ha=\"center\",\n",
    "                color=col,\n",
    "                annotation_clip=False,\n",
    "                fontsize=fontSize,\n",
    "               arrowprops=dict(color=col,\n",
    "                              arrowstyle='<-',\n",
    "                               lw=1,\n",
    "                               shrinkA=0,\n",
    "                              shrinkB=0),\n",
    "                bbox=dict(pad=-0, facecolor=\"none\", edgecolor=\"none\")\n",
    "               )"
   ]
  },
  {
   "cell_type": "code",
   "execution_count": null,
   "metadata": {},
   "outputs": [],
   "source": [
    "originalUmpPx=1406/1950\n",
    "scaling=1950/512\n",
    "zScaleFactor=3/(originalUmpPx*scaling)\n",
    "zScaleFactor"
   ]
  },
  {
   "cell_type": "code",
   "execution_count": null,
   "metadata": {},
   "outputs": [],
   "source": [
    "lim=[(80,380),(490,50),(0,200)]\n",
    "clim=[(1,33),(0,50),(0,255),(0,50),(254,255),(0,2.5)]\n",
    "\n",
    "xlim=(30,530)\n",
    "ylim=(40,410)\n",
    "x,y,z=255,305,160\n",
    "\n",
    "z0=120\n",
    "z2=200\n",
    "mid=230\n",
    "fig = plt.figure(figsize=(8,8))\n",
    "axes=[]\n",
    "axes.append(fig.add_subplot(2, 3, 2))\n",
    "axes.append(fig.add_subplot(4, 2, 5))\n",
    "axes.append(fig.add_subplot(4, 2, 6))\n",
    "axes.append(fig.add_subplot(2, 3, 1))\n",
    "axes.append(fig.add_subplot(2, 3, 3))\n",
    "#axes.append(fig.add_subplot(4, 1, 4))\n",
    "axes=np.array(axes)\n",
    "\n",
    "maskHalf=brightMask.copy()\n",
    "maskHalf[:,:,:mid]=np.nan\n",
    "fosmasked=np.nanmax(fosNorm_merge_avg,axis=0)*(masks_cFos!=14)\n",
    "sns.set_palette('tab20', n_colors=33)\n",
    "areaNames=dfMaskComments['areaMini'].values#[order]\n",
    "\n",
    "axes[0].imshow(fosmasked[z],clim=clim[5],cmap='binary')\n",
    "#axes[0].imshow(maskHalf[z],clim=clim[0],cmap=anatomyColors,alpha=.8)\n",
    "PlotAnnotatedSlice(maskHalf[z],ax=axes[0],clim=clim[0],cmap=anatomyColors,labels=areaNames,fontSize=10)\n",
    "axes[3].imshow(fosmasked[z0],clim=clim[5],cmap='binary')\n",
    "#axes[3].imshow(maskHalf[z0],clim=clim[0],alpha=.8,cmap=anatomyColors)\n",
    "PlotAnnotatedSlice(maskHalf[z0],ax=axes[3],clim=clim[0],cmap=anatomyColors,labels=areaNames,fontSize=10)\n",
    "axes[4].imshow(fosmasked[z2],clim=clim[5],cmap='binary')\n",
    "\n",
    "#axes[4].imshow(maskHalf[z2],clim=clim[0],alpha=.8,cmap=anatomyColors)\n",
    "PlotAnnotatedSlice(maskHalf[z2],ax=axes[4],clim=clim[0],cmap=anatomyColors,labels=areaNames,fontSize=10)\n",
    "im2=axes[2].imshow(fosmasked[:,y,:],clim=clim[5],cmap='binary',aspect=zScaleFactor)\n",
    "#im=axes[2].imshow(maskHalf[:,y,:],clim=clim[0],alpha=.8,cmap=anatomyColors)\n",
    "im=PlotAnnotatedSlice(maskHalf[:,y,:],ax=axes[2],clim=clim[0],cmap=anatomyColors,labels=areaNames,aspect=zScaleFactor,fontSize=10)\n",
    "axes[1].imshow(fosmasked[:,:,x],clim=clim[5],cmap='binary',aspect=zScaleFactor)\n",
    "#axes[1].imshow(maskHalf[:,:,x],clim=clim[0],alpha=.8,cmap=anatomyColors)\n",
    "PlotAnnotatedSlice(maskHalf[:,:,x],ax=axes[1],clim=clim[0],cmap=anatomyColors,labels=areaNames,aspect=zScaleFactor,fontSize=10)\n",
    "\n",
    "for a in axes[[0,3,4]]:\n",
    "    a.axvline(x,c='lightgray')\n",
    "    a.axhline(y,c='lightgray')\n",
    "    a.axvline(mid,c='gray',ls='--')\n",
    "    a.set_ylim(lim[1])\n",
    "    a.set_xlim(lim[0])\n",
    "\n",
    "axes[1].set_ylim([270,70])\n",
    "axes[1].set_xlim([40,480])\n",
    "axes[2].set_xlim(lim[0])\n",
    "axes[2].set_ylim([270,70])\n",
    "\n",
    "\n",
    "axes[3].text(lim[0][0],lim[1][1]+20,'XY',color='k',fontsize=10)\n",
    "axes[3].text(lim[0][0],lim[1][1]+60,'z='+str(int(z0*3.))+' um',color='k',fontsize=10)\n",
    "axes[0].text(lim[0][0],lim[1][1]+20,'XY',color='k',fontsize=10)\n",
    "axes[0].text(lim[0][0],lim[1][1]+60,'z='+str(int(z*3.))+' um',color='k',fontsize=10)\n",
    "axes[4].text(lim[0][0],lim[1][1]+20,'XY',color='k',fontsize=10)\n",
    "axes[4].text(lim[0][0],lim[1][1]+60,'z='+str(int(z2*3.))+' um',color='k',fontsize=10)\n",
    "axes[1].text(lim[0][0],lim[1][1]+20,'YZ',color='k',fontsize=10)\n",
    "axes[2].text(lim[0][0],lim[1][1]+20,'XZ',color='k',fontsize=10)\n",
    "\n",
    "axes[1].axvline(y,c='lightgray')\n",
    "axes[1].axhline(z,c='lightgray')\n",
    "axes[1].axhline(z0,c='lightgray')\n",
    "axes[1].axhline(z2,c='lightgray')\n",
    "\n",
    "axes[2].axvline(x,c='lightgray')\n",
    "axes[2].axhline(z,c='lightgray')\n",
    "axes[2].axhline(z0,c='lightgray')\n",
    "axes[2].axhline(z2,c='lightgray')\n",
    "axes[2].axvline(mid,c='gray',ls='--')\n",
    "\n",
    "\n",
    "    \n",
    "for i,a in enumerate(axes):\n",
    "    a.axis('off')\n",
    "    a.set_xticks([])\n",
    "    a.set_yticks([])\n",
    "    a.set_ylabel(\"\")\n",
    "    a.set_position([0, 0, 1, 1], which='both')\n",
    "    if i==4:\n",
    "        x=[lim[0][0],lim[0][0]+200/2.75]\n",
    "        y=[lim[1][0]+10,lim[1][0]+10]\n",
    "        line = lines.Line2D(x, y, lw=2, color='k', alpha=1,solid_capstyle='butt')\n",
    "        line.set_clip_on(False)\n",
    "        a.add_line(line)\n",
    "\n",
    "        \n",
    "drawArrow(axes[4],pos=(330,490),labels=['A','L'],ori=(-1,1),length=50,col='k',fontSize=10)\n",
    "drawArrow(axes[1],pos=(450,240),labels=['D','A'],ori=(-1,1),length=50,col='k',fontSize=10)\n",
    "drawArrow(axes[2],pos=(330,240),labels=['D','L'],ori=(-1,1),length=50,col='k',fontSize=10)\n",
    "\n",
    "cax = fig.add_axes([0.86, 0.35, 0.01, 0.05])\n",
    "clb=fig.colorbar(im2, cax=cax,\n",
    "             orientation='vertical',\n",
    "            pad=0.1,\n",
    "                           shrink=.5,\n",
    "            )\n",
    "\n",
    "clb.ax.tick_params(labelsize=10)\n",
    "clb.ax.text(-.5,3.2,'$\\it{c}$-$\\it{fos}$/\\n$\\it{elavl3}$',fontsize=10)\n",
    "      \n",
    "        \n",
    "fig.subplots_adjust(left=None, bottom=None, right=None, top=None, wspace=None, hspace=None)\n",
    "#fig.tight_layout(pad=0)\n",
    "figPath=FigureDir+'hcr_cfosMasksAndNames_3h1c1s_clean.svg'\n",
    "plt.savefig(figPath,bbox_inches='tight')"
   ]
  },
  {
   "cell_type": "code",
   "execution_count": null,
   "metadata": {},
   "outputs": [],
   "source": [
    "from skimage import exposure\n",
    "refAllMergeGamma=exposure.adjust_gamma(refAllMerge, 0.5)"
   ]
  },
  {
   "cell_type": "code",
   "execution_count": null,
   "metadata": {
    "scrolled": false
   },
   "outputs": [],
   "source": [
    "lim=[(80,380),(490,50),(0,200)]\n",
    "clim=[(1,33),(0,50),(0,255),(0,50),(253,255)]\n",
    "\n",
    "xlim=(30,530)\n",
    "ylim=(40,410)\n",
    "\n",
    "zTop=115\n",
    "zBottom=240\n",
    "\n",
    "yFront=100\n",
    "yBack=500\n",
    "nPerView=12\n",
    "\n",
    "fig,axes=plt.subplots(6,4,figsize=(15/inToCm,27/inToCm), dpi=300,\n",
    "                     gridspec_kw={'height_ratios': [4,4,4,3,3,3]})\n",
    "axes=axes.ravel()\n",
    "\n",
    "maskHalf=brightMask.copy()\n",
    "maskHalf[:,:,:mid]=np.nan\n",
    "fosmasked=np.nanmax(fosNorm_merge_avg,axis=0)*(masks_cFos!=14)\n",
    "sns.set_palette('tab20', n_colors=33)\n",
    "\n",
    "for i in range(nPerView):\n",
    "    zDiff=(zBottom-zTop)/nPerView\n",
    "    z=int(zTop+(zDiff*i))\n",
    "    axes[i].imshow(255-refAllMergeGamma[z],clim=(246,255),cmap='gray')\n",
    "    axes[i].text(lim[0][0],lim[1][1],'z='+str(z*3)+'um',fontsize=8)\n",
    "    PlotAnnotatedSlice(maskHalf[z],ax=axes[i],clim=clim[0],cmap=anatomyColors,labels=areaNames)\n",
    "\n",
    "    axes[i].set_ylim(lim[1])\n",
    "    axes[i].set_xlim(lim[0])\n",
    "    if i==nPerView-1:\n",
    "        x=[lim[0][1]-200/2.75,lim[0][1]]\n",
    "        y=[lim[1][0]+10,lim[1][0]+10]\n",
    "        line = lines.Line2D(x, y, lw=2, color='k', alpha=1)\n",
    "        line.set_clip_on(False)\n",
    "        axes[i].add_line(line)\n",
    "        drawArrow(axes[i],pos=(250,450),labels=['A','L'],ori=(-1,1),length=100,col='k')\n",
    "    \n",
    "for i in range(nPerView):\n",
    "    yDiff=(yBack-yFront)/nPerView\n",
    "    y=int(yFront+(yDiff*i))\n",
    "    axes[i+nPerView].imshow(255-refAllMergeGamma[:,y,:],clim=(246,255),cmap='gray',aspect=zScaleFactor)\n",
    "    axes[i+nPerView].text(lim[0][0],-20,'y='+str(y*3)+'um',fontsize=8)\n",
    "\n",
    "    PlotAnnotatedSlice(maskHalf[:,y,:],ax=axes[i+nPerView],clim=clim[0],cmap=anatomyColors,labels=areaNames,aspect=zScaleFactor)\n",
    "\n",
    "    axes[i+nPerView].set_xlim(lim[0])\n",
    "    axes[i+nPerView].set_ylim([270,0])\n",
    "\n",
    "fig.text(0,1,'Figure S1')\n",
    "for i,a in enumerate(axes.ravel()):\n",
    "    a.axis('off')\n",
    "    a.set_xticks([])\n",
    "    a.set_yticks([])\n",
    "    a.set_ylabel(\"\")\n",
    "    #a.set_position([0, 0, 1, 1], which='both')\n",
    "    \n",
    "#drawArrow(axes[4],pos=(230,400),labels=['A','L'],ori=(1,1),length=200)\n",
    "\n",
    "\n",
    "fig.subplots_adjust(left=None, bottom=None, right=None, top=None, wspace=None, hspace=None)\n",
    "fig.tight_layout(pad=1)\n",
    "figPath=FigureDir+'FigureS1_hcr_refMasksAndNames.svg'\n",
    "plt.savefig(figPath,bbox_inches='tight')"
   ]
  },
  {
   "cell_type": "code",
   "execution_count": null,
   "metadata": {},
   "outputs": [],
   "source": [
    "zoomCoors=np.array([\n",
    "    [60,250,360,160,115,125,0,0.5,[18,16],2],\n",
    "    [160,250,140,100,148,180,0,1,[1,2],1.5],\n",
    "    [170,295,120,130,190,210,0,1,[4,21,6],1.5]\n",
    "])\n",
    "print(zoomCoors)\n",
    "print(zoomCoors.shape)"
   ]
  },
  {
   "cell_type": "code",
   "execution_count": null,
   "metadata": {},
   "outputs": [],
   "source": [
    "    \n",
    "nGroups=len(groups)\n",
    "nTiles=zoomCoors.shape[0]\n",
    "fig = plt.figure(figsize=(12, 12), dpi=200)\n",
    "\n",
    "gs = gridspec.GridSpec(nrows=nTiles, ncols=5, width_ratios=[1, 1, 1, 1, .1])"
   ]
  },
  {
   "cell_type": "code",
   "execution_count": null,
   "metadata": {},
   "outputs": [],
   "source": [
    "def getContours(mask,zoomCoors):\n",
    "    image= mask[0]*0\n",
    "    #image=image.astype('uint8')*255\n",
    "    image=cv2.cvtColor(image, cv2.COLOR_GRAY2RGB)\n",
    "    centroids=[]\n",
    "    for area in zoomCoors[8]:\n",
    "        s1=zoomCoors[4]#.astype('int')\n",
    "        s2=zoomCoors[5]#.astype('int')\n",
    "        mid=int((s1+s2)/2.)\n",
    "        tmp=mask==area\n",
    "        #maskMax=tmp.max(axis=0).astype('uint8')*255\n",
    "        maskMax=tmp[mid].astype('uint8')*255\n",
    "        _, binary = cv2.threshold(255-maskMax, 225, 255, cv2.THRESH_BINARY_INV)\n",
    "        contours, hierarchy = cv2.findContours(binary, cv2.RETR_TREE, cv2.CHAIN_APPROX_SIMPLE)\n",
    "        image = cv2.drawContours(image, contours, -1, (0, 255, 0), int(zoomCoors[9]))\n",
    "\n",
    "        for c in contours:\n",
    "            # compute the center of the contour\n",
    "            M = cv2.moments(c)\n",
    "            cX = int(M[\"m10\"] / M[\"m00\"])\n",
    "            cY = int(M[\"m01\"] / M[\"m00\"])\n",
    "            centroids.append((cX,cY))\n",
    "    return image,centroids"
   ]
  },
  {
   "cell_type": "code",
   "execution_count": null,
   "metadata": {},
   "outputs": [],
   "source": [
    "def annotateRegion(ax,mask,zoomCoors,labels):\n",
    "    image= mask[0]*0\n",
    "    for area in zoomCoors[8]:\n",
    "        ax.tex"
   ]
  },
  {
   "cell_type": "code",
   "execution_count": null,
   "metadata": {},
   "outputs": [],
   "source": [
    "import matplotlib.cm as cm\n",
    "from mpl_toolkits.axes_grid1.inset_locator import inset_axes\n",
    "def plot_zoomTiles(img,\n",
    "                         groups,\n",
    "                         zoomCoors,\n",
    "                  ):\n",
    "    \n",
    "    nGroups=len(groups)\n",
    "    nTiles=zoomCoors.shape[0]\n",
    "    figRat=4/np.sum(zoomCoors[:,3]/zoomCoors[:,2])\n",
    "    figW=8\n",
    "    fig = plt.figure(figsize=(figW, figW/figRat))\n",
    "\n",
    "    gs = gridspec.GridSpec(nrows=nTiles, \n",
    "                           ncols=4, \n",
    "                           width_ratios=[1, 1, 1, 1],\n",
    "                           height_ratios=zoomCoors[:,3]/zoomCoors[:,2])\n",
    "    gs.update(wspace=0.02, hspace=0.02)\n",
    "    my_cmap = cm.gray\n",
    "    my_cmap.set_under('k', alpha=0)\n",
    "    cmap_cort = 'inferno'\n",
    "    axs=[]\n",
    "    \n",
    "    for tile in range(nTiles):\n",
    "        for gno, group in enumerate(groups):\n",
    "            s1=zoomCoors[tile,4]#.astype('int')\n",
    "            s2=zoomCoors[tile,5]#.astype('int')\n",
    "            x1,w=zoomCoors[tile,0],zoomCoors[tile,2]\n",
    "            y1,h=zoomCoors[tile,1],zoomCoors[tile,3]\n",
    "            \n",
    "            xlim=(x1,x1+w)\n",
    "            ylim=(y1,y1+h)\n",
    "            axs.append(plt.subplot(gs[tile, gno]))\n",
    "            axs[-1].imshow(img[gno,s1:s2].mean(axis=0), \n",
    "                           clim=[zoomCoors[tile,6],\n",
    "                                 zoomCoors[tile,7]], \n",
    "                           cmap='inferno')\n",
    "            contours,centroids=getContours(masks_cFos,zoomCoors[tile])\n",
    "            contours=contours.astype('float')/255\n",
    "            #contours[np.where(contours==0)]=np.nan\n",
    "            #maskedContours=np.ma.masked_where(contours < 1, contours)\n",
    "            axs[-1].imshow(contours[:,:,1],cmap=my_cmap,clim=[0.1, 1.2])\n",
    "                \n",
    "            axs[-1].set_axis_off()\n",
    "            axs[-1].set_xlim(xlim)\n",
    "            axs[-1].set_ylim(ylim[::-1])\n",
    "            if tile==0:\n",
    "                x,y = np.array([[x1+w,x1], [y1-10,y1-10]])\n",
    "                line = lines.Line2D(x, y, lw=3, color=co[gno], alpha=1,solid_capstyle='butt')\n",
    "                line.set_clip_on(False)\n",
    "                axs[-1].add_line(line)\n",
    "                axs[-1].set_title(titles[gno],fontsize=10)\n",
    "                \n",
    "            if gno==0:\n",
    "                x=[10+x1,10+x1+200/2.75]\n",
    "                y=[y1+h-4,y1+h-4]\n",
    "                line = lines.Line2D(x, y, lw=2, color='w', alpha=1,solid_capstyle='butt')\n",
    "                line.set_clip_on(False)\n",
    "                axs[-1].add_line(line)\n",
    "        \n",
    "\n",
    "        axins = inset_axes(axs[-1],\n",
    "                   width=\"5%\",  # width = 5% of parent_bbox width\n",
    "                   height=\"90%\",  # height : 50%\n",
    "                   loc='lower left',\n",
    "                   bbox_to_anchor=(1.05, 0., 1, 1),\n",
    "                   bbox_transform=axs[-1].transAxes,\n",
    "                   borderpad=0,\n",
    "                   )\n",
    "\n",
    "        sm = plt.cm.ScalarMappable(cmap='inferno', \n",
    "                                   norm=plt.Normalize(vmin=zoomCoors[tile,6], \n",
    "                                                      vmax=zoomCoors[tile,7]))\n",
    "        sm._A = []\n",
    "        clb = plt.colorbar(sm, \n",
    "                           pad=0.1,\n",
    "                           shrink=.5,\n",
    "                           cax=axins,ticks=[0,.2])\n",
    "        #clb.ax.tick_params(labelsize=10)\n",
    "        #clb.set_label('cFOS',fontsize=8)\n",
    "        \n",
    "\n",
    "    \n",
    "    for i,a in enumerate(axs):\n",
    "        a.axis('off')\n",
    "        a.set_xticks([])\n",
    "        a.set_yticks([])\n",
    "        a.set_ylabel(\"\")\n",
    "        #a.set_position([0, 0, 1, 1], which='both')\n",
    "\n",
    "    fig.subplots_adjust(left=None, bottom=None, right=None, top=None, wspace=5, hspace=5)\n",
    "    fig.tight_layout(pad=5)\n",
    "\n",
    "    \n",
    "\n",
    "    return fig,axs,centroids"
   ]
  },
  {
   "cell_type": "code",
   "execution_count": null,
   "metadata": {},
   "outputs": [],
   "source": [
    "miniLabels=dfMaskComments.areaMini.values\n",
    "\n",
    "miniLabels"
   ]
  },
  {
   "cell_type": "code",
   "execution_count": null,
   "metadata": {
    "scrolled": false
   },
   "outputs": [],
   "source": [
    "miniLabels=dfMaskComments.areaMini.values\n",
    "fig,axs,centroids=plot_zoomTiles(fosNorm_merge_avg*(masks_cFos!=14),groups,zoomCoors)\n",
    "\n",
    "axs[0].text(165,405,miniLabels[zoomCoors[0][8][0]-1],size=10,color='w')\n",
    "axs[0].text(210,370,miniLabels[zoomCoors[0][8][1]-1],size=10,color='w')\n",
    "\n",
    "axs[4].text(170,310,miniLabels[zoomCoors[1][8][0]-1],size=10,color='w')\n",
    "axs[4].text(170,280,miniLabels[zoomCoors[1][8][1]-1],size=10,color='w')\n",
    "\n",
    "axs[8].text(180,330,miniLabels[zoomCoors[2][8][0]-1],size=10,color='w')\n",
    "axs[8].text(180,370,miniLabels[zoomCoors[2][8][1]-1],size=10,color='w')\n",
    "axs[8].text(180,410,miniLabels[zoomCoors[2][8][2]-1],size=10,color='w')\n",
    "plt.rcParams['svg.fonttype'] = 'none'\n",
    "drawArrow(axs[7],pos=(250,340),labels=['A','L'],ori=(-1,1),fontSize=10)\n",
    "\n",
    "figPath=FigureDir+'hcr_cfosExamplePlanes.svg'\n",
    "plt.savefig(figPath,bbox_inches='tight')"
   ]
  },
  {
   "cell_type": "code",
   "execution_count": null,
   "metadata": {},
   "outputs": [],
   "source": [
    "centroids"
   ]
  },
  {
   "cell_type": "markdown",
   "metadata": {},
   "source": [
    "\n",
    "im_refCortFos=mpimg.imread('J:\\\\_Projects\\\\bpn_man\\\\data\\\\raw\\\\hcr_allAnimalAvg_ref_cort_fos-160.png')"
   ]
  },
  {
   "cell_type": "code",
   "execution_count": null,
   "metadata": {},
   "outputs": [],
   "source": [
    "dfCellCounts=pd.read_excel(p_cellCounts,header=0)\n",
    "dfCellCounts.head()"
   ]
  },
  {
   "cell_type": "code",
   "execution_count": null,
   "metadata": {},
   "outputs": [],
   "source": [
    "tmp=pd.melt(dfCellCounts.loc[:7,['Cort','CortFos']],var_name='marker',value_name='count')\n",
    "tmp.loc[:,'group']='merge'\n",
    "tmp2=dfCellCounts[['condition','fosR']]\n",
    "tmp2.loc[:,'fosR']=tmp2.fosR.values*2\n",
    "tmp2.columns=['group','count']\n",
    "tmp2['marker']='cFos'\n",
    "tmp3=pd.concat([tmp,tmp2],sort=True)"
   ]
  },
  {
   "cell_type": "code",
   "execution_count": null,
   "metadata": {},
   "outputs": [],
   "source": [
    "co2=co\n",
    "co2.append([0,0,0])\n",
    "co2=np.array(co2)[[0,1,4,2,3]]\n",
    "co2"
   ]
  },
  {
   "cell_type": "code",
   "execution_count": null,
   "metadata": {},
   "outputs": [],
   "source": [
    "tmp3.reset_index()"
   ]
  },
  {
   "cell_type": "code",
   "execution_count": null,
   "metadata": {},
   "outputs": [],
   "source": [
    "sns.pointplot(data=tmp3.reset_index(),\n",
    "              x='marker',\n",
    "              hue='group',\n",
    "              y='count')"
   ]
  },
  {
   "cell_type": "code",
   "execution_count": null,
   "metadata": {},
   "outputs": [],
   "source": [
    "\n",
    "plt.rcParams['svg.fonttype'] = 'path'\n",
    "plt.rcParams['font.family'] = \"sans-serif\"\n",
    "plt.rcParams['font.sans-serif'] = \"Arial\"\n",
    "\n",
    "fig,ax=plt.subplots(figsize=(3,3),sharey=True)\n",
    "\n",
    "sns.pointplot(data=tmp3,\n",
    "              x='marker',\n",
    "              hue='group',\n",
    "              y='count',\n",
    "              order=['cFos','Cort','CortFos'],\n",
    "              hue_order=['no','cont','merge','bout','conspecific'],\n",
    "             join=False,\n",
    "              palette=co2,\n",
    "             dodge=1,\n",
    "             ci='sd');\n",
    "\n",
    "\n",
    "sns.swarmplot(data=tmp3,\n",
    "              x='marker',\n",
    "              hue='group',\n",
    "              y='count',\n",
    "              order=['cFos','Cort','CortFos'],\n",
    "              hue_order=['no','cont','merge','bout','conspecific'],\n",
    "             #join=False,\n",
    "              palette=co2,\n",
    "             dodge=1);\n",
    "\n",
    "plt.ylabel('Cell count DT')\n",
    "sns.despine()\n",
    "plt.xlim([-1,2.8])\n",
    "\n",
    "handles, labels = ax.get_legend_handles_labels()\n",
    "handles=np.array(handles)\n",
    "labels=np.array(['Bout-like','Continuous','Conspecific','No stim','Combined'])[[3,1,0,2,4]]\n",
    "\n",
    "l = plt.legend(handles[[0,1,3,4,2]], labels, title='',ncol=3,handletextpad=0,\n",
    "               bbox_to_anchor=(1, 1.15),\n",
    "               labelspacing=0,\n",
    "               borderpad=0,\n",
    "               handlelength=1.5,\n",
    "               columnspacing=0.1,\n",
    "              frameon=0,\n",
    "              fontsize=8\n",
    "              )\n",
    "plt.axhline(0,c='gray',ls=':')\n",
    "plt.axvline(0.75,c='gray',ls=':')\n",
    "plt.xlabel('')\n",
    "axlab=ax.get_xticklabels()\n",
    "#$\\it{c-fos/}$\\n$\\it{elavl3}$\n",
    "from matplotlib import rc\n",
    "\n",
    "rc('text', usetex=False)\n",
    "\n",
    "#axlab[0]='\\textbf{c-fos}'\n",
    "\n",
    "axlab[0]='$\\it{c}$-$\\it{fos}$'\n",
    "axlab[1]='$\\it{cort}$'\n",
    "axlab[2]='$\\it{cort}$ & $\\it{c}$-$\\it{fos}$\\nco-expressed'\n",
    "ax.set_xticklabels(axlab, rotation = 45);\n",
    "ax.set_yticks([0,100]);\n",
    "ax.set_yticklabels(['0',' 100'],rotation=90);\n",
    "figPath=FigureDir+'hcr_cfosDTcounts.svg'\n",
    "#plt.rcParams['svg.fonttype'] = 'none'\n",
    "\n",
    "plt.savefig(figPath,bbox_inches='tight')\n"
   ]
  },
  {
   "cell_type": "code",
   "execution_count": null,
   "metadata": {
    "scrolled": false
   },
   "outputs": [],
   "source": [
    "sns.swarmplot(data=tmp3,\n",
    "              x='marker',\n",
    "              hue='group',\n",
    "              y='count',\n",
    "              order=['cFos','Cort','CortFos'],\n",
    "              hue_order=['no','cont','merge','bout','conspecific'],\n",
    "             #join=False,\n",
    "              palette=co2,\n",
    "             dodge=1);"
   ]
  },
  {
   "cell_type": "code",
   "execution_count": null,
   "metadata": {},
   "outputs": [],
   "source": [
    "tmp3.to_csv(FigureDir+'figSourceS2b.csv')"
   ]
  },
  {
   "cell_type": "markdown",
   "metadata": {},
   "source": [
    "clim=[(0,255),(0,10),(0,255),(0,60),(0,0.5),(0,100),(254.5,255)]\n",
    "\n",
    "fig = plt.figure(figsize=(3,3),\n",
    "                     #constrained_layout=True,\n",
    "                )\n",
    "axes=[]\n",
    "axes.append(0)\n",
    "axes.append(0)\n",
    "axes.append(0)\n",
    "\n",
    "for i in np.arange(4):\n",
    "    axes.append(fig.add_subplot(2, 2, i+1))\n",
    "\n",
    "       \n",
    "axes=np.array(axes)\n",
    "\n",
    "z1=zoomCoors[1,4]#.astype('int')\n",
    "z2=zoomCoors[1,5]#.astype('int')\n",
    "midz=int((z1+z2)/2.)\n",
    "midz=160\n",
    "\n",
    "x1=zoomCoors[1,0]+20#.astype('int')\n",
    "wx=zoomCoors[1,2]-40#.astype('int')\n",
    "midx=int((x1+(wx/2.)))\n",
    "midx=213\n",
    "\n",
    "y1=zoomCoors[1,1]#.astype('int')\n",
    "wy=zoomCoors[1,3]#.astype('int')\n",
    "midy=int((y1+(wy/2.)))\n",
    "midy=305\n",
    "\n",
    "#np.nanmax(fosNorm_merge_avg,axis=0)\n",
    "\n",
    "fosmasked=np.nanmax(fosNorm_merge_avg,axis=0)*(masks_cFos!=14)\n",
    "\n",
    "im_h=255-fosmasked[midz]\n",
    "im_s=255-fosmasked[:,:,midx]\n",
    "im_c=255-fosmasked[:,midy,:]\n",
    "\n",
    "my_cmap = cm.gray\n",
    "my_cmap.set_under('k', alpha=1)\n",
    "    \n",
    "\n",
    "         \n",
    "axes[4].imshow(fosNorm_merge_avgmax[midz],clim=clim[5],cmap='gray')\n",
    "axes[3].imshow(refAllMerge[midz],clim=clim[1],cmap='gray')\n",
    "axes[5].imshow(cort_merge_avg[midz],clim=clim[3],cmap='gray')\n",
    "axes[6].imshow(im_refCortFos)     \n",
    "\n",
    "\n",
    "axes[3].text(x1+10,y1+15,'$\\it{elavl3}$',color='w',fontsize=10)\n",
    "axes[4].text(x1+10,y1+15,'$\\it{c}$-$\\it{fos}$',color='w',fontsize=10)\n",
    "axes[5].text(x1+10,y1+15,'$\\it{cort}$',color='w',fontsize=10)\n",
    "\n",
    "axes[6].text(x1+3,y1+15,'$\\it{elavl3}$',color='white',fontsize=10)\n",
    "axes[6].text(x1+50,y1+15,'$\\it{c}$-$\\it{fos}$',color='yellow',fontsize=10)\n",
    "axes[6].text(x1+3,y1+30,'$\\it{cort}$',color='magenta',fontsize=10)\n",
    "\n",
    "\n",
    "\n",
    "for a in axes[[3,4,5,6]]:\n",
    "    a.set_xlim([x1,x1+wx])\n",
    "    \n",
    "\n",
    "\n",
    "for a in axes[[3,4,5,6]]:\n",
    "    a.set_ylim([y1+wy,y1])\n",
    "                \n",
    "\n",
    "for i,a in enumerate(axes[3:]):\n",
    "    a.axis('off')\n",
    "    a.set_xticks([])\n",
    "    a.set_yticks([])\n",
    "    a.set_ylabel(\"\")\n",
    "    a.set_position([0, 0, 1, 1], which='both')\n",
    "    if i==2:\n",
    "        x=[10+x1,10+x1+100/2.75]\n",
    "        y=[y1+wy-4,y1+wy-4]\n",
    "        line = lines.Line2D(x, y, lw=2, color='w', alpha=1,solid_capstyle='butt')\n",
    "        line.set_clip_on(False)\n",
    "        a.add_line(line)\n",
    "\n",
    "fig.subplots_adjust(left=None, bottom=None, right=None, top=None, wspace=None, hspace=None)\n",
    "fig.tight_layout(pad=.2)\n",
    "plt.rcParams['svg.fonttype'] = 'path'\n",
    "figPath=FigureDir+'hcr_cfosOrthoAndOverlay.svg'\n",
    "plt.savefig(figPath,bbox_inches='tight')"
   ]
  },
  {
   "cell_type": "code",
   "execution_count": null,
   "metadata": {},
   "outputs": [],
   "source": []
  }
 ],
 "metadata": {
  "kernelspec": {
   "display_name": "Python 3 (ipykernel)",
   "language": "python",
   "name": "python3"
  },
  "language_info": {
   "codemirror_mode": {
    "name": "ipython",
    "version": 3
   },
   "file_extension": ".py",
   "mimetype": "text/x-python",
   "name": "python",
   "nbconvert_exporter": "python",
   "pygments_lexer": "ipython3",
   "version": "3.9.6"
  }
 },
 "nbformat": 4,
 "nbformat_minor": 4
}
