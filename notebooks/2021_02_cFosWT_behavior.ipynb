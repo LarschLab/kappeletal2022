{
 "cells": [
  {
   "cell_type": "markdown",
   "metadata": {
    "collapsed": true
   },
   "source": [
    "# Behavior analysis of cFos experiment\n"
   ]
  },
  {
   "cell_type": "markdown",
   "metadata": {},
   "source": []
  },
  {
   "cell_type": "code",
   "execution_count": null,
   "metadata": {},
   "outputs": [],
   "source": [
    "import socket\n",
    "import os\n",
    "import pandas as pd"
   ]
  },
  {
   "cell_type": "code",
   "execution_count": null,
   "metadata": {},
   "outputs": [],
   "source": [
    "if 'startDirMaster' not in locals():\n",
    "    startDirMaster=os.getcwd()\n",
    "\n",
    "propsFn=startDirMaster+'\\\\props.csv'\n",
    "\n",
    "props=pd.read_csv(propsFn, header=None, index_col=0, squeeze=True,delim_whitespace=True).to_dict()\n",
    "#print(props)\n",
    "props"
   ]
  },
  {
   "cell_type": "code",
   "execution_count": null,
   "metadata": {},
   "outputs": [],
   "source": [
    "codeDir = '..\\\\jlsocialbehavior'\n",
    "    \n",
    "\n",
    "if 'NB_path' not in locals():\n",
    "    NB_path = os.getcwd()\n",
    "else:\n",
    "    os.chdir(NB_path)\n",
    "    \n",
    "\n",
    "base=props['BaseDir']\n",
    "#artDir=props['ArtDir']\n",
    "RawDataDir = os.path.join(base,props['RawDataDir'])+'\\\\'+'behavior\\\\'\n",
    "ProcessingDir = os.path.join(base,props['ProcessingDir'])+'\\\\'\n",
    "outputDir = os.path.join(base,props['outputDir'])+'\\\\'\n",
    "FigureDir = os.path.join(base,props['FigureDir'])+'\\\\'\n",
    "\n",
    "expFile=props['allExpBehFn']\n",
    "anFile=props['allAnBehFn']\n",
    "\n",
    "\n",
    "props\n",
    "\n",
    "print('baseFolder = ' + base)\n",
    "\n",
    "\n",
    "\n",
    "os.chdir(codeDir)\n",
    "props"
   ]
  },
  {
   "cell_type": "code",
   "execution_count": null,
   "metadata": {},
   "outputs": [],
   "source": [
    "%config InteractiveShellApp.pylab_import_all = False\n",
    "%matplotlib inline\n",
    "%pylab inline\n",
    "%reload_ext autoreload\n",
    "%autoreload 2\n",
    "\n",
    "import sys\n",
    "import fnmatch\n",
    "import numpy as np\n",
    "import math\n",
    "import matplotlib.pyplot as plt\n",
    "import pandas as pd\n",
    "from pandas import DataFrame, Series\n",
    "import seaborn as sns\n",
    "import glob\n",
    "from datetime import datetime\n",
    "from scipy import stats\n",
    "import statsmodels.stats.api as sms\n",
    "\n",
    "import functions.matrixUtilities_joh as mu\n",
    "#import functions.notebookHelper as nh\n",
    "import matplotlib.pyplot as plt\n",
    "import models.experiment as xp\n",
    "import models.experiment_set as es\n",
    "import functions.paperFigureProps as pfp\n",
    "import functions.peakdet as pkd\n",
    "\n",
    "import matplotlib as mpl\n",
    "mpl.rcParams['svg.fonttype'] = 'none'\n",
    "\n",
    "pfp.paper()\n",
    "inToCm=2.54"
   ]
  },
  {
   "cell_type": "code",
   "execution_count": null,
   "metadata": {},
   "outputs": [],
   "source": [
    "expFile"
   ]
  },
  {
   "cell_type": "code",
   "execution_count": null,
   "metadata": {},
   "outputs": [],
   "source": [
    "info=pd.read_excel(expFile)\n",
    "ix=(info.stimulusProtocol=='cFos')#&(info.date.isin(['2019-08-05','2019-08-06','2019-09-25','2019-10-04']))\n",
    "info=info[ix].reset_index(drop=True)\n",
    "info"
   ]
  },
  {
   "cell_type": "code",
   "execution_count": null,
   "metadata": {},
   "outputs": [],
   "source": [
    "infoAn=pd.read_excel(anFile)\n",
    "infoAn.tail()"
   ]
  },
  {
   "cell_type": "code",
   "execution_count": null,
   "metadata": {},
   "outputs": [],
   "source": [
    "# collect meta information and save to new csv file for batch processing\n",
    "\n",
    "aviPath=[]\n",
    "posPath=[]\n",
    "PLPath=[]\n",
    "expTime = []\n",
    "birthDayAll=[]\n",
    "anIDsAll=[]\n",
    "camHeightAll=[]\n",
    "\n",
    "camHeight=[105,180] #for arena up,dn\n",
    "\n",
    "for index,row in info.iterrows():\n",
    "\n",
    "    startDir=RawDataDir+row.path+'\\\\'\n",
    "    if not os.path.isdir(startDir):\n",
    "        print(startDir)\n",
    "        raise FileNotFoundError \n",
    "    \n",
    "    posPath.append(glob.glob(startDir+'PositionTxt*.txt')[0])\n",
    "    PLPath.append(glob.glob(startDir+'PL*.txt')[0])\n",
    "    \n",
    "    head, tail = os.path.split(posPath[-1])\n",
    "    currTime=datetime.strptime(tail[-23:-4], '%Y-%m-%dT%H_%M_%S')\n",
    "    expTime.append(currTime)\n",
    "    \n",
    "    camHeightAll.append(camHeight[('_dn_' in head)*1])\n",
    "    \n",
    "    anNrs=row.anNr #Note that anNrs are 1 based!\n",
    "    if ':' in anNrs:\n",
    "        a,b=anNrs.split(sep=':')\n",
    "        anNrs=np.arange(int(a),int(b)+1)\n",
    "    else:\n",
    "        anNrs=np.array(anNrs.split()).astype(int)\n",
    "        \n",
    "    anIDs=anNrs #-1 no more 0-based since using pandas merge to find animal numbers\n",
    "    anIDsAll.extend(anIDs)\n",
    "\n",
    "    bd=infoAn[infoAn.anNr.isin(anIDs)].bd.values\n",
    "    #bd=infoAn.bd.values[anIDs-1] #a bit dirty to use anIDs directly here. Should merge\n",
    "    birthDayAll.append(' '.join(list(bd)))\n",
    "\n",
    "info['camHeight']=camHeightAll\n",
    "info['txtPath']=posPath\n",
    "info['pairList']=PLPath\n",
    "info['aviPath']='default'\n",
    "info['birthDayAll']=birthDayAll\n",
    "info['epiDur'] = 5      # duration of individual episodes (default: 5 minutes)\n",
    "info['episodes'] = 9   # number of episodes to process: -1 to load all episodes (default: -1)\n",
    "info['inDish'] = 10#np.arange(len(posPath))*120     # time in dish before experiments started (default: 10)\n",
    "info['arenaDiameter_mm'] = 70 # arena diameter (default: 100 mm)\n",
    "info['minShift'] = 120 # minimum number of seconds to shift for control IAD\n",
    "info['episodePLcode'] = 0 # flag if first two characters of episode name encode animal pair matrix (default: 0)\n",
    "info['recomputeAnimalSize'] = 0 # flag to compute animals size from avi file (takes time, default: 1)\n",
    "info['SaveNeighborhoodMaps'] = 0 # flag to save neighborhood maps for subsequent analysis (takes time, default: 1)\n",
    "info['computeLeadership'] = 0 # flag to compute leadership index (takes time, default: 1)\n",
    "info['ComputeBouts'] = 1 # flag to compute swim bout frequency (takes time, default: 1)\n",
    "#info['set'] = np.arange(len(posPath))   # experiment set: can label groups of experiments (default: 0)\n",
    "info['ProcessingDir']=ProcessingDir\n",
    "info['outputDir']=outputDir\n",
    "info['expTime']=expTime\n",
    "info['readLim'] = 54*5*60*30+11"
   ]
  },
  {
   "cell_type": "code",
   "execution_count": null,
   "metadata": {},
   "outputs": [],
   "source": [
    "startDir"
   ]
  },
  {
   "cell_type": "code",
   "execution_count": null,
   "metadata": {},
   "outputs": [],
   "source": [
    "csvFile=os.path.join(ProcessingDir,'processingSettings.csv')\n",
    "info.to_csv(csvFile,encoding='utf-8')\n",
    "info.tail()"
   ]
  },
  {
   "cell_type": "code",
   "execution_count": null,
   "metadata": {},
   "outputs": [],
   "source": [
    "info.shape"
   ]
  },
  {
   "cell_type": "code",
   "execution_count": null,
   "metadata": {
    "scrolled": false
   },
   "outputs": [],
   "source": [
    "rereadData=1\n",
    "if rereadData:\n",
    "    def readExperiment(keepData=True):\n",
    "        tmp=es.experiment_set(csvFile=csvFile,MissingOnly=True)\n",
    "        if keepData:\n",
    "            return tmp\n",
    "        else:\n",
    "            return 1\n",
    "\n",
    "    expSet=readExperiment(keepData=True)"
   ]
  },
  {
   "cell_type": "code",
   "execution_count": null,
   "metadata": {},
   "outputs": [],
   "source": [
    "csvPath = []\n",
    "for f in [mu.splitall(x)[-1][:-4] for x in info.txtPath]:\n",
    "    csvPath.append(glob.glob(ProcessingDir+f+'*siSummary*.csv')[0])\n",
    "\n",
    "df=pd.DataFrame()\n",
    "i=0\n",
    "for fn in csvPath:\n",
    "    print(fn)\n",
    "    tmp=pd.read_csv(fn,index_col=0,sep=',')\n",
    "    tmp.animalSet=i\n",
    "    tmp.animalIndex=tmp.animalIndex+((i)*35)\n",
    "    tmp.animalIndex=np.array(anIDsAll)[tmp.animalIndex]\n",
    "    df=pd.concat([df,tmp])\n",
    "    i+=1\n",
    "df['episode']=[x.strip().replace('_','') for x in df['episode']]\n",
    "df=pd.merge(df,infoAn[['anNr','line','group']],left_on='animalIndex',right_on='anNr',how='left')\n",
    "df=pd.merge(df,info[['date']],left_on='animalSet',right_on=info.index,how='left')\n",
    "\n",
    "print('df shape',df.shape)\n",
    "df.tail(10)"
   ]
  },
  {
   "cell_type": "code",
   "execution_count": null,
   "metadata": {},
   "outputs": [],
   "source": [
    "df.info()"
   ]
  },
  {
   "cell_type": "markdown",
   "metadata": {},
   "source": [
    "# Overview attraction over time"
   ]
  },
  {
   "cell_type": "markdown",
   "metadata": {},
   "source": [
    "Plot shoaling index over time for each group."
   ]
  },
  {
   "cell_type": "code",
   "execution_count": null,
   "metadata": {
    "scrolled": false
   },
   "outputs": [],
   "source": [
    "dfPlot=(df.groupby(['inDishTime','group']).si.agg(['mean','std'])\n",
    "    .unstack()\n",
    "    .stack(dropna=True)\n",
    "    .reset_index())\n",
    "\n",
    "dfPlot.head()\n"
   ]
  },
  {
   "cell_type": "code",
   "execution_count": null,
   "metadata": {},
   "outputs": [],
   "source": [
    "fig, axes = plt.subplots(figsize=(6, 3))\n",
    "g=sns.scatterplot(data=dfPlot,x='inDishTime',hue='group',y='mean')\n",
    "plt.xlim([0,60])\n",
    "plt.ylim([-.05,.4])\n",
    "plt.xlabel('Time (Minutes)')\n",
    "plt.ylabel('Attraction')\n",
    "plt.title('Mean attraction, all animals')\n",
    "#plt.legend(title='Stimulus dot motion')\n",
    "#plt.legend(labels=['Continuous motion','Bout motion','Continuous + loom','Bout + loom'],\n",
    "#          title='Stimulus dot motion')\n",
    "\n",
    "#new_title = 'Stimulus dot motion'\n",
    "#g.legend_.set_title(new_title)\n",
    "# replace labels\n",
    "plt.legend(ncol=1,handletextpad=0,bbox_to_anchor=(1, 1),loc='upper left')\n",
    "plt.axhline(0)\n",
    "\n",
    "sns.despine()\n",
    "\n",
    "figPath=base+'ScreenTimeCourse.png'\n",
    "#plt.savefig(figPath,bbox_inches='tight')\n"
   ]
  },
  {
   "cell_type": "markdown",
   "metadata": {},
   "source": [
    "# Mean response over all stimuli per animal"
   ]
  },
  {
   "cell_type": "code",
   "execution_count": null,
   "metadata": {},
   "outputs": [],
   "source": [
    "df.animalSet.unique()"
   ]
  },
  {
   "cell_type": "code",
   "execution_count": null,
   "metadata": {},
   "outputs": [],
   "source": [
    "sns.set_palette('viridis',3)\n",
    "co=sns.color_palette(\"viridis\", 3)\n",
    "idx=(df['inDishTime']<60) & (df['inDishTime']>15)\n",
    "dfDR=df[idx]\n",
    "dfEpiAn=dfDR.groupby(['episode','animalIndex','line','group','date'],sort=True).mean().reset_index()"
   ]
  },
  {
   "cell_type": "code",
   "execution_count": null,
   "metadata": {},
   "outputs": [],
   "source": [
    "sns.stripplot(data=dfEpiAn,x='group',y='si',zorder=-1,hue='line')\n",
    "sns.pointplot(data=dfEpiAn,x='group',y='si',hue='line',zorder=100,scale=0.2,palette=['gray'],join=False)\n",
    "sns.pointplot(data=dfEpiAn,x='group',y='si',join=False,zorder=100)\n",
    "ax=plt.gca()\n",
    "ax.legend_.remove()"
   ]
  },
  {
   "cell_type": "code",
   "execution_count": null,
   "metadata": {},
   "outputs": [],
   "source": [
    "fig, axes = plt.subplots(figsize=(3,3))\n",
    "sns.pointplot(data=dfEpiAn,\n",
    "              x='group',\n",
    "              y='si',\n",
    "              hue='group',\n",
    "              zorder=100,\n",
    "              scale=1,\n",
    "              join=False,\n",
    "             ci='sd',\n",
    "             dodge=.5)\n",
    "sns.despine()\n",
    "\n",
    "axes.set_ylabel('attraction index')\n",
    "axes.axhline(0,ls=':',color='k')\n",
    "axes.set_title('Attraction tuning per stim group');\n",
    "plt.legend(title='age',ncol=2,handletextpad=0,bbox_to_anchor=(1, 1.05))\n",
    "plt.xticks(rotation=90);"
   ]
  },
  {
   "cell_type": "code",
   "execution_count": null,
   "metadata": {},
   "outputs": [],
   "source": [
    "fig, axes = plt.subplots(figsize=(3,3))\n",
    "sns.pointplot(data=dfEpiAn,\n",
    "              x='group',\n",
    "              y='avgSpeed_smooth',\n",
    "              hue='group',\n",
    "              zorder=100,\n",
    "              scale=1,\n",
    "              join=False,\n",
    "             ci='sd',\n",
    "             dodge=.5)\n",
    "sns.despine()\n",
    "\n",
    "axes.set_ylabel('speed')\n",
    "axes.axhline(0,ls=':',color='k')\n",
    "axes.set_title('Attraction tuning per stim group');\n",
    "plt.legend(title='age',ncol=2,handletextpad=0,bbox_to_anchor=(1, 1.05))\n",
    "plt.xticks(rotation=90);"
   ]
  },
  {
   "cell_type": "code",
   "execution_count": null,
   "metadata": {},
   "outputs": [],
   "source": [
    "fig, axes = plt.subplots(figsize=(3,3))\n",
    "sns.pointplot(data=dfEpiAn,\n",
    "              x='group',\n",
    "              y='boutDur',\n",
    "              hue='group',\n",
    "              zorder=100,\n",
    "              scale=1,\n",
    "              join=False,\n",
    "             ci='sd',\n",
    "             dodge=.5)\n",
    "sns.despine()\n",
    "\n",
    "axes.set_ylabel('boutDur')\n",
    "axes.axhline(0,ls=':',color='k')\n",
    "axes.set_title('Attraction tuning per stim group');\n",
    "plt.legend(title='age',ncol=2,handletextpad=0,bbox_to_anchor=(1, 1.05))\n",
    "plt.xticks(rotation=90);"
   ]
  },
  {
   "cell_type": "code",
   "execution_count": null,
   "metadata": {},
   "outputs": [],
   "source": [
    "co=sns.color_palette(\"tab10\", 4)\n",
    "co[1:]=co[:-1]\n",
    "co[0]=[.6,.6,.6]\n",
    "co"
   ]
  },
  {
   "cell_type": "code",
   "execution_count": null,
   "metadata": {
    "scrolled": false
   },
   "outputs": [],
   "source": [
    "order=['invi','cont','bout','fish']\n",
    "fig, axes = plt.subplots(figsize=(4/inToCm, 9/inToCm))\n",
    "ix=(dfEpiAn.episode=='02k20f')#&(~dfEpiAn.lineSet.str.contains('_2_'))\n",
    "\n",
    "selDat=dfEpiAn\n",
    "#co=sns.color_palette(\"Dark2\", 4)\n",
    "#co[0]=[.6,.6,.6]\n",
    "#co[1]=[0,0,.9]\n",
    "#co[2]=[.95,0,0]\n",
    "#co[3]=[0,.6,0]\n",
    "\n",
    "sns.swarmplot(data=selDat,\n",
    "              x='group',\n",
    "              y='si',\n",
    "              hue='group',\n",
    "              zorder=-1,\n",
    "              dodge=.5,\n",
    "              size=5,\n",
    "              alpha=.7,\n",
    "              order=order,\n",
    "              hue_order=order,\n",
    "              palette=co\n",
    "             )\n",
    "\n",
    "sns.pointplot(data=selDat,\n",
    "              x='group',\n",
    "              y='si',\n",
    "              hue='group',\n",
    "              zorder=1000,\n",
    "              size=8,\n",
    "              dodge=.5,\n",
    "              join=False,\n",
    "              color='k',\n",
    "              ci='sd',\n",
    "              order=order,\n",
    "              hue_order=order,\n",
    "             )\n",
    "\n",
    "sns.despine()\n",
    "\n",
    "axes.set_ylabel('Attraction')\n",
    "axes.set_xticklabels('')\n",
    "axes.set_xticks([])\n",
    "axes.set_xlabel('')\n",
    "\n",
    "axes.axhline(0,ls=':',color='k')\n",
    "handles, labels = axes.get_legend_handles_labels()\n",
    "\n",
    "labels=np.array(['Bout-like','Continuous','Conspecific','No stim'])[[3,1,0,2]]\n",
    "\n",
    "l = plt.legend(handles[0:4], labels[0:4], title='',ncol=2,handletextpad=0,\n",
    "               loc='upper center',bbox_to_anchor=(0.5, 1.2),\n",
    "                             labelspacing=0,\n",
    "               borderpad=0,\n",
    "               handlelength=1.5,\n",
    "               columnspacing=0.1,\n",
    "              frameon=0,\n",
    "              fontsize=10)\n",
    "\n",
    "plt.xlim([-1,4])\n",
    "plt.ylim([-.1,.5])\n",
    "axes.text(.5,.42,'ns')\n",
    "axes.text(1.6,.45,'***')\n",
    "axes.text(2.8,.48,'***')\n",
    "\n",
    "for handle in l.legendHandles:\n",
    "    handle.set_sizes([12.0])\n",
    "\n",
    "#plt.rcParams['svg.fonttype'] = 'path'\n",
    "figPath=FigureDir+'hcrBehavior.svg'\n",
    "plt.savefig(figPath,bbox_inches='tight')\n"
   ]
  },
  {
   "cell_type": "code",
   "execution_count": null,
   "metadata": {},
   "outputs": [],
   "source": [
    "import scipy.stats as sta\n",
    "def groupttest(x, cat='group',test=2):\n",
    "    dat=x.copy()\n",
    "    dat.set_index(['animalID', cat])\n",
    "\n",
    "    catLevels = np.array(['invi', 'cont', 'bout', 'fish'])\n",
    "    res=[]\n",
    "    for i,c in enumerate(catLevels[1:]):\n",
    "        d2 = dat[dat[cat] == c].si#iloc[:,2:]\n",
    "        d1 = dat[dat[cat] == 'invi'].si#iloc[:,2:]\n",
    "        s,p=sta.ttest_ind(d1,d2)\n",
    "        #print(c,d1.mean(),d2.mean(),d1.mean()-d2.mean(),p)\n",
    "        res.append(p)\n",
    "    return np.array(res)"
   ]
  },
  {
   "cell_type": "code",
   "execution_count": null,
   "metadata": {},
   "outputs": [],
   "source": [
    "groupttest(x=selDat[['group','animalID','si']],cat='group')"
   ]
  },
  {
   "cell_type": "code",
   "execution_count": null,
   "metadata": {},
   "outputs": [],
   "source": [
    "dat=selDat[['group','animalID','si']]\n",
    "dat.set_index(['animalID', 'group'])\n",
    "cat='group'\n",
    "catLevels = np.array(['invi', 'cont', 'bout', 'fish'])\n",
    "res=[]\n",
    "dat[dat[cat] == 'invi'].si"
   ]
  },
  {
   "cell_type": "code",
   "execution_count": null,
   "metadata": {},
   "outputs": [],
   "source": []
  },
  {
   "cell_type": "code",
   "execution_count": null,
   "metadata": {},
   "outputs": [],
   "source": [
    "x=selDat.groupby(['group']).si.mean().values\n",
    "x=x[[3,1,0,2]]\n",
    "selDat.groupby(['group']).si.mean()"
   ]
  },
  {
   "cell_type": "code",
   "execution_count": null,
   "metadata": {},
   "outputs": [],
   "source": [
    "y=np.array([0.5,1.1,1,1.5])\n"
   ]
  },
  {
   "cell_type": "code",
   "execution_count": null,
   "metadata": {},
   "outputs": [],
   "source": [
    "from scipy import stats\n",
    "slope, intercept, r_value, p_value, std_err = stats.linregress(x,y)\n",
    "\n",
    "print(x)\n",
    "print(y)\n",
    "plt.plot(x,y,'.--')\n",
    "\n",
    "print(slope, intercept, r_value, p_value, std_err)"
   ]
  },
  {
   "cell_type": "code",
   "execution_count": null,
   "metadata": {},
   "outputs": [],
   "source": []
  }
 ],
 "metadata": {
  "kernelspec": {
   "display_name": "Python 3 (ipykernel)",
   "language": "python",
   "name": "python3"
  },
  "language_info": {
   "codemirror_mode": {
    "name": "ipython",
    "version": 3
   },
   "file_extension": ".py",
   "mimetype": "text/x-python",
   "name": "python",
   "nbconvert_exporter": "python",
   "pygments_lexer": "ipython3",
   "version": "3.9.6"
  }
 },
 "nbformat": 4,
 "nbformat_minor": 1
}
