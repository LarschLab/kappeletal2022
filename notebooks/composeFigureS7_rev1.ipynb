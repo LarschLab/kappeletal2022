{
 "cells": [
  {
   "cell_type": "code",
   "execution_count": 4,
   "metadata": {},
   "outputs": [],
   "source": [
    "import svgutils.transform as sg\n",
    "import pandas as pd\n",
    "import os"
   ]
  },
  {
   "cell_type": "code",
   "execution_count": 68,
   "metadata": {},
   "outputs": [
    {
     "data": {
      "text/plain": [
       "{'BaseDir': 'J:\\\\_Projects\\\\bpn_man\\\\',\n",
       " 'ProcessingDir': 'J:\\\\_Projects\\\\bpn_man\\\\data\\\\processing\\\\',\n",
       " 'outputDir': 'J:\\\\_Projects\\\\bpn_man\\\\data\\\\output\\\\',\n",
       " 'RawDataDir': 'J:\\\\_Projects\\\\bpn_man\\\\data\\\\raw\\\\',\n",
       " 'FigureDir': 'J:\\\\_Projects\\\\bpn_man\\\\figures\\\\',\n",
       " 'ArtDir': 'J:\\\\_Projects\\\\bpn_man\\\\figures\\\\artwork\\\\',\n",
       " 'allExpBehFn': 'J:\\\\_Projects\\\\bpn_man\\\\data\\\\raw\\\\behavior\\\\AllExp_bpn_behavior.xlsx',\n",
       " 'allAnBehFn': 'J:\\\\_Projects\\\\bpn_man\\\\data\\\\raw\\\\behavior\\\\allAn_bpn_behavior.xlsx',\n",
       " 'modulePath': 'C:\\\\Users\\\\johannes\\\\Dropbox\\\\python\\\\zFishBehavior\\\\dishGroupBehavior'}"
      ]
     },
     "execution_count": 68,
     "metadata": {},
     "output_type": "execute_result"
    }
   ],
   "source": [
    "propsFn='props.csv'\n",
    "props=pd.read_csv(propsFn, header=None, index_col=0, squeeze=True,delim_whitespace=True).to_dict()\n",
    "\n",
    "base=props['BaseDir']\n",
    "artDir=props['ArtDir']\n",
    "outputDir = props['outputDir']\n",
    "RawDataDir = props['RawDataDir']+'behavior\\\\'\n",
    "ProcessingDir = props['ProcessingDir']\n",
    "outputDir = props['outputDir']\n",
    "FigureDir=props['FigureDir']\n",
    "\n",
    "props"
   ]
  },
  {
   "cell_type": "code",
   "execution_count": 74,
   "metadata": {},
   "outputs": [],
   "source": [
    "FigureDir=props['FigureDir']\n",
    "fo3=FigureDir+'FigureS7rev1.svg'\n",
    "\n",
    "#FigureDir+'5_MTZ_mapsAndAttraction.svg'\n",
    "\n",
    "fa=FigureDir+'S7_computeAversion.svg'\n",
    "fb=FigureDir+'5_MTZ_mapsAndAttractionSimple_AttractAversion.svg'\n",
    "fc=FigureDir+'5_MTZ_Loom_escapeFraction.svg'\n",
    "fcc=FigureDir+'5_MTZ_ConspecificShoaling.svg'\n",
    "\n",
    "fg=FigureDir+'S7_81cControlSplit.svg'\n",
    "\n",
    "\n",
    "FigureDir=props['FigureDir'][:-1]+'_rev\\\\'\n",
    "fd=FigureDir+'f4_ablationCtrBeh_0.svg'\n",
    "fe=FigureDir+'f4_ablationCtrBeh_1.svg'\n",
    "ff=FigureDir+'f4_ablationCtrBeh_2.svg'\n",
    "fh=FigureDir+'S7_1026ControlSplit.svg'\n"
   ]
  },
  {
   "cell_type": "code",
   "execution_count": 78,
   "metadata": {},
   "outputs": [],
   "source": [
    "from svgutils.compose import *\n",
    "\n",
    "Figure(\"19cm\", \"27cm\", \n",
    "        Panel(\n",
    "              SVG(fa).scale(1).move(0, 0),\n",
    "              Text(\"a\", 5, 0, size=12, weight='bold')\n",
    "             ).move(0, 10),\n",
    "        Panel(\n",
    "              SVG(fb).move(0,0),\n",
    "              Text(\"b\", 0, 0, size=12, weight='bold')\n",
    "             ).move(280, 10),\n",
    "\n",
    "        Panel(\n",
    "              SVG(fc).move(0,0),\n",
    "              Text(\"c\", 0, 0, size=12, weight='bold')\n",
    "             ).move(480, 10),\n",
    "        Panel(\n",
    "              SVG(fcc).move(0,0),\n",
    "              Text(\"d\", 0, 0, size=12, weight='bold')\n",
    "             ).move(480, 150),\n",
    "       \n",
    "        Panel(\n",
    "              SVG(fd).move(50,0),\n",
    "              Text(\"e\", 5, 0, size=12, weight='bold'),\n",
    "              Text(\"81c:NTR ablation\", 50, 0, size=10, weight='bold')\n",
    "             ).move(0, 320),\n",
    "        Panel(\n",
    "              SVG(fe).move(50,0),\n",
    "            Text(\"s1026Et:NTR ablation\", 50, 0, size=10, weight='bold')\n",
    "             ).move(0, 470),\n",
    "        Panel(\n",
    "              SVG(ff).move(50,0),\n",
    "            Text(\"DT-laser ablation\", 50, 0, size=10, weight='bold')\n",
    "             ).move(0, 620),       \n",
    "        Panel(\n",
    "              SVG(fg).move(0,0),\n",
    "              Text(\"f\", 0, 0, size=12, weight='bold')\n",
    "             ).move(480, 320),\n",
    "        Panel(\n",
    "              SVG(fh).move(0,0),\n",
    "              Text(\"g\", 0, 0, size=12, weight='bold')\n",
    "             ).move(480, 470),\n",
    "       \n",
    "       #Text(\"Figure S7\", 5, 0, size=12, weight='bold'),\n",
    "\n",
    "        ).save(fo3)"
   ]
  },
  {
   "cell_type": "code",
   "execution_count": null,
   "metadata": {},
   "outputs": [],
   "source": []
  },
  {
   "cell_type": "code",
   "execution_count": null,
   "metadata": {},
   "outputs": [],
   "source": []
  }
 ],
 "metadata": {
  "kernelspec": {
   "display_name": "Python 3 (ipykernel)",
   "language": "python",
   "name": "python3"
  },
  "language_info": {
   "codemirror_mode": {
    "name": "ipython",
    "version": 3
   },
   "file_extension": ".py",
   "mimetype": "text/x-python",
   "name": "python",
   "nbconvert_exporter": "python",
   "pygments_lexer": "ipython3",
   "version": "3.9.6"
  }
 },
 "nbformat": 4,
 "nbformat_minor": 1
}
