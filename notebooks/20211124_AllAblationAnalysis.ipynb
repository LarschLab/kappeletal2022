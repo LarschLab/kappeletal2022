{
 "cells": [
  {
   "cell_type": "markdown",
   "metadata": {
    "collapsed": true
   },
   "source": [
    "# Summary analysis of Ablation experiments\n",
    "## 81c NTR experiment b\n",
    "## 1026 NTR-UTR experiment\n",
    "## DT laser ablation\n"
   ]
  },
  {
   "cell_type": "markdown",
   "metadata": {},
   "source": []
  },
  {
   "cell_type": "code",
   "execution_count": null,
   "metadata": {},
   "outputs": [],
   "source": [
    "import socket\n",
    "import os\n",
    "import pandas as pd"
   ]
  },
  {
   "cell_type": "code",
   "execution_count": null,
   "metadata": {},
   "outputs": [],
   "source": [
    "if 'startDirMaster' not in locals():\n",
    "    startDirMaster=os.getcwd()\n",
    "\n",
    "propsFn=startDirMaster+'\\\\props.csv'\n",
    "\n",
    "props=pd.read_csv(propsFn, header=None, index_col=0, squeeze=True,delim_whitespace=True).to_dict()\n",
    "#print(props)\n",
    "props"
   ]
  },
  {
   "cell_type": "code",
   "execution_count": null,
   "metadata": {},
   "outputs": [],
   "source": [
    "codeDir = '..\\\\jlsocialbehavior'\n",
    "    \n",
    "\n",
    "if 'NB_path' not in locals():\n",
    "    NB_path = os.getcwd()\n",
    "else:\n",
    "    os.chdir(NB_path)\n",
    "    \n",
    "\n",
    "base=props['BaseDir']\n",
    "#artDir=props['ArtDir']\n",
    "RawDataDir = os.path.join(base,props['RawDataDir'])+'\\\\'+'behavior\\\\'\n",
    "ProcessingDir = os.path.join(base,props['ProcessingDir'])+'\\\\'\n",
    "outputDir = os.path.join(base,props['outputDir'])+'\\\\'\n",
    "FigureDir = os.path.join(base,props['FigureDir'])+'\\\\'\n",
    "\n",
    "expFile=props['allExpBehFn']\n",
    "anFile=props['allAnBehFn']\n",
    "\n",
    "\n",
    "props\n",
    "\n",
    "print('baseFolder = ' + base)\n",
    "\n",
    "\n",
    "\n",
    "os.chdir(codeDir)\n",
    "props"
   ]
  },
  {
   "cell_type": "code",
   "execution_count": null,
   "metadata": {},
   "outputs": [],
   "source": []
  },
  {
   "cell_type": "code",
   "execution_count": null,
   "metadata": {},
   "outputs": [],
   "source": [
    "#-------- experiment variables\n",
    "\n",
    "tmin=80 # initial experiment time to exclude from analysis\n",
    "tmax=240 # time limit for analysis\n",
    "vmax=12 # upper limit of average swim speed to include animals. \n",
    "vmin=1.5\n",
    "bdmax=1.5 #upper limit of average bout duration to include animals."
   ]
  },
  {
   "cell_type": "code",
   "execution_count": null,
   "metadata": {},
   "outputs": [],
   "source": [
    "%config InteractiveShellApp.pylab_import_all = False\n",
    "%matplotlib inline\n",
    "%pylab inline\n",
    "%reload_ext autoreload\n",
    "%autoreload 2\n",
    "\n",
    "import sys\n",
    "import fnmatch\n",
    "import numpy as np\n",
    "import math\n",
    "import matplotlib.pyplot as plt\n",
    "import pandas as pd\n",
    "from pandas import DataFrame, Series\n",
    "import seaborn as sns\n",
    "import glob\n",
    "from datetime import datetime\n",
    "from scipy import stats\n",
    "import scipy.stats as sta\n",
    "import scipy.optimize\n",
    "import statsmodels.stats.api as sms\n",
    "\n",
    "import functions.matrixUtilities_joh as mu\n",
    "import functions.notebookHelper as nh\n",
    "import matplotlib.pyplot as plt\n",
    "import models.experiment as xp\n",
    "import models.experiment_set as es\n",
    "import functions.paperFigureProps as pfp\n",
    "import functions.peakdet as pkd\n",
    "\n",
    "pfp.paper()\n",
    "inToCm=2.54\n",
    "import matplotlib as mpl\n",
    "mpl.rcParams['svg.fonttype'] = 'none'"
   ]
  },
  {
   "cell_type": "code",
   "execution_count": null,
   "metadata": {},
   "outputs": [],
   "source": []
  },
  {
   "cell_type": "code",
   "execution_count": null,
   "metadata": {},
   "outputs": [],
   "source": [
    "info=pd.read_excel(expFile)\n",
    "info=info[info.set.isin(['d','e','f'])]\n",
    "info"
   ]
  },
  {
   "cell_type": "code",
   "execution_count": null,
   "metadata": {},
   "outputs": [],
   "source": [
    "infoAn=pd.read_excel(anFile)\n",
    "infoAn.tail()"
   ]
  },
  {
   "cell_type": "code",
   "execution_count": null,
   "metadata": {},
   "outputs": [],
   "source": [
    "# collect meta information and save to new csv file for batch processing\n",
    "\n",
    "aviPath=[]\n",
    "posPath=[]\n",
    "PLPath=[]\n",
    "expTime = []\n",
    "birthDayAll=[]\n",
    "anIDsAll=[]\n",
    "camHeightAll=[]\n",
    "arenaDiamAll=[]\n",
    "anPdishAll=[]\n",
    "\n",
    "\n",
    "#--------------\n",
    "camHeight=[105,180] #for arena up,dn ### This won't work on these Videos with 25mm lens!!!\n",
    "#--------------\n",
    "\n",
    "for index,row in info.iterrows():\n",
    "\n",
    "    startDir=RawDataDir+row.path+'\\\\'\n",
    "    if not os.path.isdir(startDir):\n",
    "        startDir=RawAlt+row.path+'\\\\'\n",
    "    if not os.path.isdir(startDir):\n",
    "        startDir=RawAlt2+row.path+'\\\\'\n",
    "        #print(index,startDir)\n",
    "    \n",
    "    posPath.append(glob.glob(startDir+'PositionTxt*.txt')[0])\n",
    "    PLPath.append(glob.glob(startDir+'PL*')[0])\n",
    "    \n",
    "    head, tail = os.path.split(posPath[-1])\n",
    "    currTime=datetime.strptime(tail[-23:-4], '%Y-%m-%dT%H_%M_%S')\n",
    "    expTime.append(currTime)\n",
    "    \n",
    "    camHeightAll.append(camHeight[('_dn_' in head)*1])\n",
    "    \n",
    "    anNrs=row.anNr #Note that anNrs are 1 based!\n",
    "    if ':' in anNrs:\n",
    "        a,b=anNrs.split(sep=':')\n",
    "        anNrs=np.arange(int(a),int(b)+1)\n",
    "    else:\n",
    "        anNrs=np.array(anNrs.split()).astype(int)\n",
    "        \n",
    "    anIDs=anNrs #-1 no more 0-based since using pandas merge to find animal numbers\n",
    "    anIDsAll.extend(anIDs)\n",
    "\n",
    "    bd=infoAn[infoAn.anNr.isin(anIDs)].bd.values\n",
    "    #bd=infoAn.bd.values[anIDs-1] #a bit dirty to use anIDs directly here. Should merge\n",
    "    birthDayAll.append(' '.join(list(bd)))\n",
    "    \n",
    "    arenaDiamAll.append(row.arenaDiam)\n",
    "    anPdishAll.append(row.anPdish)\n",
    "\n",
    "info['camHeight']=camHeightAll\n",
    "info['txtPath']=posPath\n",
    "info['pairList']=PLPath\n",
    "info['aviPath']='default'\n",
    "info['birthDayAll']=birthDayAll\n",
    "info['epiDur'] = 5      # duration of individual episodes (default: 5 minutes)\n",
    "info['episodes'] = 54   # number of episodes to process: -1 to load all episodes (default: -1)\n",
    "info['inDish'] = 10#np.arange(len(posPath))*120     # time in dish before experiments started (default: 10)\n",
    "info['arenaDiameter_mm'] = arenaDiamAll # arena diameter (default: 100 mm)\n",
    "info['anPdish']=anPdishAll\n",
    "info['minShift'] = 60 # minimum number of seconds to shift for control IAD\n",
    "info['episodePLcode'] = 0 # flag if first two characters of episode name encode animal pair matrix (default: 0)\n",
    "info['recomputeAnimalSize'] = 0 # flag to compute animals size from avi file (takes time, default: 1)\n",
    "info['SaveNeighborhoodMaps'] = 1 # flag to save neighborhood maps for subsequent analysis (takes time, default: 1)\n",
    "info['computeLeadership'] = 0 # flag to compute leadership index (takes time, default: 1)\n",
    "info['ComputeSync'] = 0 # flag to compute swim synchronization with stimulus (takes time, default: 1)\n",
    "info['ComputeBouts'] = 1 # flag to compute swim bout frequency (takes time, default: 1)\n",
    "#info['set'] = np.arange(len(posPath))   # experiment set: can label groups of experiments (default: 0)\n",
    "info['ProcessingDir']=ProcessingDir\n",
    "info['outputDir']=outputDir\n",
    "info['expTime']=expTime"
   ]
  },
  {
   "cell_type": "code",
   "execution_count": null,
   "metadata": {},
   "outputs": [],
   "source": [
    "startDir"
   ]
  },
  {
   "cell_type": "code",
   "execution_count": null,
   "metadata": {},
   "outputs": [],
   "source": [
    "posPath"
   ]
  },
  {
   "cell_type": "code",
   "execution_count": null,
   "metadata": {},
   "outputs": [],
   "source": [
    "csvFile=os.path.join(ProcessingDir,'processingSettings.csv')\n",
    "info.to_csv(csvFile,encoding='utf-8')\n",
    "info.tail()"
   ]
  },
  {
   "cell_type": "code",
   "execution_count": null,
   "metadata": {
    "scrolled": true
   },
   "outputs": [],
   "source": [
    "rereadData=1\n",
    "if rereadData:\n",
    "    def readExperiment(keepData=True):\n",
    "        tmp=es.experiment_set(csvFile=csvFile,MissingOnly=True)\n",
    "        if keepData:\n",
    "            return tmp\n",
    "        else:\n",
    "            return 1\n",
    "\n",
    "    expSet=readExperiment(keepData=False)"
   ]
  },
  {
   "cell_type": "code",
   "execution_count": null,
   "metadata": {},
   "outputs": [],
   "source": [
    "csvPath = []\n",
    "for f in [mu.splitall(x)[-1][:-4] for x in info.txtPath]:\n",
    "    csvPath.append(glob.glob(ProcessingDir+f+'*siSummary*.csv')[0])\n",
    "\n",
    "df=pd.DataFrame()\n",
    "\n",
    "startAn=0\n",
    "\n",
    "for i,fn in enumerate(csvPath):\n",
    "    \n",
    "    tmp=pd.read_csv(fn,index_col=0,sep=',')\n",
    "    tmp['experiment']=tmp.animalSet\n",
    "    tmp.animalSet=i\n",
    "    \n",
    "    nrAnimalsPerDish=info.anPdish.values[i]\n",
    "    print(fn,nrAnimalsPerDish,' animals per setup')\n",
    "    tmp.animalIndex=tmp.animalIndex+startAn\n",
    "    startAn=startAn+nrAnimalsPerDish\n",
    "    tmp['anIx']=tmp.animalIndex\n",
    "    tmp.animalIndex=np.array(anIDsAll)[tmp.animalIndex]\n",
    "    df=pd.concat([df,tmp])\n",
    "\n",
    "df['episode']=[x.strip().replace('_','') for x in df['episode']]\n",
    "df=pd.merge(df,infoAn[['anNr','line','group']],left_on='animalIndex',right_on='anNr',how='left')\n",
    "df=pd.merge(df,info[['date']],left_on='animalSet',right_on=info.index,how='left')\n",
    "\n",
    "print('df shape',df.shape)\n",
    "df.tail(10)"
   ]
  },
  {
   "cell_type": "markdown",
   "metadata": {},
   "source": [
    "## Habituation or Fatigue within 20 hours?"
   ]
  },
  {
   "cell_type": "code",
   "execution_count": null,
   "metadata": {},
   "outputs": [],
   "source": [
    "def sem(x):\n",
    "    return np.std(x,axis=0)/np.sqrt(x.shape)\n",
    "\n",
    "x=np.random.random(100)\n",
    "\n",
    "def ci95(x):\n",
    "    return np.nanmean(x)-sms.DescrStatsW(x[np.isfinite(x)]).tconfint_mean()[0]\n",
    "\n",
    "print('std of uniform = 0.2886751345948129. STDdata:',np.std(x), 'semData:',sem(x),'samples:',x.shape) \n",
    "print('ci95:',ci95(x))\n"
   ]
  },
  {
   "cell_type": "markdown",
   "metadata": {},
   "source": [
    "Plot shoaling index during closed loop skype episodes over time."
   ]
  },
  {
   "cell_type": "code",
   "execution_count": null,
   "metadata": {
    "scrolled": false
   },
   "outputs": [],
   "source": [
    "dfPlot=(df[df.group!='e'].groupby(['inDishTime','episode']).si.agg(['mean','std',sem,ci95])\n",
    "    .unstack()\n",
    "    .stack(dropna=True)\n",
    "    .reset_index())\n",
    "\n",
    "dfPlot.head()\n"
   ]
  },
  {
   "cell_type": "code",
   "execution_count": null,
   "metadata": {},
   "outputs": [],
   "source": [
    "fig, axes = plt.subplots(figsize=(6, 3))\n",
    "g=sns.scatterplot(data=dfPlot,x='inDishTime',hue='episode',y='mean')\n",
    "plt.xlim([0,5.5*60])\n",
    "plt.ylim([0,.30])\n",
    "plt.xlabel('Time (Minutes)')\n",
    "plt.ylabel('Attraction')\n",
    "plt.title('Mean attraction, all animals')\n",
    "plt.axvline(tmin)\n",
    "plt.axvline(tmax)\n",
    "\n",
    "new_title = 'Stimulus dot motion'\n",
    "g.legend_.set_title(new_title)\n",
    "# replace labels\n",
    "#plt.legend(ncol=1,handletextpad=0,bbox_to_anchor=(1, 1),loc='upper left')\n",
    "\n",
    "new_labels = ['Bout','Smooth']\n",
    "for t, l in zip(g.legend_.texts, new_labels): t.set_text(l)\n",
    "sns.despine()\n"
   ]
  },
  {
   "cell_type": "markdown",
   "metadata": {},
   "source": [
    "# Mean response over all stimuli per animal"
   ]
  },
  {
   "cell_type": "code",
   "execution_count": null,
   "metadata": {},
   "outputs": [],
   "source": [
    "df.info()"
   ]
  },
  {
   "cell_type": "code",
   "execution_count": null,
   "metadata": {},
   "outputs": [],
   "source": [
    "sns.set_palette('viridis',3)\n",
    "co=sns.color_palette(\"viridis\", 3)\n",
    "idx=(df['inDishTime']<tmax) & (df['inDishTime']>tmin)&(df.group!='e')\n",
    "dfDR=df[idx]\n",
    "dfEpiAn=dfDR.groupby(['episode','animalIndex','line','group','experiment'],sort=True).mean().reset_index()\n"
   ]
  },
  {
   "cell_type": "code",
   "execution_count": null,
   "metadata": {},
   "outputs": [],
   "source": [
    "sns.pairplot(data=dfEpiAn[(dfEpiAn.experiment=='e')&(dfEpiAn.episode=='02k20f')&(dfEpiAn.boutDur<3)]\n",
    "             ,vars=['si','avgSpeed_smooth','boutDur','thigmoIndex'],hue='group')"
   ]
  },
  {
   "cell_type": "code",
   "execution_count": null,
   "metadata": {},
   "outputs": [],
   "source": [
    "showepis=['10k20f','02k20f']"
   ]
  },
  {
   "cell_type": "code",
   "execution_count": null,
   "metadata": {},
   "outputs": [],
   "source": [
    "sns.pairplot(data=dfEpiAn[(dfEpiAn.episode.isin(showepis))],\n",
    "             hue='group',\n",
    "             markers=\"+\",\n",
    "             height=1.5,\n",
    "             vars=['si','avgSpeed_smooth','thigmoIndex','boutDur']);"
   ]
  },
  {
   "cell_type": "markdown",
   "metadata": {},
   "source": [
    "## there are some outlier animals:\n",
    "###  with high speed >10, or with high boutDur >1.2"
   ]
  },
  {
   "cell_type": "code",
   "execution_count": null,
   "metadata": {},
   "outputs": [],
   "source": [
    "showepis"
   ]
  },
  {
   "cell_type": "code",
   "execution_count": null,
   "metadata": {
    "scrolled": false
   },
   "outputs": [],
   "source": [
    "dfEpiAn[(dfEpiAn.experiment=='f')&dfEpiAn.episode.isin(showepis)]"
   ]
  },
  {
   "cell_type": "code",
   "execution_count": null,
   "metadata": {},
   "outputs": [],
   "source": [
    "\n",
    "\n",
    "ix=(dfEpiAn.episode.isin(showepis))&((dfEpiAn.avgSpeed_smooth<vmin)|(dfEpiAn.avgSpeed_smooth>vmax)|(dfEpiAn.boutDur>bdmax))\n",
    "\n",
    "\n",
    "excludeAnimals=dfEpiAn[ix].animalIndex.values\n",
    "print('excluding animals: ',excludeAnimals)\n",
    "print('vmax: ',vmax)\n",
    "print('vmin: ',vmin)\n",
    "print('bdmax: ',bdmax)\n",
    "\n",
    "print('tmin: ',tmin)\n",
    "print('tmax: ',tmax)"
   ]
  },
  {
   "cell_type": "code",
   "execution_count": null,
   "metadata": {},
   "outputs": [],
   "source": [
    "sns.pairplot(data=dfEpiAn[(dfEpiAn.experiment=='e')&(dfEpiAn.episode=='02k20f')&(dfEpiAn.boutDur<3)]\n",
    "             ,vars=['si','avgSpeed_smooth','boutDur','thigmoIndex'],hue='group')"
   ]
  },
  {
   "cell_type": "code",
   "execution_count": null,
   "metadata": {},
   "outputs": [],
   "source": [
    "df.animalIndex.unique()"
   ]
  },
  {
   "cell_type": "code",
   "execution_count": null,
   "metadata": {},
   "outputs": [],
   "source": [
    "idxExclude=(df['inDishTime']<tmax) & (df['inDishTime']>tmin)&(df.group!='e')&(~df.animalIndex.isin(excludeAnimals))\n",
    "dfDR=df[idxExclude]\n",
    "dfEpiAn=dfDR.groupby(['episode','animalIndex','line','group','experiment'],sort=True).mean().reset_index()"
   ]
  },
  {
   "cell_type": "code",
   "execution_count": null,
   "metadata": {},
   "outputs": [],
   "source": [
    "sns.pairplot(data=dfEpiAn[(dfEpiAn.experiment=='e')&(dfEpiAn.episode=='02k20f')&(dfEpiAn.boutDur<3)]\n",
    "             ,vars=['si','avgSpeed_smooth','boutDur','thigmoIndex'],hue='group')"
   ]
  },
  {
   "cell_type": "code",
   "execution_count": null,
   "metadata": {},
   "outputs": [],
   "source": [
    "sns.pairplot(data=dfEpiAn[(dfEpiAn.episode.isin(showepis))],\n",
    "             hue='group',\n",
    "             markers=\"+\",\n",
    "             height=1.5,\n",
    "             vars=['si','avgSpeed_smooth','thigmoIndex','boutDur']);"
   ]
  },
  {
   "cell_type": "code",
   "execution_count": null,
   "metadata": {},
   "outputs": [],
   "source": [
    "from matplotlib.lines import Line2D\n",
    "def cohen_d(x,y):\n",
    "    nx = len(x)\n",
    "    ny = len(y)\n",
    "    dof = nx + ny - 2\n",
    "    return (np.mean(x) - np.mean(y)) / np.sqrt(((nx-1)*np.std(x, ddof=1) ** 2 + (ny-1)*np.std(y, ddof=1) ** 2) / dof)\n",
    "\n",
    "def plotGroupComparison(data,groups,param,labels,ylims=[],legendOffset=2):\n",
    "    ncols=np.array(param).shape[0]\n",
    "    fig, ax = plt.subplots(1,ncols,figsize=(ncols*3/inToCm,5/inToCm))\n",
    "    \n",
    "    palSimpleBar=['gray','r']\n",
    "    \n",
    "    for i,p in enumerate(param):\n",
    "        sns.pointplot(y=p,\n",
    "                    x='group',\n",
    "                    hue='group',\n",
    "                      order=groups,\n",
    "                      hue_order=groups,\n",
    "                    data=data,\n",
    "                    ax=ax[i],\n",
    "                      join=False,\n",
    "                      color='k',\n",
    "                      legend=True,\n",
    "                    #palette=palSimpleBar,\n",
    "                    linewidth=2,\n",
    "                    ci='sd',\n",
    "                     zorder=100)\n",
    "\n",
    "        sns.stripplot(y=p, \n",
    "                    x='group',\n",
    "                      hue='group',\n",
    "                      order=groups,\n",
    "                      hue_order=groups,\n",
    "                    data=data,\n",
    "                    ax=ax[i],\n",
    "                    palette=palSimpleBar,\n",
    "                      alpha=.5,\n",
    "                      clip_on=False,\n",
    "                      zorder=-100\n",
    "                    #linewidth=2,\n",
    "                    )\n",
    "\n",
    "        ax[i].set_xlabel('')\n",
    "        ax[i].set_xticks([])\n",
    "        ax[i].set_ylabel(labels[i])\n",
    "        if ylims:\n",
    "            ax[i].set_ylim(ylims[i])\n",
    "\n",
    "        sns.despine()\n",
    "        ax[i].legend().remove()\n",
    "        \n",
    "        d2 = data.loc[data['group'] == groups[0],p]#iloc[:,2:]\n",
    "        d1 = data.loc[data['group'] == groups[1],p]#iloc[:,2:]\n",
    "\n",
    "\n",
    "        s,p=sta.ttest_ind(d1[~np.isnan(d1)],d2[~np.isnan(d2)])\n",
    "        \n",
    "        d=cohen_d(d1[~np.isnan(d1)],d2[~np.isnan(d2)])\n",
    "\n",
    "        \n",
    "        if (i>-10):\n",
    "            ax[i].set_ylim(bottom=0,top=None)\n",
    "        else:\n",
    "            ax[i].axhline(0,ls=\":\",color='gray')\n",
    "            \n",
    "        txtHeight=ax[i].get_ylim()[1]+(np.diff(ax[i].get_ylim())*0.06)\n",
    "        a = \"p={:01.3f}\".format(p) if p >= 0.001 else \"p={:01.0e}\".format(p)\n",
    "        if p<0.05:\n",
    "            txtCol='k'\n",
    "        else:\n",
    "            txtCol='gray'\n",
    "        ax[i].text(-0.4,txtHeight,a,color=txtCol)\n",
    "        txtHeight=ax[i].get_ylim()[1]+(np.diff(ax[i].get_ylim())*0.16)\n",
    "        ax[i].text(-0.4,txtHeight,\"d={:01.2f}\".format(d),color=txtCol)\n",
    "        \n",
    "        \n",
    "        \n",
    "    plt.tight_layout()\n",
    "    \n",
    "    # Create dummy Line2D objects for legend\n",
    "    h1 = Line2D([0], [0], marker='o', markersize=np.sqrt(20), color=palSimpleBar[0], linestyle='None')\n",
    "    h2 = Line2D([0], [0], marker='o', markersize=np.sqrt(20), color=palSimpleBar[1], linestyle='None')\n",
    "\n",
    "    \n",
    "    #l=ax[i].legend()\n",
    "    #h,l = ax[i].get_legend_handles_labels()\n",
    "    \n",
    "    ax[i].legend([h1, h2], ['Ctr','Abl'],frameon=False,ncol=1,\n",
    "    #ax[i].legend(h[2:], ['Ctr','Abl'],frameon=False,ncol=1,\n",
    "    loc=7,title='',bbox_to_anchor=(legendOffset, 0.8),\n",
    "            labelspacing=.3,\n",
    "    borderpad=.1,\n",
    "    handlelength=0,\n",
    "    columnspacing=2)   "
   ]
  },
  {
   "cell_type": "code",
   "execution_count": null,
   "metadata": {},
   "outputs": [],
   "source": [
    "dfEpiAn.head()"
   ]
  },
  {
   "cell_type": "code",
   "execution_count": null,
   "metadata": {},
   "outputs": [],
   "source": [
    "dfEpiAn.info()"
   ]
  },
  {
   "cell_type": "code",
   "execution_count": null,
   "metadata": {
    "scrolled": false
   },
   "outputs": [],
   "source": [
    "pltExperiments=['d','e','f']\n",
    "\n",
    "dfDR=df[idxExclude]\n",
    "dfEpiAn=dfDR.groupby(['episode','animalIndex','line','group','experiment'],sort=True).mean().reset_index()\n",
    "dfEpiAn['boutFreq']=1./dfEpiAn.boutDur\n",
    "dfEpiAn['dishRad']=35\n",
    "dfEpiAn.loc[(dfEpiAn.experiment=='f'),'dishRad']=50\n",
    "dfEpiAn['thigNorm']=dfEpiAn.thigmoIndex/dfEpiAn.dishRad\n",
    "\n",
    "for i,e in enumerate(pltExperiments):\n",
    "    ix=(dfEpiAn.episode.isin(showepis))&(dfEpiAn.experiment==e)\n",
    "    data=dfEpiAn[ix]\n",
    "    plotGroupComparison(data,['ctr','abl'],['si','avgSpeed_smooth','boutFreq','thigNorm'],\n",
    "                    labels=['Attraction','Swim speed (mm/s)','Bout frequency (Hz)','Thigmotaxis'],\n",
    "                       ylims=[[0,.5],[0,10],[0,3],[0,1]])\n",
    "    \n",
    "    \n"
   ]
  },
  {
   "cell_type": "code",
   "execution_count": null,
   "metadata": {},
   "outputs": [],
   "source": [
    "ix=(dfEpiAn.episode.isin(showepis))#&(dfEpiAn.experiment==e)\n",
    "data=dfEpiAn[ix]\n",
    "dataShoal=data"
   ]
  },
  {
   "cell_type": "code",
   "execution_count": null,
   "metadata": {},
   "outputs": [],
   "source": [
    "lAll=[]\n",
    "for f in posPath:\n",
    "    head, tail = os.path.split(f)\n",
    "    search=head+'\\PositionTxt*.txt'\n",
    "    currTxt=glob.glob(search)[0]\n",
    "    npyFileOut=currTxt[:-4]+'MapData.npy'\n",
    "    head, tail = os.path.split(npyFileOut)\n",
    "    npyFileOut=ProcessingDir+tail\n",
    "    print('loading:',npyFileOut)\n",
    "    lAll.append(np.load(npyFileOut))"
   ]
  },
  {
   "cell_type": "code",
   "execution_count": null,
   "metadata": {},
   "outputs": [],
   "source": [
    "allMaps=np.concatenate(tuple(lAll),axis=0)\n",
    "allMaps.shape"
   ]
  },
  {
   "cell_type": "code",
   "execution_count": null,
   "metadata": {},
   "outputs": [],
   "source": [
    "levels=df['experiment'].unique()\n",
    "treat=df['group'].unique()[:2]\n",
    "avgT=np.zeros((len(treat),len(levels),allMaps.shape[3],allMaps.shape[4]))\n",
    "avgTC=np.zeros((len(treat),len(levels),allMaps.shape[3],allMaps.shape[4]))"
   ]
  },
  {
   "cell_type": "code",
   "execution_count": null,
   "metadata": {},
   "outputs": [],
   "source": [
    "len(levels)"
   ]
  },
  {
   "cell_type": "code",
   "execution_count": null,
   "metadata": {},
   "outputs": [],
   "source": [
    "treat"
   ]
  },
  {
   "cell_type": "code",
   "execution_count": null,
   "metadata": {},
   "outputs": [],
   "source": [
    "levels"
   ]
  },
  {
   "cell_type": "code",
   "execution_count": null,
   "metadata": {},
   "outputs": [],
   "source": [
    "for t,tr in enumerate(treat):\n",
    "    for i in range(len(levels)):\n",
    "        ix=np.where((df['episode'].isin(showepis)) &(df['experiment']==levels[i]) & (df['group']==tr)&idxExclude)[0]\n",
    "        avgT[t,i,:,:]=allMaps[ix,0,0,:,:].mean(axis=0)\n",
    "        avgTC[t,i,:,:]=allMaps[ix,0,1,:,:].mean(axis=0)"
   ]
  },
  {
   "cell_type": "code",
   "execution_count": null,
   "metadata": {
    "scrolled": false
   },
   "outputs": [],
   "source": [
    "import skimage\n",
    "blurred = skimage.filters.gaussian(\n",
    "    avgT[t,i,:,:], sigma=(3, 3))\n",
    "plt.imshow(blurred,cmap='gray')"
   ]
  },
  {
   "cell_type": "code",
   "execution_count": null,
   "metadata": {},
   "outputs": [],
   "source": [
    "from mpl_toolkits.axes_grid1 import AxesGrid\n",
    "import matplotlib\n",
    "def shiftedColorMap(cmap, start=0, midpoint=0.5, stop=1.0, name='shiftedcmap'):\n",
    "    '''\n",
    "    Function to offset the \"center\" of a colormap. Useful for\n",
    "    data with a negative min and positive max and you want the\n",
    "    middle of the colormap's dynamic range to be at zero\n",
    "\n",
    "    Input\n",
    "    -----\n",
    "      cmap : The matplotlib colormap to be altered\n",
    "      start : Offset from lowest point in the colormap's range.\n",
    "          Defaults to 0.0 (no lower ofset). Should be between\n",
    "          0.0 and `midpoint`.\n",
    "      midpoint : The new center of the colormap. Defaults to \n",
    "          0.5 (no shift). Should be between 0.0 and 1.0. In\n",
    "          general, this should be  1 - vmax/(vmax + abs(vmin))\n",
    "          For example if your data range from -15.0 to +5.0 and\n",
    "          you want the center of the colormap at 0.0, `midpoint`\n",
    "          should be set to  1 - 5/(5 + 15)) or 0.75\n",
    "      stop : Offset from highets point in the colormap's range.\n",
    "          Defaults to 1.0 (no upper ofset). Should be between\n",
    "          `midpoint` and 1.0.\n",
    "    '''\n",
    "    cdict = {\n",
    "        'red': [],\n",
    "        'green': [],\n",
    "        'blue': [],\n",
    "        'alpha': []\n",
    "    }\n",
    "\n",
    "    # regular index to compute the colors\n",
    "    reg_index = np.linspace(start, stop, 257)\n",
    "\n",
    "    # shifted index to match the data\n",
    "    shift_index = np.hstack([\n",
    "        np.linspace(0.0, midpoint, 128, endpoint=False), \n",
    "        np.linspace(midpoint, 1.0, 129, endpoint=True)\n",
    "    ])\n",
    "\n",
    "    for ri, si in zip(reg_index, shift_index):\n",
    "        r, g, b, a = cmap(ri)\n",
    "\n",
    "        cdict['red'].append((si, r, r))\n",
    "        cdict['green'].append((si, g, g))\n",
    "        cdict['blue'].append((si, b, b))\n",
    "        cdict['alpha'].append((si, a, a))\n",
    "\n",
    "    newcmap = matplotlib.colors.LinearSegmentedColormap(name, cdict)\n",
    "    plt.register_cmap(cmap=newcmap)\n",
    "\n",
    "    return newcmap"
   ]
  },
  {
   "cell_type": "code",
   "execution_count": null,
   "metadata": {},
   "outputs": [],
   "source": [
    "treatName=np.array(['Ablation','Control'])\n",
    "treatNameSimple=np.array(['Abl','Ctr'])"
   ]
  },
  {
   "cell_type": "code",
   "execution_count": null,
   "metadata": {},
   "outputs": [],
   "source": [
    "treat"
   ]
  },
  {
   "cell_type": "code",
   "execution_count": null,
   "metadata": {},
   "outputs": [],
   "source": [
    "levels"
   ]
  },
  {
   "cell_type": "code",
   "execution_count": null,
   "metadata": {
    "scrolled": false
   },
   "outputs": [],
   "source": [
    "pfp.paper()\n",
    "inToCm=2.54\n",
    "trClean=['Ctr','Abl']\n",
    "\n",
    "for i,lev in enumerate(levels):\n",
    "\n",
    "    fig, axes = plt.subplots(2,1,figsize=(1, 2),\n",
    "                            sharex=True, sharey=True)\n",
    "    axes=axes.ravel()\n",
    "    #axesCB=[fig.add_subplot() ]\n",
    "    m=np.nanpercentile(avgT,99.8)\n",
    "    orig_cmap = matplotlib.cm.coolwarm\n",
    "    cmap=shiftedColorMap(orig_cmap,midpoint=1-(m/(m+1)))\n",
    "    trLab=treatName\n",
    "    pal=['r','.4','.2','k']\n",
    "    order=np.array([1,0])\n",
    "    for an,tr in enumerate(treat):\n",
    "\n",
    "        ind=order[an]\n",
    "        im = axes[ind].imshow(avgT[an,i,:,:],clim=[0,m],extent=[-31,31,-31,31],origin='lower',cmap=cmap)\n",
    "        axes[ind].tick_params(axis='y', which='both',length=0)\n",
    "        axes[ind].tick_params(axis='x', which='both',length=0)\n",
    "        axes[ind].set_xticks([])\n",
    "        axes[ind].set_yticks([])\n",
    "        axes[ind].spines['top'].set_color('white')\n",
    "        axes[ind].spines['bottom'].set_color('white')\n",
    "        axes[ind].spines['left'].set_color('white')\n",
    "        axes[ind].spines['right'].set_color('white')\n",
    "        axes[ind].set_ylabel(trClean[ind],labelpad=1)\n",
    "        #axes[ind].text(-30,20,trClean[an])\n",
    "    print(lev)\n",
    "    #plt.show()\n",
    "    plt.subplots_adjust(wspace=0, hspace=0.1)\n",
    "    \n",
    "    cax = fig.add_axes([0.9, 0.53, 0.05, 0.34])\n",
    "    cbar=plt.colorbar(im,cax=cax,ticks=np.round([0,1,5]))\n",
    "    cbar.ax.tick_params(axis='y', direction='inout',pad=2)\n",
    "    axes[ind].text(30,-85,'Neighbor\\ndensity:',rotation=90)\n",
    "    #cbar=plt.colorbar(im,ticks=np.round([0,1,5]))\n",
    "\n",
    "    figPath=FigureDir+'4c_81c_Nmaps_'+lev+'.svg'\n",
    "    fig.savefig(figPath,bbox_inches='tight')\n",
    "    \n",
    "social=df[idxExclude].groupby(['group','episode','animalIndex']).si.mean().reset_index()\n",
    "\n",
    "\n"
   ]
  },
  {
   "cell_type": "code",
   "execution_count": null,
   "metadata": {},
   "outputs": [],
   "source": [
    "social.head()"
   ]
  },
  {
   "cell_type": "code",
   "execution_count": null,
   "metadata": {},
   "outputs": [],
   "source": [
    "\n",
    "quantRange=[20,40]\n",
    "\n"
   ]
  },
  {
   "cell_type": "code",
   "execution_count": null,
   "metadata": {},
   "outputs": [],
   "source": [
    "def mapAversion(NeighborMap,nSamp=24,c=(31,31),l=29):\n",
    "    nSamp=nSamp #number of samples around circle\n",
    "    cx,cy=c[0],c[1] #center of circle\n",
    "    l=l #length of intensity profiles outward from center\n",
    "\n",
    "    samp=np.linspace(0,2*np.pi,nSamp)\n",
    "    maxAll=np.zeros((nSamp,7))\n",
    "    \n",
    "    blurred = skimage.filters.gaussian(\n",
    "    NeighborMap, sigma=(3, 3))\n",
    "    \n",
    "    profileAll=np.zeros((nSamp,l))\n",
    "\n",
    "    for i,s in enumerate(samp):\n",
    "        \n",
    "        a=np.sin(s)*l+cx\n",
    "        b=np.cos(s)*l+cy\n",
    "        profile=skimage.measure.profile_line(NeighborMap, (31,31), (a,b), linewidth=5,mode='reflect')\n",
    "        profileAll[i]=profile[:l]\n",
    "        r=np.argmax(profile)\n",
    "        my=np.sin(s)*r+cx\n",
    "        mx=np.cos(s)*r+cy\n",
    "        mi=np.nanmax(profile)\n",
    "        attraction=r*mi\n",
    "        aversion=attraction-profile[:r].sum()\n",
    "        aversion=aversion/l\n",
    "        dip=mi-np.mean(profile[:2])\n",
    "        maxAll[i]=[mx,my,r,mi,attraction,aversion,dip]\n",
    "        \n",
    "    profile=np.mean(profileAll,axis=0)\n",
    "    r=np.argmax(profile)\n",
    "    my=np.sin(s)*r+cx\n",
    "    mx=np.cos(s)*r+cy\n",
    "    mi=np.nanmax(profile)\n",
    "    attraction=r*mi\n",
    "    aversion=attraction-profile[:r].sum()\n",
    "    aversion=aversion/l\n",
    "    dip=mi-np.mean(profile[:2])\n",
    "\n",
    "    maxMean=[mx,my,r,mi,attraction,aversion,dip]\n",
    "    \n",
    "    return maxAll,maxMean,profileAll"
   ]
  },
  {
   "cell_type": "code",
   "execution_count": null,
   "metadata": {},
   "outputs": [],
   "source": [
    "col=df.groupby('animalIndex').group.first().values#treatment"
   ]
  },
  {
   "cell_type": "code",
   "execution_count": null,
   "metadata": {},
   "outputs": [],
   "source": [
    "df.anIx.unique()"
   ]
  },
  {
   "cell_type": "code",
   "execution_count": null,
   "metadata": {},
   "outputs": [],
   "source": [
    "levels"
   ]
  },
  {
   "cell_type": "code",
   "execution_count": null,
   "metadata": {},
   "outputs": [],
   "source": [
    "levels=df['experiment'].unique()\n",
    "Animals=df['animalIndex'].unique()\n",
    "\n",
    "avgTa=np.zeros((len(Animals),len(levels),allMaps.shape[3],allMaps.shape[4]))\n",
    "avgTCa=np.zeros((len(Animals),len(levels),allMaps.shape[3],allMaps.shape[4]))\n",
    "dfPQ=pd.DataFrame()\n",
    "\n",
    "#fig,ax=plt.subplots(20,7,figsize=(7,20),sharey=True,sharex=True)\n",
    "#ax=ax.ravel()\n",
    "j=0\n",
    "for t,c in enumerate(col):\n",
    "    for i in range(len(levels)):\n",
    "        \n",
    "        ix=np.where((df['episode'].isin(showepis)) &(df['experiment']==levels[i]) & (df['anIx']==t)&idxExclude)[0]\n",
    "        #print(t,c,col[t])\n",
    "        avgTa[t,i,:,:]=np.nanmean(allMaps[ix,0,0,:,:],axis=0)\n",
    "        avgTCa[t,i,:,:]=np.nanmean(allMaps[ix,0,1,:,:],axis=0)"
   ]
  },
  {
   "cell_type": "code",
   "execution_count": null,
   "metadata": {},
   "outputs": [],
   "source": [
    "currentExp='e'#df.iloc[np.where(df['anIx']==t)[0][0]].experiment\n",
    "\n",
    "i=np.where(levels==currentExp)[0][0]\n",
    "i"
   ]
  },
  {
   "cell_type": "code",
   "execution_count": null,
   "metadata": {},
   "outputs": [],
   "source": [
    "levels=df['experiment'].unique()\n",
    "Animals=df['animalIndex'].unique()\n",
    "\n",
    "\n",
    "dfPQ=pd.DataFrame()\n",
    "\n",
    "#fig,ax=plt.subplots(20,7,figsize=(7,20),sharey=True,sharex=True)\n",
    "#ax=ax.ravel()\n",
    "j=0\n",
    "for t,c in enumerate(col):\n",
    "    \n",
    "    currentExp=df.iloc[np.where(df['anIx']==t)[0][0]].experiment\n",
    "    \n",
    "    i=np.where(levels==currentExp)[0][0]\n",
    "    ix=np.where((df['episode'].isin(showepis)) & (df['anIx']==t)&idxExclude)[0]\n",
    "    currentMap=np.nanmean(allMaps[ix,0,0,:,:],axis=0)\n",
    "    #avgTCa[t,i,:,:]=np.nanmean(allMaps[ix,0,1,:,:],axis=0)\n",
    "\n",
    "    blurred = skimage.filters.gaussian(\n",
    "    currentMap, sigma=(3, 3))\n",
    "\n",
    "    #profile=avgTa[t,i,29:31,:].mean(axis=0)\n",
    "    profile=blurred[quantRange[0]:quantRange[1],:].mean(axis=0)\n",
    "\n",
    "    profileC=avgTCa[t,i,quantRange[0]:quantRange[1],:].mean(axis=0)\n",
    "    profileSub=profile/profileC\n",
    "    mid=profile[quantRange[0]:quantRange[1]].mean()\n",
    "    high=np.nanpercentile(profile,95)\n",
    "    mid1=28\n",
    "    mid2=33\n",
    "    center=np.nanmean(profile[mid1:mid2])\n",
    "    ma=mapAversion(avgTa[t,i])\n",
    "    #aversion=ma[0].mean(axis=0)[5]\n",
    "    #radius=ma.mean(axis=0)[2]\n",
    "    #dip2=ma.mean(axis=0)[6]\n",
    "    aversion=ma[1][5]\n",
    "    radius=ma[1][2]\n",
    "    dip2=ma[1][6]\n",
    "    if j<0:#140:\n",
    "        ax[t,i].imshow(currentMap,cmap='gray',clim=(0,5))\n",
    "        profile=np.median(ma[2],axis=0)\n",
    "        ax[t,i].plot(profile)\n",
    "        ax[t,i].axhline(high,c='r')\n",
    "        ax[t,i].axhline(center,c='k')\n",
    "        ax[t,i].set_title(levels[i]+str(t))\n",
    "        j=j+1\n",
    "    dip=high-center\n",
    "    sub=profileSub[quantRange[0]:quantRange[1]].mean()\n",
    "\n",
    "    #print t,i,{'an':t,'episode':levels[i],'treat':treatment[t],'lo':lo,'high':high}\n",
    "    tmp=pd.DataFrame({'an':[t],\n",
    "                      'episode':levels[i],\n",
    "                      'treat':col[t],\n",
    "                      'mid':[mid],\n",
    "                      'high':[high],\n",
    "                      'sub':[sub],\n",
    "                      'center':[center],\n",
    "                      'dip':[dip],\n",
    "                      'dip2':[dip2],\n",
    "                      'radius':[radius],\n",
    "                     'aversion':[aversion]})\n",
    "    dfPQ=pd.concat([dfPQ,tmp])\n",
    "    #print(t,c,i,sum((df['episode']==levels[i]) & (df['anIx']==t)&idx))"
   ]
  },
  {
   "cell_type": "code",
   "execution_count": null,
   "metadata": {
    "scrolled": false
   },
   "outputs": [],
   "source": [
    "i=1\n",
    "t=11\n",
    "\n",
    "ix=np.where((df['episode'].isin(showepis)) &(df['experiment']==levels[i]) & (df['anIx']==t)&idxExclude)[0]\n",
    "currentMap=np.nanmean(allMaps[ix,0,0,:,:],axis=0)\n",
    "#avgTCa[t,i,:,:]=np.nanmean(allMaps[ix,0,1,:,:],axis=0)\n",
    "\n",
    "blurred = skimage.filters.gaussian(\n",
    "currentMap, sigma=(3, 3))\n",
    "plt.imshow(blurred)"
   ]
  },
  {
   "cell_type": "code",
   "execution_count": null,
   "metadata": {},
   "outputs": [],
   "source": [
    "col"
   ]
  },
  {
   "cell_type": "code",
   "execution_count": null,
   "metadata": {},
   "outputs": [],
   "source": [
    "ma=mapAversion(avgTa[t,i])"
   ]
  },
  {
   "cell_type": "code",
   "execution_count": null,
   "metadata": {},
   "outputs": [],
   "source": [
    "def normGroup(x):\n",
    "    return x.mid-x.mid.values[0]"
   ]
  },
  {
   "cell_type": "code",
   "execution_count": null,
   "metadata": {},
   "outputs": [],
   "source": [
    "dfPQ.groupby(['an']).mean()"
   ]
  },
  {
   "cell_type": "code",
   "execution_count": null,
   "metadata": {},
   "outputs": [],
   "source": [
    "dfPQ.episode.unique()"
   ]
  },
  {
   "cell_type": "code",
   "execution_count": null,
   "metadata": {
    "scrolled": false
   },
   "outputs": [],
   "source": [
    "palSimplePoint=['k','r']\n",
    "ix=(dfPQ.treat!='e')\n",
    "sns.pointplot(data=dfPQ[ix],\n",
    "             x='episode',\n",
    "             hue='treat',\n",
    "             y='aversion',\n",
    "             ci='sd',\n",
    "              join=False,\n",
    "             dodge=0.3,\n",
    "             linestyles=':',\n",
    "             palette=palSimplePoint)\n",
    "\n",
    "sns.stripplot(data=dfPQ[ix],\n",
    "             x='episode',\n",
    "             hue='treat',\n",
    "             y='aversion',\n",
    "             dodge=0.3,\n",
    "              alpha=0.5,\n",
    "             linestyles=':',\n",
    "             palette=palSimplePoint)"
   ]
  },
  {
   "cell_type": "code",
   "execution_count": null,
   "metadata": {},
   "outputs": [],
   "source": [
    "dfPQ.head()"
   ]
  },
  {
   "cell_type": "code",
   "execution_count": null,
   "metadata": {},
   "outputs": [],
   "source": [
    "pfp.paper()\n",
    "fig, ax = plt.subplots(figsize=(2/inToCm,4.5/inToCm))\n",
    "palSimpleBar=['r','gray']\n",
    "\n",
    "ix=(dfPQ.treat!='e')#&(dfPQ.episode.isin(showepis))\n",
    "#ix=(dfPQ.treat!='dummy')&(dfPQ.episode=='07k01f')\n",
    "data=dfPQ[ix]\n"
   ]
  },
  {
   "cell_type": "code",
   "execution_count": null,
   "metadata": {},
   "outputs": [],
   "source": [
    "dataRepulse=data"
   ]
  },
  {
   "cell_type": "code",
   "execution_count": null,
   "metadata": {},
   "outputs": [],
   "source": []
  },
  {
   "cell_type": "code",
   "execution_count": null,
   "metadata": {},
   "outputs": [],
   "source": [
    "data.head()"
   ]
  },
  {
   "cell_type": "code",
   "execution_count": null,
   "metadata": {},
   "outputs": [],
   "source": [
    "treat"
   ]
  },
  {
   "cell_type": "code",
   "execution_count": null,
   "metadata": {},
   "outputs": [],
   "source": [
    "levels=df['experiment'].unique()\n",
    "treat=df['group'].unique()\n",
    "\n",
    "\n",
    "\n",
    "fig, axes = plt.subplots(nrows=2, ncols=3, sharey=True,figsize=(5, 5))\n",
    "m=np.nanpercentile(avgT,95)\n",
    "#trLab=['c','abl']\n",
    "for an,tr in enumerate(treat[:2]):\n",
    "    for i in range(len(levels)):\n",
    "        profile=avgT[an,i,quantRange[0]:quantRange[1],:].mean(axis=0)\n",
    "        high=np.nanpercentile(profile,90)\n",
    "        mid1=28\n",
    "        mid2=33\n",
    "        mid=np.nanmean(profile[mid1:mid2])\n",
    "        axes[an,i].plot(profile)\n",
    "        axes[an,i].set_title('a:'+str(an)+trLab[an]+ 's:'+levels[i][-4:],fontsize=10)\n",
    "        axes[an,i].axvline(mid1)\n",
    "        axes[an,i].axvline(mid2)\n",
    "        axes[an,i].axhline(high,c='r')\n",
    "        axes[an,i].axhline(mid,c='k')"
   ]
  },
  {
   "cell_type": "code",
   "execution_count": null,
   "metadata": {},
   "outputs": [],
   "source": [
    "levels"
   ]
  },
  {
   "cell_type": "code",
   "execution_count": null,
   "metadata": {},
   "outputs": [],
   "source": []
  },
  {
   "cell_type": "code",
   "execution_count": null,
   "metadata": {},
   "outputs": [],
   "source": []
  },
  {
   "cell_type": "code",
   "execution_count": null,
   "metadata": {},
   "outputs": [],
   "source": []
  },
  {
   "cell_type": "code",
   "execution_count": null,
   "metadata": {},
   "outputs": [],
   "source": []
  },
  {
   "cell_type": "code",
   "execution_count": null,
   "metadata": {},
   "outputs": [],
   "source": []
  },
  {
   "cell_type": "markdown",
   "metadata": {},
   "source": [
    "# Loom analysis"
   ]
  },
  {
   "cell_type": "code",
   "execution_count": null,
   "metadata": {},
   "outputs": [],
   "source": [
    "dfTmp=pd.read_csv(posPath[0],\n",
    "               delim_whitespace=True,\n",
    "               header=None,\n",
    "               nrows=5)\n"
   ]
  },
  {
   "cell_type": "code",
   "execution_count": null,
   "metadata": {},
   "outputs": [],
   "source": [
    "dfTmp\n"
   ]
  },
  {
   "cell_type": "code",
   "execution_count": null,
   "metadata": {},
   "outputs": [],
   "source": [
    "posPath"
   ]
  },
  {
   "cell_type": "code",
   "execution_count": null,
   "metadata": {},
   "outputs": [],
   "source": [
    "dfTmp1=pd.read_csv(posPath[0],\n",
    "               delim_whitespace=True,\n",
    "               header=None,\n",
    "               nrows=5)\n",
    "\n",
    "dfTmp=pd.read_csv(posPath[0],\n",
    "               delim_whitespace=True,\n",
    "               header=None,\n",
    "               usecols=[dfTmp1.shape[1]-1],\n",
    "                  names=['episode'])\n",
    "\n",
    "CLstart=np.where(dfTmp.episode.str.find('CLfull001L')!=-1)[0]\n",
    "CLstart"
   ]
  },
  {
   "cell_type": "code",
   "execution_count": null,
   "metadata": {},
   "outputs": [],
   "source": [
    "useCols=np.append(np.arange(2,3*nrAnimalsPerDish,3),nrAnimalsPerDish*3+3)\n",
    "useCols"
   ]
  },
  {
   "cell_type": "code",
   "execution_count": null,
   "metadata": {},
   "outputs": [],
   "source": [
    "clEpiLen=90*30\n",
    "nStim=16\n",
    "clCycle=clEpiLen*nStim\n",
    "cycles=7\n",
    "nStimTotal=nStim*cycles\n",
    "\n",
    "cycles*clCycle/60/30\n",
    "print('clEpiLen:',clEpiLen)\n",
    "print('nStimTotal:',nStimTotal)"
   ]
  },
  {
   "cell_type": "code",
   "execution_count": null,
   "metadata": {},
   "outputs": [],
   "source": [
    "colNames=np.append(df.animalIndex.unique(),'episode')\n",
    "colNames"
   ]
  },
  {
   "cell_type": "code",
   "execution_count": null,
   "metadata": {},
   "outputs": [],
   "source": [
    "posPath"
   ]
  },
  {
   "cell_type": "code",
   "execution_count": null,
   "metadata": {},
   "outputs": [],
   "source": [
    "dfTmp=pd.DataFrame()\n",
    "\n",
    "#for pp,i in enumerate([0,1,3]):\n",
    "#for pp,i in enumerate([2,4]):\n",
    "\n",
    "startAn=0\n",
    "for i,pp in enumerate(posPath):\n",
    "    \n",
    "    nrAnimalsPerDish=info.anPdish.values[i]\n",
    "    print(pp,nrAnimalsPerDish,' animals per setup')\n",
    "    \n",
    "    dfTmp1=pd.read_csv(posPath[i],\n",
    "               delim_whitespace=True,\n",
    "               header=None,\n",
    "               nrows=5)\n",
    "\n",
    "    dfTmp2=pd.read_csv(posPath[i],\n",
    "                   delim_whitespace=True,\n",
    "                   header=None,\n",
    "                   usecols=[dfTmp1.shape[1]-1],\n",
    "                      names=['episode'])\n",
    "\n",
    "    CLstart=np.where(dfTmp2.episode.str.find('CLfull001L')!=-1)[0]\n",
    "    \n",
    "    \n",
    "    \n",
    "    \n",
    "    \n",
    "    indArr=[np.append(np.repeat(df.animalIndex.unique()[startAn:startAn+nrAnimalsPerDish],3),\n",
    "                      ['StimX','StimY','StimSize','epi']).tolist(),\n",
    "            np.append(np.tile(['x','y','o'],nrAnimalsPerDish),['a','b','c','d']).tolist()]\n",
    "    startAn=startAn+nrAnimalsPerDish\n",
    "    \n",
    "    tuples = list(zip(*indArr))\n",
    "    index = pd.MultiIndex.from_tuples(tuples, names=['first', 'second'])\n",
    "    dfCL=pd.read_csv(posPath[i],\n",
    "                  #dtype='int8',\n",
    "               delim_whitespace=True,\n",
    "               header=None,\n",
    "               nrows=cycles*clCycle,\n",
    "               skiprows=CLstart[0],\n",
    "              names=index,\n",
    "                 skip_blank_lines=False,\n",
    "                index_col=np.arange(nrAnimalsPerDish*3,nrAnimalsPerDish*3+4))\n",
    "    dfCL=dfCL.fillna(0)\n",
    "    dfCL.index.names = ['StimX','StimY','StimSize','epi']\n",
    "    dfCL['epFrame']=np.tile(np.arange(clEpiLen),nStimTotal)\n",
    "    dfCL['epNr']=np.repeat(np.arange(nStimTotal),clEpiLen)\n",
    "    dfCL.set_index([dfCL.index,'epFrame','epNr'],inplace=True)\n",
    "    dfCL=dfCL.stack(level=0,\n",
    "               dropna=False).reset_index()\n",
    "    dfCL.rename(columns={'level_6':'animalID'}, inplace=True)\n",
    "\n",
    "    dfCL.sort_values(by=['animalID','epNr','epFrame'],inplace=True)\n",
    "    dfCL=dfCL.reset_index()\n",
    "\n",
    "    keepFrames=np.arange(100,250,1)\n",
    "    print('dfCL.shape',dfCL.shape)\n",
    "    ix=dfCL.epFrame.isin(keepFrames)\n",
    "    dfCL=dfCL[ix].reset_index()\n",
    "    print('dfCL.shape NEW',dfCL.shape)\n",
    "    dfTmp=pd.concat([dfTmp,dfCL])"
   ]
  },
  {
   "cell_type": "code",
   "execution_count": null,
   "metadata": {},
   "outputs": [],
   "source": [
    "dfCL=dfTmp\n",
    "dfCL.animalID=dfCL.animalID.astype('int')"
   ]
  },
  {
   "cell_type": "code",
   "execution_count": null,
   "metadata": {},
   "outputs": [],
   "source": [
    "dfCL.animalID.unique()"
   ]
  },
  {
   "cell_type": "code",
   "execution_count": null,
   "metadata": {},
   "outputs": [],
   "source": [
    "dfCL['xDiff']=dfCL.groupby(['animalID','epNr']).x.diff()\n",
    "dfCL['yDiff']=dfCL.groupby(['animalID','epNr']).y.diff()\n",
    "dfCL.tail()"
   ]
  },
  {
   "cell_type": "code",
   "execution_count": null,
   "metadata": {},
   "outputs": [],
   "source": [
    "dfCL['dist']=np.sqrt(dfCL.xDiff**2+dfCL.yDiff**2)\n",
    "dfCL.head()"
   ]
  },
  {
   "cell_type": "code",
   "execution_count": null,
   "metadata": {},
   "outputs": [],
   "source": [
    "plt.hist(dfCL.dist,np.linspace(0,700,30));\n",
    "\n",
    "plt.yscale('log')\n",
    "np.sum(dfCL.dist>100)"
   ]
  },
  {
   "cell_type": "code",
   "execution_count": null,
   "metadata": {},
   "outputs": [],
   "source": [
    "dfCL['distClean']=dfCL.dist\n",
    "dfCL.loc[dfCL.dist>100,'distClean']=0"
   ]
  },
  {
   "cell_type": "code",
   "execution_count": null,
   "metadata": {},
   "outputs": [],
   "source": [
    "plt.plot(dfCL.groupby('epFrame').dist.mean())\n",
    "plt.plot(dfCL.groupby('epFrame').distClean.mean(),'k')"
   ]
  },
  {
   "cell_type": "code",
   "execution_count": null,
   "metadata": {},
   "outputs": [],
   "source": [
    "#helper functions to convert cartesian coordinates to polar and back. Used to rotate trajectories around origin\n",
    "def cart2pol(x, y):\n",
    "    theta = np.arctan2(y, x)\n",
    "    rho = np.hypot(x, y)\n",
    "    return theta, rho\n",
    "def pol2cart(theta, rho):\n",
    "    x = rho * np.cos(theta)\n",
    "    y = rho * np.sin(theta)\n",
    "    return x, y\n",
    "\n",
    "def rotateTrajectories(df):\n",
    "    trajectoryLen=150\n",
    "    dotStart=150\n",
    "    totalTrials=df.shape[0]/trajectoryLen\n",
    "\n",
    "    startIndex=df.epFrame==dotStart\n",
    "    startX=np.repeat(df.x[startIndex].values,trajectoryLen)\n",
    "    startY=np.repeat(df.y[startIndex].values,trajectoryLen)\n",
    "    startO=np.repeat(df.o[startIndex].values,trajectoryLen)\n",
    "    df['xOriginal']=df.x\n",
    "    df['yOriginal']=df.y\n",
    "\n",
    "    x=df[['x','StimX']]-np.tile(startX,(2,1)).T\n",
    "    y=df[['y','StimY']]-np.tile(startY,(2,1)).T\n",
    "    traT,traR=cart2pol(x.values,y.values)\n",
    "    traTn=(traT-np.tile(startO,(2,1)).T)+np.tile((np.pi/2.),(2,1)).T\n",
    "    x,y=pol2cart(traTn,traR)\n",
    "    \n",
    "    #t1=(-2*df.l+1).astype(int)\n",
    "    #t1=np.tile(t1,(2,1)).T\n",
    "    #x=t1*x\n",
    "    df[['x','StimX']]=x\n",
    "    df[['y','StimY']]=y\n",
    "    \n",
    "    df['front']=1*(df.y>0) # animal position forwards relative to dot start.\n",
    "    r,t=cart2pol(df.x.values,df.y.values)\n",
    "    df['r']=r #r indicates rho - angle from origin to current position.\n",
    "    df['centerDist']=t #distance from origin.\n",
    "    return df"
   ]
  },
  {
   "cell_type": "code",
   "execution_count": null,
   "metadata": {},
   "outputs": [],
   "source": [
    "dfCLrot=rotateTrajectories(dfCL)"
   ]
  },
  {
   "cell_type": "code",
   "execution_count": null,
   "metadata": {},
   "outputs": [],
   "source": [
    "dfCLrot.animalID=dfCLrot.animalID.astype('int')"
   ]
  },
  {
   "cell_type": "code",
   "execution_count": null,
   "metadata": {},
   "outputs": [],
   "source": [
    "infoAn.head()"
   ]
  },
  {
   "cell_type": "code",
   "execution_count": null,
   "metadata": {},
   "outputs": [],
   "source": [
    "dfCLrot=pd.merge(dfCLrot,infoAn[['anNr','line','group']],left_on='animalID',right_on='anNr',how='left')\n",
    "dfCLrot=dfCLrot[~dfCLrot.animalID.isin(excludeAnimals)]\n",
    "dfCLrot.head()"
   ]
  },
  {
   "cell_type": "code",
   "execution_count": null,
   "metadata": {},
   "outputs": [],
   "source": [
    "dfCLrot.epi.unique()"
   ]
  },
  {
   "cell_type": "code",
   "execution_count": null,
   "metadata": {},
   "outputs": [],
   "source": [
    "dfCLrot"
   ]
  },
  {
   "cell_type": "code",
   "execution_count": null,
   "metadata": {},
   "outputs": [],
   "source": [
    "ix=(dfCLrot.epFrame==175)&(dfCLrot.epi=='CLfull001L')\n",
    "plt.plot(dfCLrot[ix].groupby(['animalID','epi']).centerDist.mean().unstack(),'.')"
   ]
  },
  {
   "cell_type": "code",
   "execution_count": null,
   "metadata": {},
   "outputs": [],
   "source": [
    "dfCLrot.animalID.unique()"
   ]
  },
  {
   "cell_type": "code",
   "execution_count": null,
   "metadata": {},
   "outputs": [],
   "source": [
    "fig, axes = plt.subplots(3,3,figsize=(10, 10),sharey=True,sharex=True)\n",
    "axes=axes.ravel()\n",
    "\n",
    "epiList=dfCLrot.epi.unique()[::2]\n",
    "\n",
    "for i,e in enumerate(epiList):\n",
    "    ix=(dfCLrot.epi==e)&(dfCLrot.epFrame<175)&(dfCLrot.epFrame>150)&(dfCLrot.group=='ctr')\n",
    "    axes[i].plot(dfCLrot[ix].groupby(['epFrame','epi']).centerDist.mean().unstack(),'k-.')\n",
    "    ix=(dfCLrot.epi==e)&(dfCLrot.epFrame<175)&(dfCLrot.epFrame>150)&(dfCLrot.group=='abl')\n",
    "    axes[i].plot(dfCLrot[ix].groupby(['epFrame','epi']).centerDist.mean().unstack(),'r-.')\n",
    "    ix=(dfCLrot.epi==e)&(dfCLrot.epFrame<175)&(dfCLrot.epFrame>150)&(dfCLrot.group=='e')\n",
    "    axes[i].plot(dfCLrot[ix].groupby(['epFrame','epi']).centerDist.mean().unstack(),'g-.')\n",
    "    axes[i].set_title(e)\n",
    "\n",
    "\n",
    "#plt.xlim([150,175])"
   ]
  },
  {
   "cell_type": "code",
   "execution_count": null,
   "metadata": {},
   "outputs": [],
   "source": [
    "fig, axes = plt.subplots(3,3,figsize=(10, 10),sharey=True,sharex=True)\n",
    "axes=axes.ravel()\n",
    "\n",
    "epiList=dfCLrot.epi.unique()[::2]\n",
    "\n",
    "for i,e in enumerate(epiList):\n",
    "    ix=(dfCLrot.epi==e)&(dfCLrot.epFrame<175)&(dfCLrot.epFrame>150)&(dfCLrot.group=='ctr')\n",
    "    #axes[i].plot(dfCLrot[ix].groupby(['epFrame','epi']).centerDist.mean().unstack(),'k-.')\n",
    "    sns.pointplot(data=dfCLrot[ix],x='epFrame',y='centerDist',ax=axes[i],color='k',ci='sd')\n",
    "    ix=(dfCLrot.epi==e)&(dfCLrot.epFrame<175)&(dfCLrot.epFrame>150)&(dfCLrot.group=='abl')\n",
    "    sns.pointplot(data=dfCLrot[ix],x='epFrame',y='centerDist',ax=axes[i],color='r',ci='sd')\n",
    "    #axes[i].plot(dfCLrot[ix].groupby(['epFrame','epi']).centerDist.mean().unstack(),'r-.')\n",
    "    ix=(dfCLrot.epi==e)&(dfCLrot.epFrame<175)&(dfCLrot.epFrame>150)&(dfCLrot.group=='e')\n",
    "    sns.pointplot(data=dfCLrot[ix],x='epFrame',y='centerDist',ax=axes[i],color='g',ci='sd')\n",
    "    axes[i].set_title(e)\n",
    "\n",
    "\n",
    "#plt.xlim([150,175])"
   ]
  },
  {
   "cell_type": "code",
   "execution_count": null,
   "metadata": {},
   "outputs": [],
   "source": [
    "dfCLrot.animalID=dfCLrot.animalID.astype('int')"
   ]
  },
  {
   "cell_type": "code",
   "execution_count": null,
   "metadata": {},
   "outputs": [],
   "source": [
    "fig, axes = plt.subplots(2,2,figsize=(11, 11),sharey=True,sharex=True)\n",
    "axes=axes.ravel()\n",
    "\n",
    "ix=(dfCLrot.epi=='CLfull035R')&(dfCLrot.epFrame<200)&(dfCLrot.epFrame>150)&(dfCLrot.group=='ctr')\n",
    "axes[0].scatter(dfCLrot[ix].x,dfCLrot[ix].y,s=2,alpha=.3)\n",
    "\n",
    "ix=(dfCLrot.epi=='CLfull035L')&(dfCLrot.epFrame<200)&(dfCLrot.epFrame>150)&(dfCLrot.group=='ctr')\n",
    "axes[1].scatter(dfCLrot[ix].x,dfCLrot[ix].y,s=2,alpha=.3)\n",
    "\n",
    "ix=(dfCLrot.epi=='CLfull035R')&(dfCLrot.epFrame<200)&(dfCLrot.epFrame>150)&(dfCLrot.group=='abl')\n",
    "axes[2].scatter(dfCLrot[ix].x,dfCLrot[ix].y,s=2,alpha=.3)\n",
    "\n",
    "ix=(dfCLrot.epi=='CLfull035L')&(dfCLrot.epFrame<200)&(dfCLrot.epFrame>150)&(dfCLrot.group=='abl')\n",
    "axes[3].scatter(dfCLrot[ix].x,dfCLrot[ix].y,s=2,alpha=.3)\n",
    "\n",
    "#ix=(dfEarly.l==0)&(dfEarly.treatment==0)\n",
    "#axes[0].scatter(dfEarly[ix].x,dfEarly[ix].y,s=2)\n",
    "\n",
    "#ix=(dfEarly.l==1)&(dfEarly.treatment==1)\n",
    "#axes[1].scatter(dfEarly[ix].x,dfEarly[ix].y,s=2)\n",
    "#ix=(dfEarly.l==0)&(dfEarly.treatment==1)\n",
    "#axes[1].scatter(dfEarly[ix].x,dfEarly[ix].y,s=2)\n",
    "\n",
    "for ax in axes:\n",
    "    ax.axhline(0,c='k')\n",
    "    ax.axvline(0,c='k')"
   ]
  },
  {
   "cell_type": "code",
   "execution_count": null,
   "metadata": {},
   "outputs": [],
   "source": [
    "fig, axes = plt.subplots(2,2,figsize=(11, 11),sharey=True,sharex=True)\n",
    "axes=axes.ravel()\n",
    "\n",
    "ix=(dfCLrot.epi=='CLfull015R')&(dfCLrot.epFrame<200)&(dfCLrot.epFrame>150)&(dfCLrot.group=='ctr')\n",
    "axes[0].scatter(dfCLrot[ix].x,dfCLrot[ix].y,s=2,alpha=.3)\n",
    "\n",
    "ix=(dfCLrot.epi=='CLfull015L')&(dfCLrot.epFrame<200)&(dfCLrot.epFrame>150)&(dfCLrot.group=='ctr')\n",
    "axes[1].scatter(dfCLrot[ix].x,dfCLrot[ix].y,s=2,alpha=.3)\n",
    "\n",
    "ix=(dfCLrot.epi=='CLfull015R')&(dfCLrot.epFrame<200)&(dfCLrot.epFrame>150)&(dfCLrot.group=='abl')\n",
    "axes[2].scatter(dfCLrot[ix].x,dfCLrot[ix].y,s=2,alpha=.3)\n",
    "\n",
    "ix=(dfCLrot.epi=='CLfull015L')&(dfCLrot.epFrame<200)&(dfCLrot.epFrame>150)&(dfCLrot.group=='abl')\n",
    "axes[3].scatter(dfCLrot[ix].x,dfCLrot[ix].y,s=2,alpha=.3)\n",
    "\n",
    "#ix=(dfEarly.l==0)&(dfEarly.treatment==0)\n",
    "#axes[0].scatter(dfEarly[ix].x,dfEarly[ix].y,s=2)\n",
    "\n",
    "#ix=(dfEarly.l==1)&(dfEarly.treatment==1)\n",
    "#axes[1].scatter(dfEarly[ix].x,dfEarly[ix].y,s=2)\n",
    "#ix=(dfEarly.l==0)&(dfEarly.treatment==1)\n",
    "#axes[1].scatter(dfEarly[ix].x,dfEarly[ix].y,s=2)\n",
    "\n",
    "for ax in axes:\n",
    "    ax.axhline(0,c='k')\n",
    "    ax.axvline(0,c='k')"
   ]
  },
  {
   "cell_type": "markdown",
   "metadata": {},
   "source": [
    "## sometimes there are tracking errors in one of the experiment. remove unrealistic centroid jumps..."
   ]
  },
  {
   "cell_type": "code",
   "execution_count": null,
   "metadata": {},
   "outputs": [],
   "source": [
    "fig, axes = plt.subplots(1,2,figsize=(11, 11),sharey=True,sharex=True)\n",
    "\n",
    "ix=(dfCLrot.group=='ctr')&(dfCLrot.epFrame<200)&(dfCLrot.epFrame>150)\n",
    "cmap=sns.diverging_palette(240, 10, n=16)\n",
    "hues=dfCLrot.epi.unique()[np.array([14,12,10,8,6,4,2,0,1,3,5,7,9,11,13,15])]\n",
    "sns.pointplot(data=dfCLrot[ix],x='epFrame',y='x',hue='epi',ci=None,palette=cmap,hue_order=hues,ax=axes[0])\n",
    "\n",
    "ix=(dfCLrot.group=='abl')&(dfCLrot.epFrame<200)&(dfCLrot.epFrame>150)\n",
    "\n",
    "sns.pointplot(data=dfCLrot[ix],x='epFrame',y='x',hue='epi',ci=None,palette=cmap,hue_order=hues,ax=axes[1])"
   ]
  },
  {
   "cell_type": "code",
   "execution_count": null,
   "metadata": {},
   "outputs": [],
   "source": [
    "sfLoomSpeed=dfCL.groupby(['animalID','epi','epFrame','epNr']).distClean.mean().reset_index()\n",
    "sfLoomSpeed.head()"
   ]
  },
  {
   "cell_type": "code",
   "execution_count": null,
   "metadata": {},
   "outputs": [],
   "source": [
    "fig, axes = plt.subplots(15,10,figsize=(15, 20))\n",
    "axes=axes.ravel()\n",
    "for i,a in enumerate(sfLoomSpeed.animalID.unique()):\n",
    "    ix=(sfLoomSpeed.animalID==a)\n",
    "    tmp=sfLoomSpeed[ix]\n",
    "    axes[i].imshow(tmp.pivot_table(index='epFrame',columns='epi',values='distClean').values[50:100].T,\n",
    "        clim=[0,15],\n",
    "        cmap='RdBu_r',\n",
    "        aspect='auto')\n",
    "    #axes[i].set_title(str(a))\n",
    "\n"
   ]
  },
  {
   "cell_type": "code",
   "execution_count": null,
   "metadata": {},
   "outputs": [],
   "source": []
  },
  {
   "cell_type": "code",
   "execution_count": null,
   "metadata": {},
   "outputs": [],
   "source": [
    "a=sfLoomSpeed.animalID.unique()[4]\n",
    "\n",
    "ix=(sfLoomSpeed.animalID==a)\n",
    "tmp=sfLoomSpeed[ix]\n",
    "tmp.epi=[x[:-1] for x in tmp.epi]\n",
    "tmp2=tmp.pivot_table(index='epFrame',columns='epi',values='distClean')\n",
    "tmp2.plot()"
   ]
  },
  {
   "cell_type": "code",
   "execution_count": null,
   "metadata": {},
   "outputs": [],
   "source": [
    "keepStart=np.array([100,140])\n",
    "keepLate=-1\n",
    "ix=(dfCL.epFrame.isin(keepStart))&(dfCL.epNr>keepLate)\n",
    "dfBL=dfCL[ix]\n",
    "dfBL['xDiff']=dfBL.groupby(['animalID','epNr']).x.diff()\n",
    "dfBL['yDiff']=dfBL.groupby(['animalID','epNr']).y.diff()\n",
    "dfBL['distClean']=np.sqrt(dfBL.xDiff**2+dfBL.yDiff**2)\n",
    "dfBL=dfBL[dfBL.epFrame==keepStart[1]]\n",
    "\n",
    "print(dfBL.shape)\n",
    "dfBL.head()"
   ]
  },
  {
   "cell_type": "code",
   "execution_count": null,
   "metadata": {},
   "outputs": [],
   "source": [
    "keepEnd=np.array([149,180])\n",
    "keepLate=-1\n",
    "ix=(dfCL.epFrame.isin(keepEnd))&(dfCL.epNr>keepLate)\n",
    "dfResp=dfCL[ix]\n",
    "dfResp['xDiff']=dfResp.groupby(['animalID','epNr']).x.diff()\n",
    "dfResp['yDiff']=dfResp.groupby(['animalID','epNr']).y.diff()\n",
    "dfResp['distClean']=np.sqrt(dfResp.xDiff**2+dfResp.yDiff**2)\n",
    "dfResp=dfResp[dfResp.epFrame==keepEnd[1]]\n",
    "\n",
    "print(dfResp.shape)\n",
    "dfResp.head()"
   ]
  },
  {
   "cell_type": "code",
   "execution_count": null,
   "metadata": {},
   "outputs": [],
   "source": [
    "tmp=dfResp.distClean.values/dfBL.distClean.values\n",
    "tmp[~np.isfinite(tmp)]=0\n",
    "plt.hist(tmp,bins=np.linspace(0,5,20))"
   ]
  },
  {
   "cell_type": "code",
   "execution_count": null,
   "metadata": {},
   "outputs": [],
   "source": [
    "dfResp['escape']=tmp>2\n",
    "dfResp['epiSimple']=[x[:-1] for x in dfResp.epi]\n",
    "dfResp.head()"
   ]
  },
  {
   "cell_type": "code",
   "execution_count": null,
   "metadata": {},
   "outputs": [],
   "source": [
    "dfResp.animalID=dfResp.animalID.astype('int')\n",
    "dfResp=pd.merge(dfResp,infoAn[['anNr','line','group']],left_on='animalID',right_on='anNr',how='left')\n",
    "dfResp.head()"
   ]
  },
  {
   "cell_type": "code",
   "execution_count": null,
   "metadata": {},
   "outputs": [],
   "source": [
    "dfResp.sort_values(by='epiSimple',inplace=True)\n",
    "dfResp['size']=[int(x[-3:-1])/(1280/600) for x in dfResp.epi]\n",
    "\n",
    "dfResp.tail()"
   ]
  },
  {
   "cell_type": "code",
   "execution_count": null,
   "metadata": {},
   "outputs": [],
   "source": [
    "dfResp.line.unique()"
   ]
  },
  {
   "cell_type": "code",
   "execution_count": null,
   "metadata": {},
   "outputs": [],
   "source": [
    "fig, axes = plt.subplots(figsize=(3, 3))\n",
    "sns.set_palette('viridis',1)\n",
    "\n",
    "ix=dfResp.group.isin(['abl','ctr'])\n",
    "data=dfResp[ix].groupby(['animalID','epiSimple','group']).escape.mean().reset_index()\n",
    "\n",
    "sns.pointplot(data=data,\n",
    "              x='epiSimple',\n",
    "              y='escape',\n",
    "              hue='group',\n",
    "              estimator=np.nanmean,\n",
    "             dodge=True,\n",
    "             ci='sd')\n",
    "\n",
    "#plt.xticks(rotation=90);\n",
    "plt.ylabel('Escape fraction')\n",
    "plt.xlabel('Loom size (units?)')\n",
    "loomSizes=np.array([0,5,10,15,20,25,30,35])\n",
    "axes.set_xticklabels(loomSizes)\n",
    "plt.legend(frameon=False)\n",
    "#plt.ylim([-.02,.79])\n",
    "sns.despine()"
   ]
  },
  {
   "cell_type": "code",
   "execution_count": null,
   "metadata": {},
   "outputs": [],
   "source": [
    "plt.rcParams['svg.fonttype'] = 'none'\n",
    "fig,axes = plt.subplots(figsize=(3/inToCm,4/inToCm))\n",
    "sns.set_palette('viridis',1)\n",
    "\n",
    "sns.lineplot(data=dfResp[(dfResp.line=='81cNTR')&(dfResp.group.isin(['abl','ctr']))].groupby(['animalID','size','group']).escape.mean().reset_index(),\n",
    "              x='size',\n",
    "              y='escape',\n",
    "              hue='group',\n",
    "             style='group',\n",
    "             hue_order=['ctr','abl'],\n",
    "             palette=['k','r'],\n",
    "              estimator=np.nanmean,\n",
    "             #ci='sd',\n",
    "            markers=['.','.'],\n",
    "            #err_style='bars',\n",
    "             #alpha=0.5\n",
    "            )\n",
    "\n",
    "#plt.xticks(rotation=90);\n",
    "plt.ylabel('Escape fraction')\n",
    "plt.xlabel('Loom size (mm)')\n",
    "#loomSizes=[0,5,10,15,20,25,30,35]\n",
    "#axes.set_xticklabels(loomSizes)\n",
    "sns.despine()\n",
    "\n",
    "handles, labels = axes.get_legend_handles_labels()\n",
    "axes.legend(handles=handles[0:], labels=['Ctr','Abl'],frameon=False)\n",
    "plt.title('Looming disc')\n",
    "figPath=FigureDir+'5_MTZ_Loom_escapeFraction.svg'\n",
    "plt.savefig(figPath,bbox_inches='tight')"
   ]
  },
  {
   "cell_type": "code",
   "execution_count": null,
   "metadata": {},
   "outputs": [],
   "source": [
    "plt.plot(loomSizes,2*np.rad2deg(np.arctan((loomSizes/4)/20)),'r.-',label='20mm dist')\n",
    "plt.plot(loomSizes,2*np.rad2deg(np.arctan((loomSizes/4)/5)),'k.-',label='5mm dist')\n",
    "plt.legend()\n",
    "plt.ylabel('visual angle (degrees)')\n",
    "plt.xlabel('loom disc diameter (px)')"
   ]
  },
  {
   "cell_type": "code",
   "execution_count": null,
   "metadata": {},
   "outputs": [],
   "source": [
    "dfResp.animalID.unique()"
   ]
  },
  {
   "cell_type": "code",
   "execution_count": null,
   "metadata": {},
   "outputs": [],
   "source": [
    "\n",
    "ix=(dfResp.group.isin(['abl','ctr']))&(dfResp.epiSimple==\"CLfull035\")&(~dfResp.animalID.isin(excludeAnimals))\n",
    "data=dfResp[ix].groupby(['animalID','group']).escape.mean().reset_index()\n",
    "\n"
   ]
  },
  {
   "cell_type": "code",
   "execution_count": null,
   "metadata": {},
   "outputs": [],
   "source": [
    "dataEscape=data"
   ]
  },
  {
   "cell_type": "code",
   "execution_count": null,
   "metadata": {},
   "outputs": [],
   "source": [
    "print(dataShoal.shape)\n",
    "print(dataEscape.shape)\n",
    "print(dataRepulse.shape)"
   ]
  },
  {
   "cell_type": "code",
   "execution_count": null,
   "metadata": {
    "scrolled": false
   },
   "outputs": [],
   "source": [
    "dataAll=pd.merge(dataShoal,dataRepulse[['aversion','an']],left_on='anIx',right_on='an',how='left')\n",
    "dataAll=pd.merge(dataAll,dataEscape[['escape','animalID']],left_on='animalIndex',right_on='animalID')\n",
    "dataAll"
   ]
  },
  {
   "cell_type": "code",
   "execution_count": null,
   "metadata": {},
   "outputs": [],
   "source": []
  },
  {
   "cell_type": "code",
   "execution_count": null,
   "metadata": {
    "scrolled": false
   },
   "outputs": [],
   "source": [
    "sns.pairplot(data=dataAll,\n",
    "             hue='group',\n",
    "             markers=\"+\",\n",
    "             height=1.5,\n",
    "             vars=['si','avgSpeed_smooth','thigmoIndex','boutDur','aversion','escape']);"
   ]
  },
  {
   "cell_type": "code",
   "execution_count": null,
   "metadata": {},
   "outputs": [],
   "source": [
    "dataAll.head()"
   ]
  },
  {
   "cell_type": "code",
   "execution_count": null,
   "metadata": {},
   "outputs": [],
   "source": [
    "pltExperiments=['d','e','f']\n",
    "\n",
    "for i,e in enumerate(pltExperiments):\n",
    "    ix=(dataAll.episode.isin(showepis))&(dataAll.experiment==e)\n",
    "    dataX=dataAll[ix]\n",
    "    plotGroupComparison(dataX,['ctr','abl'],['si','aversion','avgSpeed_smooth','boutFreq','thigNorm','escape'],\n",
    "                    labels=['Attraction',\n",
    "                            'Short range \\nrepulsion (a.u)',\n",
    "                            'Swim speed (mm/s)',\n",
    "                            'Bout frequency (Hz)',\n",
    "                            'Thigmotaxis',\n",
    "                            \n",
    "                           'Escape fraction'],\n",
    "                       ylims=[[0,.6],[0,.65],[0,10],[0,3],[0,1],[0,1]])"
   ]
  },
  {
   "cell_type": "code",
   "execution_count": null,
   "metadata": {},
   "outputs": [],
   "source": [
    "dataAll.info()"
   ]
  },
  {
   "cell_type": "code",
   "execution_count": null,
   "metadata": {},
   "outputs": [],
   "source": [
    "dataAll[['animalIndex','line','group','si','aversion','avgSpeed_smooth','boutFreq','thigNorm','escape']].to_csv(FigureDir+'f4.csv')\n",
    "FigureDir+'f4.csv'"
   ]
  },
  {
   "cell_type": "code",
   "execution_count": null,
   "metadata": {},
   "outputs": [],
   "source": [
    "srcDat=dataAll[['animalIndex','line','group','si','aversion','avgSpeed_smooth','boutFreq','thigNorm','escape']]\n",
    "srcDat"
   ]
  },
  {
   "cell_type": "code",
   "execution_count": null,
   "metadata": {},
   "outputs": [],
   "source": [
    "srcDat.groupby(['line','group']).si.count()"
   ]
  },
  {
   "cell_type": "code",
   "execution_count": null,
   "metadata": {},
   "outputs": [],
   "source": [
    "pltExperiments=['d','e','f']\n",
    "\n",
    "for i,e in enumerate(pltExperiments):\n",
    "    ix=(dataAll.episode.isin(showepis))&(dataAll.experiment==e)\n",
    "    dataX=dataAll[ix]\n",
    "    plotGroupComparison(dataX,['ctr','abl'],['si','aversion'],\n",
    "                    labels=['Attraction',\n",
    "                            'Short range \\nrepulsion (a.u)'],\n",
    "                       ylims=[[0,.6],[0,.60]],\n",
    "                       legendOffset=2.2)\n",
    "    figPath=FigureDir+'f4_ablationBeh_'+str(i)+'.svg'\n",
    "    plt.savefig(figPath,bbox_inches='tight')"
   ]
  },
  {
   "cell_type": "code",
   "execution_count": null,
   "metadata": {},
   "outputs": [],
   "source": [
    "pltExperiments=['d','e','f']\n",
    "\n",
    "for i,e in enumerate(pltExperiments):\n",
    "    ix=(dataAll.episode.isin(showepis))&(dataAll.experiment==e)\n",
    "    dataX=dataAll[ix]\n",
    "    plotGroupComparison(dataX,['ctr','abl'],['avgSpeed_smooth','boutFreq','thigNorm','escape'],\n",
    "                    labels=[\n",
    "                            'Swim speed (mm/s)',\n",
    "                            'Bout frequency (Hz)',\n",
    "                            'Thigmotaxis',\n",
    "                            \n",
    "                           'Escape fraction'],\n",
    "                       ylims=[[0,10],[0,3],[0,1],[0,1]],\n",
    "                       legendOffset=1.8)\n",
    "    figPath=FigureDir+'f4_ablationCtrBeh_'+str(i)+'.svg'\n",
    "    plt.savefig(figPath,bbox_inches='tight')"
   ]
  },
  {
   "cell_type": "code",
   "execution_count": null,
   "metadata": {},
   "outputs": [],
   "source": [
    "dataAll.head()"
   ]
  },
  {
   "cell_type": "code",
   "execution_count": null,
   "metadata": {},
   "outputs": [],
   "source": [
    "dataAll.groupby(['experiment','group']).animalIndex.count()"
   ]
  },
  {
   "cell_type": "code",
   "execution_count": null,
   "metadata": {},
   "outputs": [],
   "source": [
    "dataAll"
   ]
  },
  {
   "cell_type": "code",
   "execution_count": null,
   "metadata": {},
   "outputs": [],
   "source": [
    "df1020=dataAll[dataAll.experiment=='e']\n",
    "df1020.head()"
   ]
  },
  {
   "cell_type": "code",
   "execution_count": null,
   "metadata": {},
   "outputs": [],
   "source": [
    "df1020['groupFine']=[x[-1] for x in df1020.line]\n",
    "df1020.head()"
   ]
  },
  {
   "cell_type": "code",
   "execution_count": null,
   "metadata": {},
   "outputs": [],
   "source": [
    "pfp.paper()\n",
    "fig, ax = plt.subplots(figsize=(2.5/inToCm,5/inToCm))\n",
    "\n",
    "treatName=np.array(['RFP-MTZ-','RFP-MTZ+','RFP+MTZ-','RFP+MTZ+'])\n",
    "pal=['r','.6','.4','k']\n",
    "\n",
    "pal=np.array(pal)\n",
    "si=df1020.groupby(['groupFine','animalIndex']).si.mean().reset_index()\n",
    "#treatName=np.array(['CTR+MTZ','C81+MTZ'])\n",
    "#si['treatName']=treatName[speed.group.values.astype('int')]\n",
    "sns.pointplot(y=\"si\", \n",
    "            x='groupFine',\n",
    "              hue='groupFine',\n",
    "              #order=treatName[[3,2,1,0]],\n",
    "              #hue_order=treatName[[3,2,1,0]],\n",
    "            data=si,\n",
    "            ax=ax,\n",
    "              #color='k',\n",
    "              zorder=100,\n",
    "              join=False,\n",
    "              scale=.7,\n",
    "            palette=pal[[3,2,1,0]],\n",
    "            linewidth=2,\n",
    "            ci='sd')\n",
    "\n",
    "sns.stripplot(y=\"si\", \n",
    "            x='groupFine',\n",
    "            data=si,\n",
    "            ax=ax,\n",
    "            palette=pal[[3,2,1,0]],\n",
    "              #order=treatName[[3,2,1,0]],\n",
    "              edgecolor='w',\n",
    "            alpha=.5,\n",
    "              linewidth=1,\n",
    "              zorder=-100\n",
    "            )\n",
    "\n",
    "\n",
    "\n",
    "\n",
    "plt.xlabel('')\n",
    "plt.xticks([])\n",
    "plt.ylabel('Attraction')\n",
    "\n",
    "l=ax.legend()\n",
    "h,l = ax.get_legend_handles_labels()\n",
    "ax.legend(h,treatName,frameon=False,ncol=1,\n",
    "         loc=1,bbox_to_anchor=(1.7, 1),title='',\n",
    "                        labelspacing=0,\n",
    "               borderpad=0,\n",
    "               handlelength=0,\n",
    "               columnspacing=2,)   # <<<<<<<< This is where the magic happens\n",
    "\n",
    "plt.ylim([-.1,.6])\n",
    "ax.axhline(0,ls=':',color='k')\n",
    "sns.despine()\n",
    "plt.subplots_adjust(wspace=0, hspace=0)\n",
    "\n",
    "figPath=FigureDir+'S7_1026ControlSplit.svg'\n",
    "plt.savefig(figPath,bbox_inches='tight')"
   ]
  },
  {
   "cell_type": "code",
   "execution_count": null,
   "metadata": {},
   "outputs": [],
   "source": [
    "FigureDir"
   ]
  }
 ],
 "metadata": {
  "kernelspec": {
   "display_name": "Python 3 (ipykernel)",
   "language": "python",
   "name": "python3"
  },
  "language_info": {
   "codemirror_mode": {
    "name": "ipython",
    "version": 3
   },
   "file_extension": ".py",
   "mimetype": "text/x-python",
   "name": "python",
   "nbconvert_exporter": "python",
   "pygments_lexer": "ipython3",
   "version": "3.9.6"
  }
 },
 "nbformat": 4,
 "nbformat_minor": 1
}
